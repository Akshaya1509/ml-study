{
 "cells": [
  {
   "cell_type": "markdown",
   "metadata": {
    "heading_collapsed": true
   },
   "source": [
    "# Pytorch Cheatsheet"
   ]
  },
  {
   "cell_type": "markdown",
   "metadata": {
    "heading_collapsed": true,
    "hidden": true
   },
   "source": [
    "## Overview"
   ]
  },
  {
   "cell_type": "code",
   "execution_count": 13,
   "metadata": {
    "collapsed": false,
    "hidden": true
   },
   "outputs": [
    {
     "ename": "SyntaxError",
     "evalue": "invalid syntax (<ipython-input-13-5efeee96745a>, line 5)",
     "output_type": "error",
     "traceback": [
      "\u001b[0;36m  File \u001b[0;32m\"<ipython-input-13-5efeee96745a>\"\u001b[0;36m, line \u001b[0;32m5\u001b[0m\n\u001b[0;31m    Normal Convolution\u001b[0m\n\u001b[0m                     ^\u001b[0m\n\u001b[0;31mSyntaxError\u001b[0m\u001b[0;31m:\u001b[0m invalid syntax\n"
     ]
    }
   ],
   "source": [
    "* How does a Conv layer impact the size of output feature maps?\n",
    "* How does a Conv Transpose layer impact the size of the output feature maps?\n",
    "* How does padding / stride impact both of the above?\n",
    "\n",
    "Normal Convolution\n",
    "* W2 = (W1 - KS + 2P)/S + 1\n",
    "\n",
    "Convolution Transpose\n",
    "* W2 = S(W1 - 1) + KS - 2P"
   ]
  },
  {
   "cell_type": "markdown",
   "metadata": {
    "heading_collapsed": true,
    "hidden": true
   },
   "source": [
    "## Resources"
   ]
  },
  {
   "cell_type": "code",
   "execution_count": 14,
   "metadata": {
    "collapsed": false,
    "hidden": true
   },
   "outputs": [
    {
     "ename": "SyntaxError",
     "evalue": "can't use starred expression here (<ipython-input-14-5a53398567fd>, line 1)",
     "output_type": "error",
     "traceback": [
      "\u001b[0;36m  File \u001b[0;32m\"<ipython-input-14-5a53398567fd>\"\u001b[0;36m, line \u001b[0;32m1\u001b[0m\n\u001b[0;31m    * ss\u001b[0m\n\u001b[0m        ^\u001b[0m\n\u001b[0;31mSyntaxError\u001b[0m\u001b[0;31m:\u001b[0m can't use starred expression here\n"
     ]
    }
   ],
   "source": [
    "* ss\n",
    "* ss\n",
    "* ss"
   ]
  },
  {
   "cell_type": "markdown",
   "metadata": {
    "heading_collapsed": true,
    "hidden": true
   },
   "source": [
    "## Imports"
   ]
  },
  {
   "cell_type": "code",
   "execution_count": 60,
   "metadata": {
    "collapsed": false,
    "hidden": true
   },
   "outputs": [
    {
     "name": "stderr",
     "output_type": "stream",
     "text": [
      "/home/bfortuner/anaconda3/lib/python3.6/site-packages/matplotlib/__init__.py:1401: UserWarning:  This call to matplotlib.use() has no effect\n",
      "because the backend has already been chosen;\n",
      "matplotlib.use() must be called *before* pylab, matplotlib.pyplot,\n",
      "or matplotlib.backends is imported for the first time.\n",
      "\n",
      "  warnings.warn(_use_error_msg)\n"
     ]
    }
   ],
   "source": [
    "import torch\n",
    "import torch.nn as nn\n",
    "import torch.nn.init as init\n",
    "import torch.optim as optim\n",
    "import torch.nn.functional as F\n",
    "from torch.autograd import Variable\n",
    "import torchvision.datasets as datasets\n",
    "import torchvision.transforms as transforms\n",
    "import torchvision.utils as torch_img_utils\n",
    "from torch.utils.data import DataLoader\n",
    "import torchvision.models as models\n",
    "import torch.backends.cudnn as cudnn\n",
    "import torchvision\n",
    "import torch.autograd as autograd\n",
    "from PIL import Image\n",
    "import imp\n",
    "import os\n",
    "import sys\n",
    "import math\n",
    "import time\n",
    "import random\n",
    "import shutil\n",
    "import cv2\n",
    "import scipy.misc\n",
    "from glob import glob\n",
    "import sklearn\n",
    "\n",
    "from tqdm import tqdm\n",
    "import numpy as np\n",
    "import matplotlib as mpl\n",
    "mpl.use('Agg')\n",
    "import matplotlib.pyplot as plt\n",
    "plt.style.use('bmh')\n",
    "\n",
    "%matplotlib inline"
   ]
  },
  {
   "cell_type": "markdown",
   "metadata": {
    "collapsed": true,
    "heading_collapsed": true
   },
   "source": [
    "# Basics"
   ]
  },
  {
   "cell_type": "markdown",
   "metadata": {
    "hidden": true
   },
   "source": [
    "## Tutorials"
   ]
  },
  {
   "cell_type": "markdown",
   "metadata": {
    "hidden": true
   },
   "source": [
    "* [Official Pytorch Tutorials](http://pytorch.org/tutorials/)\n",
    "* [Pytorch Documentation](http://pytorch.org/docs)"
   ]
  },
  {
   "cell_type": "markdown",
   "metadata": {},
   "source": [
    "# Datasets"
   ]
  },
  {
   "cell_type": "markdown",
   "metadata": {
    "heading_collapsed": true
   },
   "source": [
    "## File Management"
   ]
  },
  {
   "cell_type": "code",
   "execution_count": 16,
   "metadata": {
    "collapsed": false,
    "hidden": true
   },
   "outputs": [],
   "source": [
    "random.seed(1)\n",
    "torch.manual_seed(1)\n",
    "DATA_PATH='/media/bfortuner/bigguy/data/'\n",
    "CUB_PATH=DATA_PATH+'cub/'\n",
    "CUB_IMAGES_PATH=CUB_PATH+'images/'\n",
    "MNIST_PATH=DATA_PATH+'mnist/'\n",
    "MNIST_WEIGHTS_PATH=MNIST_PATH+'weights/'\n",
    "MNIST_RESULTS_PATH='results/'\n",
    "CIFAR10_PATH=DATA_PATH+'cifar10/'\n",
    "CIFAR10_IMGS_PATH=CIFAR10_PATH+'images/'\n",
    "CIFAR10_RESULTS_PATH=CIFAR10_PATH+'results/'\n",
    "CIFAR10_WEIGHTS_PATH=CIFAR10_PATH+'weights/'"
   ]
  },
  {
   "cell_type": "code",
   "execution_count": 17,
   "metadata": {
    "collapsed": true,
    "hidden": true
   },
   "outputs": [],
   "source": [
    "def get_paths_to_files(dir_path):\n",
    "    filepaths = []\n",
    "    fnames = []\n",
    "    for (dirpath, dirnames, filenames) in os.walk(dir_path):\n",
    "        filepaths.extend(os.path.join(dirpath, f) for f in filenames if not f[0] == '.')\n",
    "        fnames.extend([f for f in filenames if not f[0] == '.'])\n",
    "    return filepaths, fnames\n",
    "\n",
    "def get_random_image_path(dir_path):\n",
    "    filepaths = get_paths_to_files(dir_path)[0]\n",
    "    return filepaths[random.randrange(len(filepaths))]"
   ]
  },
  {
   "cell_type": "markdown",
   "metadata": {
    "heading_collapsed": true
   },
   "source": [
    "## MNIST"
   ]
  },
  {
   "cell_type": "code",
   "execution_count": 18,
   "metadata": {
    "collapsed": false,
    "hidden": true
   },
   "outputs": [
    {
     "name": "stdout",
     "output_type": "stream",
     "text": [
      "MNIST Train Samples: 60000\n",
      "MNIST Test Samples: 10000\n"
     ]
    }
   ],
   "source": [
    "MNIST_BATCH_SIZE = 128\n",
    "MNIST_MEAN = np.array([0.1307,])\n",
    "MNIST_STD = np.array([0.3081,])\n",
    "mnist_train_loader = torch.utils.data.DataLoader(\n",
    "    datasets.MNIST(MNIST_PATH, train=True, download=True,\n",
    "                   transform=transforms.Compose([\n",
    "                       transforms.ToTensor(),\n",
    "                       transforms.Normalize(MNIST_MEAN, MNIST_STD)\n",
    "                   ])),\n",
    "    batch_size=MNIST_BATCH_SIZE, shuffle=True)\n",
    "mnist_test_loader = torch.utils.data.DataLoader(\n",
    "    datasets.MNIST(MNIST_PATH, train=False, transform=transforms.Compose([\n",
    "                       transforms.ToTensor(),\n",
    "                       transforms.Normalize(MNIST_MEAN, MNIST_STD)\n",
    "                   ])),\n",
    "    batch_size=MNIST_BATCH_SIZE*8, shuffle=True)\n",
    "\n",
    "mnist_train_labels = mnist_train_loader.dataset.train_labels\n",
    "MNIST_CLASSES = np.unique(mnist_train_labels.numpy())\n",
    "print(\"MNIST Train Samples:\", len(mnist_train_loader.dataset))\n",
    "print(\"MNIST Test Samples:\", len(mnist_test_loader.dataset))"
   ]
  },
  {
   "cell_type": "markdown",
   "metadata": {},
   "source": [
    "## CIFAR10"
   ]
  },
  {
   "cell_type": "code",
   "execution_count": 41,
   "metadata": {
    "collapsed": false
   },
   "outputs": [
    {
     "name": "stdout",
     "output_type": "stream",
     "text": [
      "Files already downloaded and verified\n",
      "Files already downloaded and verified\n",
      "CIFAR Train Samples: 50000\n",
      "CIFAR Test Samples: 10000\n"
     ]
    }
   ],
   "source": [
    "CIFAR_BATCH_SIZE = 64\n",
    "CIFAR_MEAN = np.array([0.49139968, 0.48215827, 0.44653124])\n",
    "CIFAR_STD = np.array([0.24703233, 0.24348505, 0.26158768])\n",
    "normTransform = transforms.Normalize(CIFAR_MEAN, CIFAR_STD)\n",
    "\n",
    "trainTransform = transforms.Compose([\n",
    "    transforms.RandomCrop(32, padding=4),\n",
    "    transforms.RandomHorizontalFlip(),\n",
    "    transforms.ToTensor(),\n",
    "    normTransform\n",
    "])\n",
    "testTransform = transforms.Compose([\n",
    "    transforms.ToTensor(),\n",
    "    normTransform\n",
    "])\n",
    "\n",
    "cifar_train_loader = torch.utils.data.DataLoader(\n",
    "    datasets.CIFAR10(CIFAR10_IMGS_PATH, train=True, download=True,\n",
    "                 transform=trainTransform),\n",
    "    batch_size=CIFAR_BATCH_SIZE, shuffle=True)\n",
    "cifar_test_loader = torch.utils.data.DataLoader(\n",
    "    datasets.CIFAR10(CIFAR10_IMGS_PATH, train=False, download=True,\n",
    "                 transform=testTransform),\n",
    "    batch_size=CIFAR_BATCH_SIZE*16, shuffle=False)\n",
    "\n",
    "cifar_classes = cifar_train_loader.dataset.train_labels\n",
    "CIFAR_CLASSES = np.unique(np.array(cifar_classes))\n",
    "CIFAR_CLASS_NAMES = np.array(['airplane','automobile','bird','cat',\n",
    "                          'deer','dog','frog', 'horse','ship','truck'])\n",
    "print(\"CIFAR Train Samples:\", len(cifar_train_loader.dataset))\n",
    "print(\"CIFAR Test Samples:\", len(cifar_test_loader.dataset))"
   ]
  },
  {
   "cell_type": "markdown",
   "metadata": {},
   "source": [
    "## Swiss Roll"
   ]
  },
  {
   "cell_type": "code",
   "execution_count": 175,
   "metadata": {
    "collapsed": false
   },
   "outputs": [
    {
     "name": "stdout",
     "output_type": "stream",
     "text": [
      "\n",
      " 11.2859  -4.4224\n",
      "  9.7413   9.7744\n",
      " 10.7755  -4.8743\n",
      "  8.2207  10.6784\n",
      " -0.8344 -11.3071\n",
      " -2.7668 -10.5984\n",
      " 11.7795  -3.4875\n",
      " -6.6013  -7.8201\n",
      " -4.7877  -9.2370\n",
      " -6.1006  -8.7008\n",
      " -8.1754  -6.1561\n",
      " -1.8350   7.9860\n",
      "  7.1470  -8.8236\n",
      "  3.5312   6.1914\n",
      " -8.8901  -3.9086\n",
      "  4.7486  -2.7880\n",
      " 10.5335  -6.0866\n",
      "  4.6021  -3.2873\n",
      " -4.6778   7.1029\n",
      " -7.9958   3.1143\n",
      " -9.6130   1.5783\n",
      "  2.0332   7.3880\n",
      " -6.6942  -7.8496\n",
      "  6.5717  -0.2127\n",
      " -0.8685 -11.0825\n",
      "  0.7146  -4.9460\n",
      " -5.1389   6.8356\n",
      "  4.0975  -3.3304\n",
      " -1.4073   7.8709\n",
      "  6.1093   2.4540\n",
      "  2.9354  -4.6179\n",
      " 12.6135   3.1774\n",
      " -9.0066  -3.7590\n",
      "  1.0331 -11.0076\n",
      "  2.1664 -10.9575\n",
      " -8.8992  -4.8085\n",
      "  1.0081  -4.5886\n",
      " -9.3248   0.9309\n",
      " 12.6142   0.2867\n",
      " 11.2504  -4.4437\n",
      "  1.6806 -10.9212\n",
      "  2.0674 -10.7526\n",
      " -0.3842 -10.9054\n",
      " 12.3477  -2.2549\n",
      " -7.3852  -6.8657\n",
      "  2.8458  -4.2350\n",
      " -9.5080  -1.0432\n",
      "  0.1223   7.5927\n",
      " 11.3272   7.3686\n",
      "  9.0065   9.6114\n",
      "  1.5104   7.4256\n",
      " -3.5433  -9.8809\n",
      "  1.4911  13.8762\n",
      "  6.5093   0.4793\n",
      "  1.4910  13.9619\n",
      "  1.9456  -4.5431\n",
      "  0.4149   7.7717\n",
      " -5.3088   6.4350\n",
      " -7.4506   5.2326\n",
      "  9.6120  -7.3555\n",
      " -3.8838   7.3569\n",
      " 11.4464   6.3178\n",
      "  9.7236  -7.0900\n",
      " -5.3181   6.5565\n",
      "  2.8181  -4.5720\n",
      "  3.3429   6.8511\n",
      "  5.1245 -10.2428\n",
      " -7.3599  -7.0429\n",
      "  7.5721  -9.0072\n",
      " -9.5100  -3.0249\n",
      "  0.6974   7.9001\n",
      " -7.5929   4.9205\n",
      " 12.6528  -0.8977\n",
      " -0.3310   8.0990\n",
      "  9.1408   9.6647\n",
      "  4.6480  -3.4762\n",
      "  3.4730  13.5688\n",
      "  0.5727  -4.7259\n",
      "  3.4732   6.5489\n",
      " -2.6653   7.5605\n",
      "  0.3234   7.6561\n",
      "  7.3296  -9.2732\n",
      " 12.1787   3.4578\n",
      " 12.4633   0.0099\n",
      "  7.4134  11.3983\n",
      "  3.9959  -3.8084\n",
      " -0.4861 -10.6528\n",
      "  8.3799  10.2960\n",
      " -8.6356   1.3203\n",
      " -8.6509   2.9220\n",
      "  4.6836  -3.4492\n",
      "  4.3992   5.7833\n",
      "  5.3000  12.8673\n",
      " -0.8171   8.0852\n",
      "  6.0090   3.6254\n",
      "  5.9488   3.5750\n",
      " 11.7524  -2.9543\n",
      " 12.2179   3.6586\n",
      "  0.0826   7.4973\n",
      "  4.9475   4.6845\n",
      "[torch.FloatTensor of size 100x2]\n",
      " \n",
      " 12.2212\n",
      " 13.3307\n",
      " 12.1420\n",
      " 13.4639\n",
      " 10.9256\n",
      " 10.7777\n",
      " 12.2977\n",
      " 10.2653\n",
      " 10.4963\n",
      " 10.3937\n",
      " 10.0933\n",
      "  8.1106\n",
      " 11.6424\n",
      "  7.3446\n",
      "  9.8275\n",
      "  5.7567\n",
      " 12.0565\n",
      "  5.6685\n",
      "  8.4224\n",
      "  9.0444\n",
      "  9.2889\n",
      "  7.5718\n",
      " 10.2733\n",
      "  6.2284\n",
      " 10.8970\n",
      "  4.8360\n",
      "  8.4888\n",
      "  5.5941\n",
      "  8.0269\n",
      "  6.6753\n",
      "  5.2711\n",
      " 12.8198\n",
      "  9.7724\n",
      " 11.0686\n",
      " 11.1698\n",
      "  9.9414\n",
      "  4.8505\n",
      "  9.3045\n",
      " 12.5774\n",
      " 12.2032\n",
      " 11.1461\n",
      " 11.1986\n",
      " 10.9699\n",
      " 12.3941\n",
      " 10.1878\n",
      "  5.2989\n",
      "  9.5466\n",
      "  7.8334\n",
      " 13.1535\n",
      " 13.3903\n",
      "  7.6266\n",
      " 10.6547\n",
      " 14.0359\n",
      "  6.3397\n",
      " 14.0446\n",
      "  5.1886\n",
      "  7.7479\n",
      "  8.5359\n",
      "  8.8331\n",
      " 11.9284\n",
      "  8.3655\n",
      " 13.0527\n",
      " 11.9363\n",
      "  8.5110\n",
      "  5.2547\n",
      "  7.4107\n",
      " 11.4514\n",
      " 10.1761\n",
      " 11.6960\n",
      "  9.7376\n",
      "  7.7544\n",
      "  8.8595\n",
      " 12.4969\n",
      "  7.8691\n",
      " 13.3897\n",
      "  5.6415\n",
      " 13.8964\n",
      "  4.8549\n",
      "  7.3483\n",
      "  8.1738\n",
      "  7.8044\n",
      " 11.7011\n",
      " 12.8480\n",
      " 12.5646\n",
      " 13.5710\n",
      "  5.5411\n",
      " 10.9290\n",
      " 13.4515\n",
      "  9.2675\n",
      "  9.1191\n",
      "  5.6661\n",
      "  7.2119\n",
      " 13.7411\n",
      "  7.9247\n",
      "  6.8484\n",
      "  6.8595\n",
      " 12.3164\n",
      " 12.8608\n",
      "  7.8407\n",
      "  6.9989\n",
      "[torch.DoubleTensor of size 100]\n",
      "\n"
     ]
    },
    {
     "data": {
      "image/png": "[encoded data removed]",
      "text/plain": [
       "<matplotlib.figure.Figure at 0x7f13241b7400>"
      ]
     },
     "metadata": {},
     "output_type": "display_data"
    }
   ],
   "source": [
    "from sklearn.datasets.samples_generator import make_swiss_roll\n",
    "\n",
    "def get_swiss_roll(n_samples=100):\n",
    "    noise = 0.2\n",
    "    X, _ = make_swiss_roll(n_samples, noise)\n",
    "    X = X.astype('float32')[:, [0, 2]]\n",
    "    return X, _\n",
    "\n",
    "def plot_roll(data):\n",
    "    # data.shape = (N, 2)\n",
    "    x = data[:,0]\n",
    "    y = data[:,1]\n",
    "    plt.scatter(x,y)\n",
    "\n",
    "SWISS_ROLL_BATCH_SIZE = 100\n",
    "X, _ = get_swiss_roll(100)\n",
    "swiss_roll_dataset = torch.utils.data.TensorDataset(torch.FloatTensor(X), torch.FloatTensor(_))\n",
    "swiss_roll_loader = torch.utils.data.DataLoader(swiss_roll_dataset, batch_size=SWISS_ROLL_BATCH_SIZE, shuffle=True)\n",
    "    \n",
    "# Test\n",
    "data = get_swiss_roll(1000)[0]\n",
    "plot_roll(data)\n",
    "\n",
    "inputs,targets = next(iter(swiss_roll_loader))\n",
    "print(inputs,targets)"
   ]
  },
  {
   "cell_type": "markdown",
   "metadata": {
    "heading_collapsed": true
   },
   "source": [
    "# Image Handling"
   ]
  },
  {
   "cell_type": "markdown",
   "metadata": {
    "heading_collapsed": true,
    "hidden": true
   },
   "source": [
    "## Preprocessing"
   ]
  },
  {
   "cell_type": "code",
   "execution_count": null,
   "metadata": {
    "collapsed": true,
    "hidden": true
   },
   "outputs": [],
   "source": []
  },
  {
   "cell_type": "markdown",
   "metadata": {
    "heading_collapsed": true,
    "hidden": true
   },
   "source": [
    "## Viewing"
   ]
  },
  {
   "cell_type": "code",
   "execution_count": 42,
   "metadata": {
    "collapsed": false,
    "hidden": true
   },
   "outputs": [
    {
     "data": {
      "image/png": "[encoded data removed]",
      "text/plain": [
       "<matplotlib.figure.Figure at 0x7f1341142278>"
      ]
     },
     "metadata": {},
     "output_type": "display_data"
    }
   ],
   "source": [
    "def imshow(inp, mean_arr, std_arr, title=None):\n",
    "    \"\"\"Imshow for Tensor.\"\"\"\n",
    "    if inp.size(0) == 1:\n",
    "        inp = np.squeeze(inp.numpy())\n",
    "        kwargs = {'cmap':'gray'}\n",
    "    else:\n",
    "        inp = inp.numpy().transpose((1, 2, 0))\n",
    "        kwargs = {}\n",
    "    inp = std_arr * inp + mean_arr\n",
    "    plt.imshow(inp, **kwargs)\n",
    "    if title is not None:\n",
    "        plt.title(title)\n",
    "    plt.pause(0.001)  # pause a bit so that plots are updated\n",
    "\n",
    "def visualize_preds(model, data_loader, class_names, mean_arr, std_arr, num_images=6):\n",
    "    images_so_far = 0\n",
    "    fig = plt.figure()\n",
    "\n",
    "    for i, data in enumerate(data_loader):\n",
    "        inputs, labels = data\n",
    "        inputs, labels = Variable(inputs.cuda()), Variable(labels.cuda())\n",
    "\n",
    "        outputs = model(inputs)\n",
    "        _, preds = torch.max(outputs.data, 1)\n",
    "        preds = preds.cpu().numpy()\n",
    "        labels = labels.data.cpu().numpy()\n",
    "        for j in range(inputs.size()[0]):\n",
    "            images_so_far += 1\n",
    "            ax = plt.subplot(num_images//2, 2, images_so_far)\n",
    "            ax.axis('off')\n",
    "            ax.set_title('P: {}, A:{}'.format(class_names[preds[j][0]], \n",
    "                                              class_names[labels[j]]))\n",
    "            imshow(inputs.cpu().data[j], mean_arr, std_arr)\n",
    "\n",
    "            if images_so_far == num_images:\n",
    "                return\n",
    "        plt.tight_layout()\n",
    "\n",
    "def plot_mnist_samples(arr, dim=(4,4), figsize=(6,6)):\n",
    "    if type(arr) is not np.ndarray:\n",
    "        arr = arr.numpy()\n",
    "    bs = arr.shape[0]\n",
    "    arr = arr.reshape(bs, 28, 28)\n",
    "    plt.figure(figsize=figsize)\n",
    "    for i,img in enumerate(arr):\n",
    "        plt.subplot(*dim, i+1)\n",
    "        plt.imshow(img, cmap='gray')\n",
    "        plt.axis('off')\n",
    "    plt.tight_layout()\n",
    "\n",
    "def denorm_meanstd(t, mean, std):\n",
    "    return (t * std) + mean\n",
    "\n",
    "def plot_cifar_samples(arr, dim=(4,4), figsize=(6,6)):\n",
    "    if type(arr) is not np.ndarray:\n",
    "        arr = arr.numpy().transpose((0, 2, 3, 1))\n",
    "    arr = denorm_meanstd(arr, CIFAR_MEAN, CIFAR_STD)\n",
    "    plt.figure(figsize=figsize)\n",
    "    for i,img in enumerate(arr):\n",
    "        plt.subplot(*dim, i+1)\n",
    "        plt.imshow(img, cmap='gray')\n",
    "        plt.axis('off')\n",
    "    plt.tight_layout()\n",
    "    \n",
    "def get_cifar_batch_of_size(bs):\n",
    "    # Return batchsize smaller than 64 for testing\n",
    "    inputs,targets = next(iter(cifar_test_loader))\n",
    "    return inputs[:bs], targets[:bs]\n",
    "\n",
    "def get_mnist_batch(bs):\n",
    "    train_loader = torch.utils.data.DataLoader(\n",
    "        datasets.MNIST(MNIST_PATH, train=True, download=True,\n",
    "                       transform=transforms.Compose([\n",
    "                           transforms.ToTensor(),\n",
    "                           transforms.Normalize(MNIST_MEAN, MNIST_STD)\n",
    "                       ])),\n",
    "        batch_size=bs, shuffle=True)\n",
    "    inputs,targets = next(iter(train_loader))\n",
    "    return inputs,targets\n",
    "\n",
    "inps,targs = get_mnist_batch(12)\n",
    "plot_mnist_samples(inps)"
   ]
  },
  {
   "cell_type": "code",
   "execution_count": 43,
   "metadata": {
    "collapsed": false,
    "hidden": true
   },
   "outputs": [
    {
     "data": {
      "image/png": "[encoded data removed]",
      "text/plain": [
       "<matplotlib.figure.Figure at 0x7f133dd9bef0>"
      ]
     },
     "metadata": {},
     "output_type": "display_data"
    }
   ],
   "source": [
    "inputs,targets = get_cifar_batch_of_size(12)\n",
    "plot_cifar_samples(inputs)"
   ]
  },
  {
   "cell_type": "markdown",
   "metadata": {
    "heading_collapsed": true
   },
   "source": [
    "# Models"
   ]
  },
  {
   "cell_type": "markdown",
   "metadata": {
    "heading_collapsed": true,
    "hidden": true
   },
   "source": [
    "## Linear"
   ]
  },
  {
   "cell_type": "code",
   "execution_count": 44,
   "metadata": {
    "collapsed": true,
    "hidden": true
   },
   "outputs": [],
   "source": [
    "class LinearNetMNIST(nn.Module):\n",
    "    def __init__(self):\n",
    "        super(LinearNetMNIST, self).__init__()\n",
    "        #Let's start with an input of (bs, 784)\n",
    "        self.layer1 = nn.Linear(784, 500)\n",
    "        self.layer2 = nn.Linear(500, 250)\n",
    "        self.layer3 = nn.Linear(250, 10)\n",
    "        self.softmax = nn.Softmax()\n",
    "        \n",
    "    def forward(self, x):\n",
    "        x = x.view(x.size(0), -1)\n",
    "        x = self.layer1(x)\n",
    "        x = self.layer2(x)\n",
    "        x = self.layer3(x)\n",
    "        x = self.softmax(x)\n",
    "        return x\n",
    "    \n",
    "class LinearNetCIFAR(nn.Module):\n",
    "    def __init__(self):\n",
    "        super(LinearNetCIFAR, self).__init__()\n",
    "        #Let's start with an input of (bs, 3, 32, 32)\n",
    "        #We flatten it to fit the first linear layer\n",
    "        #(bs,32*32*3)\n",
    "        self.layer1 = nn.Linear(3072, 512)\n",
    "        self.relu1 = nn.ReLU()\n",
    "        self.layer2 = nn.Linear(512, 256)\n",
    "        self.relu2 = nn.ReLU()\n",
    "        self.layer3 = nn.Linear(256, 10)\n",
    "        self.softmax = nn.Softmax()\n",
    "        \n",
    "    def forward(self, x):\n",
    "        x = x.view(x.size(0), -1) #(bs,32*32*3)\n",
    "        x = self.layer1(x)\n",
    "        x = self.relu1(x)\n",
    "        x = self.layer2(x)\n",
    "        x = self.relu2(x)\n",
    "        x = self.layer3(x)\n",
    "        x = self.softmax(x)\n",
    "        return x"
   ]
  },
  {
   "cell_type": "code",
   "execution_count": 45,
   "metadata": {
    "collapsed": false,
    "hidden": true
   },
   "outputs": [
    {
     "name": "stdout",
     "output_type": "stream",
     "text": [
      "Variable containing:\n",
      " 0.0856  0.0971  0.0903  0.1015  0.0910  0.0767  0.1473  0.1231  0.1022  0.0853\n",
      " 0.0841  0.1002  0.0872  0.0988  0.1089  0.0776  0.1262  0.1015  0.0779  0.1376\n",
      "[torch.FloatTensor of size 2x10]\n",
      "\n",
      "Variable containing:\n",
      " 0.1025  0.1128  0.1012  0.0917  0.1088  0.0957  0.1047  0.0971  0.0925  0.0930\n",
      " 0.1092  0.1095  0.1064  0.0849  0.0987  0.1018  0.0940  0.0921  0.0937  0.1096\n",
      "[torch.FloatTensor of size 2x10]\n",
      "\n"
     ]
    }
   ],
   "source": [
    "#MNIST\n",
    "inputs, targets = get_mnist_batch(2)\n",
    "net = LinearNetMNIST()\n",
    "print(net(Variable(inputs)))\n",
    "\n",
    "#CIFAR\n",
    "inputs, targets = get_cifar_batch_of_size(2)\n",
    "net2 = LinearNetCIFAR()\n",
    "print(net2(Variable(inputs)))"
   ]
  },
  {
   "cell_type": "markdown",
   "metadata": {
    "hidden": true
   },
   "source": [
    "## CNN"
   ]
  },
  {
   "cell_type": "code",
   "execution_count": 46,
   "metadata": {
    "collapsed": true,
    "hidden": true
   },
   "outputs": [],
   "source": [
    "class BasicCNN(nn.Module):\n",
    "    def __init__(self):\n",
    "        super(BasicNet, self).__init__()\n",
    "        #Let's start with an input of (bs, 1, 28, 28)\n",
    "        self.conv1 = nn.Conv2d(in_channels=1, out_channels=100, kernel_size=2, stride=1, padding=0)\n",
    "        self.conv2 = nn.Conv2d(in_channels=100, out_channels=10, kernel_size=2, stride=1, padding=0)\n",
    "        \n",
    "    def forward(self, x):\n",
    "        out = self.conv1(x)\n",
    "        out = self.conv2(out)\n",
    "        return out"
   ]
  },
  {
   "cell_type": "markdown",
   "metadata": {
    "heading_collapsed": true,
    "hidden": true
   },
   "source": [
    "## GAN"
   ]
  },
  {
   "cell_type": "markdown",
   "metadata": {
    "heading_collapsed": true
   },
   "source": [
    "# Training"
   ]
  },
  {
   "cell_type": "markdown",
   "metadata": {
    "heading_collapsed": true,
    "hidden": true
   },
   "source": [
    "## Helpers"
   ]
  },
  {
   "cell_type": "code",
   "execution_count": 47,
   "metadata": {
    "collapsed": true,
    "hidden": true
   },
   "outputs": [],
   "source": [
    "def train(net, dataloader, criterion, optimizer, epoch=1):\n",
    "    n_batches = len(dataloader)\n",
    "    total_loss = 0\n",
    "    for inputs,targets in dataloader:\n",
    "        inputs = Variable(inputs.cuda())\n",
    "        targets = Variable(targets.cuda())\n",
    "        \n",
    "        ## Forward Pass\n",
    "        out = net(inputs)\n",
    "        \n",
    "        ## Clear Gradients\n",
    "        net.zero_grad()\n",
    "        \n",
    "        ## Get Loss\n",
    "        loss = criterion(out, targets)\n",
    "    \n",
    "        ## Backprop\n",
    "        loss.backward()\n",
    "        optimizer.step()\n",
    "        \n",
    "        total_loss += loss.data[0]\n",
    "    \n",
    "    return total_loss / n_batches\n",
    "\n",
    "def predict(net, inputs):\n",
    "    out = net(inputs)\n",
    "    val,idx = torch.max(out,dim=1)\n",
    "    return idx.data.cpu().view(-1)\n",
    "\n",
    "def get_metrics(net, test_loader, criterion):\n",
    "    data,targets = next(iter(test_loader)) #1000??\n",
    "    inputs,labels = Variable(data.cuda()), Variable(targets.cuda())\n",
    "    \n",
    "    outputs = net(inputs)\n",
    "    loss = criterion(outputs, labels).data[0]\n",
    "    \n",
    "    #Flatten and Get ArgMax to compute accuracy\n",
    "    val,idx = torch.max(outputs,dim=1)\n",
    "    predictions = idx.data.cpu().view(-1).numpy()    \n",
    "    targets = targets.numpy()\n",
    "    correct = np.sum(predictions==targets)\n",
    "    accuracy = correct / len(targets)\n",
    "    \n",
    "    return loss, accuracy"
   ]
  },
  {
   "cell_type": "markdown",
   "metadata": {
    "heading_collapsed": true,
    "hidden": true
   },
   "source": [
    "## MNIST"
   ]
  },
  {
   "cell_type": "code",
   "execution_count": 48,
   "metadata": {
    "collapsed": true,
    "hidden": true
   },
   "outputs": [],
   "source": [
    "N_EPOCHS = 5\n",
    "mnistnet = LinearNetMNIST().cuda()\n",
    "criterion = nn.CrossEntropyLoss().cuda()\n",
    "optimizer = optim.Adam(mnistnet.parameters(), lr=1e-4)"
   ]
  },
  {
   "cell_type": "code",
   "execution_count": 49,
   "metadata": {
    "collapsed": false,
    "hidden": true
   },
   "outputs": [
    {
     "name": "stdout",
     "output_type": "stream",
     "text": [
      "Epoch 1, TrainLoss: 1.663, TestLoss: 1.560, TestAcc: 0.911\n",
      "Epoch 2, TrainLoss: 1.556, TestLoss: 1.540, TestAcc: 0.926\n",
      "Epoch 3, TrainLoss: 1.546, TestLoss: 1.529, TestAcc: 0.939\n",
      "Epoch 4, TrainLoss: 1.541, TestLoss: 1.536, TestAcc: 0.928\n",
      "Epoch 5, TrainLoss: 1.538, TestLoss: 1.538, TestAcc: 0.926\n"
     ]
    }
   ],
   "source": [
    "train_loss_history = []\n",
    "test_loss_history = []\n",
    "test_acc_history = []\n",
    "for epoch in range(1, N_EPOCHS+1):\n",
    "    train_loss = train(mnistnet, mnist_train_loader, criterion, optimizer, epoch)\n",
    "    test_loss, test_acc = get_metrics(mnistnet, mnist_test_loader, criterion)\n",
    "    print('Epoch %d, TrainLoss: %.3f, TestLoss: %.3f, TestAcc: %.3f' % (\n",
    "        epoch, train_loss, test_loss, test_acc))\n",
    "    train_loss_history.append(train_loss)\n",
    "    test_loss_history.append(test_loss)\n",
    "    test_acc_history.append(test_acc)"
   ]
  },
  {
   "cell_type": "code",
   "execution_count": 50,
   "metadata": {
    "collapsed": false,
    "hidden": true
   },
   "outputs": [
    {
     "data": {
      "text/plain": [
       "[<matplotlib.lines.Line2D at 0x7f133ff83a20>,\n",
       " <matplotlib.lines.Line2D at 0x7f133ff83da0>]"
      ]
     },
     "execution_count": 50,
     "metadata": {},
     "output_type": "execute_result"
    },
    {
     "data": {
      "image/png": "[encoded data removed]",
      "text/plain": [
       "<matplotlib.figure.Figure at 0x7f1335a54860>"
      ]
     },
     "metadata": {},
     "output_type": "display_data"
    }
   ],
   "source": [
    "plt.plot(np.stack([train_loss_history, test_loss_history],1))"
   ]
  },
  {
   "cell_type": "code",
   "execution_count": 51,
   "metadata": {
    "collapsed": false,
    "hidden": true
   },
   "outputs": [
    {
     "data": {
      "text/plain": [
       "[<matplotlib.lines.Line2D at 0x7f133fce6ac8>]"
      ]
     },
     "execution_count": 51,
     "metadata": {},
     "output_type": "execute_result"
    },
    {
     "data": {
      "image/png": "[encoded data removed]",
      "text/plain": [
       "<matplotlib.figure.Figure at 0x7f133dd0c3c8>"
      ]
     },
     "metadata": {},
     "output_type": "display_data"
    }
   ],
   "source": [
    "plt.plot(test_acc_history)"
   ]
  },
  {
   "cell_type": "code",
   "execution_count": 52,
   "metadata": {
    "collapsed": false,
    "hidden": true
   },
   "outputs": [
    {
     "data": {
      "image/png": "[encoded data removed]",
      "text/plain": [
       "<matplotlib.figure.Figure at 0x7f13401b66a0>"
      ]
     },
     "metadata": {},
     "output_type": "display_data"
    }
   ],
   "source": [
    "visualize_preds(mnistnet, mnist_test_loader, MNIST_CLASSES, MNIST_MEAN, MNIST_STD, 6)"
   ]
  },
  {
   "cell_type": "markdown",
   "metadata": {
    "heading_collapsed": true,
    "hidden": true
   },
   "source": [
    "## CIFAR"
   ]
  },
  {
   "cell_type": "code",
   "execution_count": 53,
   "metadata": {
    "collapsed": false,
    "hidden": true
   },
   "outputs": [],
   "source": [
    "N_EPOCHS = 5\n",
    "cifarnet = LinearNetCIFAR().cuda()\n",
    "criterion = nn.CrossEntropyLoss().cuda()\n",
    "optimizer = optim.Adam(cifarnet.parameters(), lr=1e-4)"
   ]
  },
  {
   "cell_type": "code",
   "execution_count": 54,
   "metadata": {
    "collapsed": false,
    "hidden": true
   },
   "outputs": [
    {
     "name": "stdout",
     "output_type": "stream",
     "text": [
      "Epoch 1, TrainLoss: 2.147, TestLoss: 2.077, TestAcc: 0.383\n",
      "Epoch 2, TrainLoss: 2.092, TestLoss: 2.065, TestAcc: 0.400\n",
      "Epoch 3, TrainLoss: 2.069, TestLoss: 2.020, TestAcc: 0.439\n",
      "Epoch 4, TrainLoss: 2.053, TestLoss: 2.016, TestAcc: 0.442\n",
      "Epoch 5, TrainLoss: 2.041, TestLoss: 2.010, TestAcc: 0.445\n"
     ]
    }
   ],
   "source": [
    "train_loss_history = []\n",
    "test_loss_history = []\n",
    "test_acc_history = []\n",
    "for epoch in range(1, N_EPOCHS+1):\n",
    "    train_loss = train(cifarnet, cifar_train_loader, criterion, optimizer, epoch)\n",
    "    test_loss, test_acc = get_metrics(cifarnet, cifar_test_loader, criterion)\n",
    "    print('Epoch %d, TrainLoss: %.3f, TestLoss: %.3f, TestAcc: %.3f' % (\n",
    "        epoch, train_loss, test_loss, test_acc))\n",
    "    train_loss_history.append(train_loss)\n",
    "    test_loss_history.append(test_loss)\n",
    "    test_acc_history.append(test_acc)"
   ]
  },
  {
   "cell_type": "code",
   "execution_count": 55,
   "metadata": {
    "collapsed": false,
    "hidden": true
   },
   "outputs": [
    {
     "data": {
      "text/plain": [
       "[<matplotlib.lines.Line2D at 0x7f133ff07a20>,\n",
       " <matplotlib.lines.Line2D at 0x7f1340004ef0>]"
      ]
     },
     "execution_count": 55,
     "metadata": {},
     "output_type": "execute_result"
    },
    {
     "data": {
      "image/png": "[encoded data removed]",
      "text/plain": [
       "<matplotlib.figure.Figure at 0x7f1335f39a90>"
      ]
     },
     "metadata": {},
     "output_type": "display_data"
    }
   ],
   "source": [
    "plt.plot(np.stack([train_loss_history, test_loss_history],1))"
   ]
  },
  {
   "cell_type": "code",
   "execution_count": 56,
   "metadata": {
    "collapsed": false,
    "hidden": true
   },
   "outputs": [
    {
     "data": {
      "text/plain": [
       "[<matplotlib.lines.Line2D at 0x7f133fcf79b0>]"
      ]
     },
     "execution_count": 56,
     "metadata": {},
     "output_type": "execute_result"
    },
    {
     "data": {
      "image/png": "[encoded data removed]",
      "text/plain": [
       "<matplotlib.figure.Figure at 0x7f133fd5cc50>"
      ]
     },
     "metadata": {},
     "output_type": "display_data"
    }
   ],
   "source": [
    "plt.plot(test_acc_history)"
   ]
  },
  {
   "cell_type": "code",
   "execution_count": 57,
   "metadata": {
    "collapsed": false,
    "hidden": true
   },
   "outputs": [
    {
     "data": {
      "image/png": "[encoded data removed]",
      "text/plain": [
       "<matplotlib.figure.Figure at 0x7f1335d924e0>"
      ]
     },
     "metadata": {},
     "output_type": "display_data"
    }
   ],
   "source": [
    "visualize_preds(cifarnet, cifar_test_loader, CIFAR_CLASS_NAMES, CIFAR_MEAN, CIFAR_STD, 6)"
   ]
  },
  {
   "cell_type": "markdown",
   "metadata": {
    "heading_collapsed": true
   },
   "source": [
    "# Experiments"
   ]
  },
  {
   "cell_type": "markdown",
   "metadata": {
    "heading_collapsed": true,
    "hidden": true
   },
   "source": [
    "## Load/Save Weights"
   ]
  },
  {
   "cell_type": "code",
   "execution_count": null,
   "metadata": {
    "collapsed": true,
    "hidden": true
   },
   "outputs": [],
   "source": []
  },
  {
   "cell_type": "markdown",
   "metadata": {
    "heading_collapsed": true,
    "hidden": true
   },
   "source": [
    "## Visdom Web Server"
   ]
  },
  {
   "cell_type": "code",
   "execution_count": null,
   "metadata": {
    "collapsed": true,
    "hidden": true
   },
   "outputs": [],
   "source": []
  },
  {
   "cell_type": "markdown",
   "metadata": {
    "heading_collapsed": true,
    "hidden": true
   },
   "source": [
    "## Experiment Class"
   ]
  },
  {
   "cell_type": "code",
   "execution_count": 58,
   "metadata": {
    "collapsed": true,
    "hidden": true
   },
   "outputs": [],
   "source": [
    "import numpy as np\n",
    "import os\n",
    "import torch\n",
    "import visdom\n",
    "import shutil\n",
    "import sys\n",
    "from pathlib import Path\n",
    "\n",
    "\n",
    "class Experiment():\n",
    "    def __init__(self, name, root):\n",
    "        self.name = name\n",
    "        self.root = os.path.join(root,name)\n",
    "        self.epoch = 1\n",
    "        self.best_val_loss = sys.maxsize\n",
    "        self.best_val_loss_epoch = 1\n",
    "        self.weights_dir = os.path.join(self.root, 'weights')\n",
    "        self.history_dir = os.path.join(self.root, 'history')\n",
    "        self.results_dir = os.path.join(self.root, 'results')\n",
    "        self.latest_weights = os.path.join(self.weights_dir, 'latest_weights.pth')\n",
    "        self.latest_optimizer = os.path.join(self.weights_dir, 'latest_optim.pth')\n",
    "        self.best_weights_path = self.latest_weights\n",
    "        self.best_optimizer_path = self.latest_optimizer\n",
    "        self.train_history_fpath = os.path.join(self.history_dir, 'train.csv')\n",
    "        self.val_history_fpath = os.path.join(self.history_dir, 'val.csv')\n",
    "        self.test_history_fpath = os.path.join(self.history_dir, 'test.csv')\n",
    "        self.loss_history = {\n",
    "            'train': np.array([]),\n",
    "            'val': np.array([]),\n",
    "            'test': np.array([])\n",
    "        }\n",
    "        self.error_history = {\n",
    "            'train': np.array([]),\n",
    "            'val': np.array([]),\n",
    "            'test': np.array([])\n",
    "        }\n",
    "        self.viz = visdom.Visdom()\n",
    "        self.visdom_plots = self.init_visdom_plots()\n",
    "\n",
    "    def init(self):\n",
    "        print(\"Creating new experiment\")\n",
    "        self.init_dirs()\n",
    "        self.init_history_files()\n",
    "\n",
    "    def resume(self, model, optim, weights_fpath=None, optim_path=None):\n",
    "        print(\"Resuming existing experiment\")\n",
    "        if weights_fpath is None:\n",
    "            weights_fpath = self.latest_weights\n",
    "        if optim_path is None:\n",
    "            optim_path = self.latest_optimizer\n",
    "\n",
    "        model, state = self.load_weights(model, weights_fpath)\n",
    "        optim = self.load_optimizer(optim, optim_path)\n",
    "\n",
    "        self.best_val_loss = state['best_val_loss']\n",
    "        self.best_val_loss_epoch = state['best_val_loss_epoch']\n",
    "        self.epoch = state['last_epoch']+1\n",
    "        self.load_history_from_file('train')\n",
    "        self.load_history_from_file('val')\n",
    "\n",
    "        return model, optim\n",
    "\n",
    "    def init_dirs(self):\n",
    "        os.makedirs(self.weights_dir)\n",
    "        os.makedirs(self.history_dir)\n",
    "        os.makedirs(self.results_dir)\n",
    "\n",
    "    def init_history_files(self):\n",
    "        Path(self.train_history_fpath).touch()\n",
    "        Path(self.val_history_fpath).touch()\n",
    "        Path(self.test_history_fpath).touch()\n",
    "\n",
    "    def init_visdom_plots(self):\n",
    "        loss = self.init_viz_train_plot('loss')\n",
    "        error = self.init_viz_train_plot('error')\n",
    "        summary = self.init_viz_txt_plot('summary')\n",
    "        return {\n",
    "            'loss':loss,\n",
    "            'error':error,\n",
    "            'summary':summary\n",
    "        }\n",
    "\n",
    "    def init_viz_train_plot(self, title):\n",
    "        return self.viz.line(\n",
    "            X=np.array([1]),\n",
    "            Y=np.array([[1, 1]]),\n",
    "            opts=dict(\n",
    "                xlabel='epoch',\n",
    "                ylabel=title,\n",
    "                title=self.name+' '+title,\n",
    "                legend=['Train', 'Validation']\n",
    "            ),\n",
    "            env=self.name\n",
    "        )\n",
    "\n",
    "    def init_viz_txt_plot(self, title):\n",
    "        return self.viz.text(\n",
    "            \"Initializing.. \" + title,\n",
    "            env=self.name\n",
    "        )\n",
    "\n",
    "    def viz_epochs(self):\n",
    "        epochs = np.arange(1,self.epoch+1)\n",
    "        return np.stack([epochs, epochs],1)\n",
    "\n",
    "    def update_viz_loss_plot(self):\n",
    "        loss = np.stack([self.loss_history['train'],\n",
    "                         self.loss_history['val']],1)\n",
    "        window = self.visdom_plots['loss']\n",
    "        return self.viz.line(\n",
    "            X=self.viz_epochs(),\n",
    "            Y=loss,\n",
    "            win=window,\n",
    "            env=self.name,\n",
    "            opts=dict(\n",
    "                xlabel='epoch',\n",
    "                ylabel='loss',\n",
    "                title=self.name+' '+'loss',\n",
    "                legend=['Train', 'Validation']\n",
    "            ),\n",
    "        )\n",
    "\n",
    "    def update_viz_error_plot(self):\n",
    "        error = np.stack([self.error_history['train'],\n",
    "                         self.error_history['val']], 1)\n",
    "        window = self.visdom_plots['error']\n",
    "        return self.viz.line(\n",
    "            X=self.viz_epochs(),\n",
    "            Y=error,\n",
    "            win=window,\n",
    "            env=self.name,\n",
    "            opts=dict(\n",
    "                xlabel='epoch',\n",
    "                ylabel='error',\n",
    "                title=self.name+' '+'error',\n",
    "                legend=['Train', 'Validation']\n",
    "            )\n",
    "        )\n",
    "\n",
    "    def update_viz_summary_plot(self):\n",
    "        trn_loss = self.loss_history['train'][-1]\n",
    "        val_loss = self.loss_history['val'][-1]\n",
    "        trn_err = self.error_history['train'][-1]\n",
    "        val_err = self.error_history['val'][-1]\n",
    "        txt = (\"\"\"Epoch: %d\n",
    "            Train - Loss: %.3f Err: %.3f\n",
    "            Test - Loss: %.3f Err: %.3f\"\"\" % (self.epoch,\n",
    "            trn_loss, trn_err, tst_loss, tst_err))\n",
    "        window = self.visdom_plots['summary']\n",
    "        return self.viz.text(\n",
    "            txt,\n",
    "            win=window,\n",
    "            env=self.name\n",
    "        )\n",
    "\n",
    "    def load_history_from_file(self, dset_type):\n",
    "        fpath = os.path.join(self.history_dir, dset_type+'.csv')\n",
    "        data = np.loadtxt(fpath, delimiter=',').reshape(-1, 3)\n",
    "        self.loss_history[dset_type] = data[:,1]\n",
    "        self.error_history[dset_type] = data[:,2]\n",
    "\n",
    "    def append_history_to_file(self, dset_type, loss, error):\n",
    "        fpath = os.path.join(self.history_dir, dset_type+'.csv')\n",
    "        with open(fpath, 'a') as f:\n",
    "            f.write('{},{},{}\\n'.format(self.epoch, loss, error))\n",
    "\n",
    "    def save_history(self, dset_type, loss, error):\n",
    "        self.loss_history[dset_type] = np.append(\n",
    "            self.loss_history[dset_type], loss)\n",
    "        self.error_history[dset_type] = np.append(\n",
    "            self.error_history[dset_type], error)\n",
    "        self.append_history_to_file(dset_type, loss, error)\n",
    "\n",
    "        if dset_type == 'val' and self.is_best_loss(loss):\n",
    "            self.best_val_loss = loss\n",
    "            self.best_val_loss_epoch = self.epoch\n",
    "\n",
    "    def is_best_loss(self, loss):\n",
    "        return loss < self.best_val_loss\n",
    "\n",
    "    def save_weights(self, model, trn_loss, val_loss, trn_err, val_err):\n",
    "        weights_fname = self.name+'-weights-%d-%.3f-%.3f-%.3f-%.3f.pth' % (\n",
    "            epoch, trn_loss, trn_err, val_loss, val_err)\n",
    "        weights_fpath = os.path.join(self.weights_dir, weights_fname)\n",
    "        torch.save({\n",
    "                'last_epoch': self.epoch,\n",
    "                'trn_loss': trn_loss,\n",
    "                'val_loss': val_loss,\n",
    "                'trn_err': trn_err,\n",
    "                'val_err': val_err,\n",
    "                'best_val_loss': self.best_val_loss,\n",
    "                'best_val_loss_epoch': self.best_val_loss_epoch,\n",
    "                'experiment': self.name,\n",
    "                'state_dict': model.state_dict()\n",
    "            }, weights_fpath )\n",
    "        shutil.copyfile(weights_fpath, self.latest_weights)\n",
    "        if self.is_best_loss(val_loss):\n",
    "            self.best_weights_path = weights_fpath\n",
    "\n",
    "    def load_weights(self, model, fpath):\n",
    "        print(\"loading weights '{}'\".format(fpath))\n",
    "        state = torch.load(fpath)\n",
    "        model.load_state_dict(state['state_dict'])\n",
    "        print (state['trn_err'], state['val_loss'], state['val_err'])\n",
    "        print(\"loaded weights from experiment %s (last_epoch %d, trn_loss %s, trn_err %s, val_loss %s, val_err %s)\" % (\n",
    "                  self.name, state['last_epoch'], state['trn_loss'],\n",
    "                    state['trn_err'], state['val_loss'], state['val_err']))\n",
    "        return model, state\n",
    "\n",
    "    def save_optimizer(self, optimizer, val_loss):\n",
    "        optim_fname = self.name+'-optim-%d.pth' % (epoch)\n",
    "        optim_fpath = os.path.join(self.weights_dir, optim_fname)\n",
    "        torch.save({\n",
    "                'last_epoch': self.epoch,\n",
    "                'experiment': self.name,\n",
    "                'state_dict': optimizer.state_dict()\n",
    "            }, optim_fpath )\n",
    "        shutil.copyfile(optim_fpath, self.latest_optimizer)\n",
    "        if self.is_best_loss(val_loss):\n",
    "            self.best_optimizer_path = optim_path\n",
    "\n",
    "    def load_optimizer(self, optimizer, fpath):\n",
    "        print(\"loading optimizer '{}'\".format(fpath))\n",
    "        optim = torch.load(fpath)\n",
    "        optimizer.load_state_dict(optim['state_dict'])\n",
    "        print(\"loaded optimizer from session {}, last_epoch {}\"\n",
    "              .format(optim['experiment'], optim['last_epoch']))\n",
    "        return optim\n",
    "\n"
   ]
  },
  {
   "cell_type": "markdown",
   "metadata": {
    "heading_collapsed": true
   },
   "source": [
    "# Examples\n",
    "\n",
    "Links To Pytorch Implementations of cool new models"
   ]
  },
  {
   "cell_type": "markdown",
   "metadata": {
    "heading_collapsed": true,
    "hidden": true
   },
   "source": [
    "## CNNs"
   ]
  },
  {
   "cell_type": "markdown",
   "metadata": {
    "hidden": true
   },
   "source": [
    " * [VGG](https://github.com/pytorch/vision/blob/master/torchvision/models/vgg.py)\n",
    " * [ResNet](https://github.com/pytorch/vision/blob/master/torchvision/models/resnet.py)\n",
    " * [InceptionNet](https://github.com/pytorch/vision/blob/master/torchvision/models/inception.py)\n",
    " * [SqeezeNet](https://github.com/pytorch/vision/blob/master/torchvision/models/squeezenet.py)\n",
    " * [DenseNet](https://github.com/pytorch/vision/blob/master/torchvision/models/densenet.py)\n",
    " * [FCDenseNet (Tiramisu)](https://github.com/bfortuner/pytorch_tiramisu/blob/master/tiramisu-pytorch.ipynb)\n",
    " * [Sub-pixel CNN (superresolution)](https://github.com/pytorch/examples/tree/master/super_resolution)"
   ]
  },
  {
   "cell_type": "markdown",
   "metadata": {
    "hidden": true
   },
   "source": [
    "## GANs"
   ]
  },
  {
   "cell_type": "markdown",
   "metadata": {
    "hidden": true
   },
   "source": [
    "* [DCGAN](https://github.com/pytorch/examples/tree/master/dcgan)\n",
    "* [Wasserstein GAN](https://github.com/martinarjovsky/WassersteinGAN)"
   ]
  },
  {
   "cell_type": "markdown",
   "metadata": {
    "heading_collapsed": true,
    "hidden": true
   },
   "source": [
    "## RNNs"
   ]
  },
  {
   "cell_type": "code",
   "execution_count": null,
   "metadata": {
    "collapsed": true,
    "hidden": true
   },
   "outputs": [],
   "source": []
  },
  {
   "cell_type": "markdown",
   "metadata": {
    "heading_collapsed": true,
    "hidden": true
   },
   "source": [
    "## Other"
   ]
  },
  {
   "cell_type": "markdown",
   "metadata": {
    "hidden": true
   },
   "source": [
    "* [Pytorch Examples](https://github.com/pytorch/examples)"
   ]
  },
  {
   "cell_type": "code",
   "execution_count": null,
   "metadata": {
    "collapsed": true,
    "hidden": true
   },
   "outputs": [],
   "source": []
  }
 ],
 "metadata": {
  "kernelspec": {
   "display_name": "Python 3",
   "language": "python",
   "name": "python3"
  },
  "language_info": {
   "codemirror_mode": {
    "name": "ipython",
    "version": 3
   },
   "file_extension": ".py",
   "mimetype": "text/x-python",
   "name": "python",
   "nbconvert_exporter": "python",
   "pygments_lexer": "ipython3",
   "version": "3.6.0"
  },
  "latex_envs": {
   "LaTeX_envs_menu_present": true,
   "autocomplete": true,
   "bibliofile": "biblio.bib",
   "cite_by": "apalike",
   "current_citInitial": 1,
   "eqLabelWithNumbers": true,
   "eqNumInitial": 1,
   "hotkeys": {
    "equation": "Ctrl-E",
    "itemize": "Ctrl-I"
   },
   "labels_anchors": false,
   "latex_user_defs": false,
   "report_style_numbering": false,
   "user_envs_cfg": false
  },
  "toc": {
   "colors": {
    "hover_highlight": "#DAA520",
    "running_highlight": "#FF0000",
    "selected_highlight": "#FFD700"
   },
   "moveMenuLeft": true,
   "nav_menu": {
    "height": "192px",
    "width": "254px"
   },
   "navigate_menu": true,
   "number_sections": true,
   "sideBar": true,
   "threshold": 4,
   "toc_cell": false,
   "toc_section_display": "block",
   "toc_window_display": false,
   "widenNotebook": false
  }
 },
 "nbformat": 4,
 "nbformat_minor": 2
}
