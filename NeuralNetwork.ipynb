{
 "cells": [
  {
   "cell_type": "code",
   "execution_count": 700,
   "metadata": {
    "collapsed": false
   },
   "outputs": [],
   "source": [
    "import numpy as np\n",
    "\n",
    "class NeuralNetwork():\n",
    "    def __init__(self, inputLayerSize, hiddenLayerSize, outputLayerSize):\n",
    "        self.inputLayerSize = inputLayerSize \n",
    "        self.hiddenLayerSize = hiddenLayerSize \n",
    "        self.outputLayerSize = outputLayerSize \n",
    "\n",
    "        # Initialize Weights\n",
    "        self.Wh = np.random.randn(inputLayerSize, hiddenLayerSize)/np.sqrt(inputLayerSize)\n",
    "        self.Wo = np.random.randn(hiddenLayerSize, outputLayerSize)/np.sqrt(hiddenLayerSize)\n",
    "\n",
    "        # Initialize Biases\n",
    "        self.Bh = np.full((1, hiddenLayerSize), 0.1)\n",
    "        self.Bo = np.full((1, outputLayerSize), 0.1)\n",
    "        \n",
    "    def normalize(self, arr, new_min, new_max):\n",
    "        cur_min = np.min(arr)\n",
    "        cur_max = np.max(arr)\n",
    "        cur_range = (cur_max - cur_min)  \n",
    "        new_range = (new_max - new_min)\n",
    "        return (((arr - cur_min) * new_range) / cur_range) + new_min\n",
    "\n",
    "    def denormalize(self, normalized, old_min, old_max):\n",
    "        return self.normalize(normalized, old_min, old_max)\n",
    "    \n",
    "    def relu(self, Z):\n",
    "        return np.maximum(0, Z)\n",
    "    \n",
    "    def relu_prime(self, Z):\n",
    "        '''\n",
    "        Z - weighted input matrix\n",
    "\n",
    "        Returns the gradient of the \n",
    "        Z matrix where all negative \n",
    "        values are switched to 0 and\n",
    "        all positive values switched to 1\n",
    "        '''\n",
    "        grad = np.copy(Z)\n",
    "        grad[Z <= 0] = 0\n",
    "        grad[Z > 0] = 1\n",
    "        return grad\n",
    "    \n",
    "    def cost(self, output, y):\n",
    "        cost = np.sum((output - y)**2) / 2.0\n",
    "        return cost\n",
    "    \n",
    "    def cost_prime(self, output, y):\n",
    "        return output - y\n",
    "\n",
    "    def feed_forward(self, X):\n",
    "        # Hidden layer\n",
    "        Zh = np.dot(X, self.Wh) \n",
    "        H = self.relu(Zh + self.Bh)\n",
    "\n",
    "        # Output layer\n",
    "        Zo = np.dot(H, self.Wo)\n",
    "        output = self.relu(Zo + self.Bo)\n",
    "        return output\n",
    "    \n",
    "    def backprop(self, X, y, lr):\n",
    "        '''\n",
    "        X - input matrix from training set\n",
    "        y - expected output matrix\n",
    "        lr - learning rate\n",
    "        '''\n",
    "        ### Feed Forward ###\n",
    "   \n",
    "        # Hidden layer\n",
    "        Zh = np.dot(X, self.Wh) \n",
    "        H = self.relu(Zh + self.Bh)\n",
    "\n",
    "        # Output layer\n",
    "        Zo = np.dot(H, self.Wo)\n",
    "        out = self.relu(Zo + self.Bo)\n",
    "\n",
    "        #### Backprop ####\n",
    "\n",
    "        # Layer Error\n",
    "        Eo = (out - y) * self.relu_prime(Zo + self.Bo)\n",
    "        Eh = np.dot(Eo, self.Wo.T) * self.relu_prime(Zh + self.Bh)\n",
    "\n",
    "        # Cost derivative for weights\n",
    "        dWo = np.dot(H.T, Eo)\n",
    "        dWh = np.dot(X.T, Eh)\n",
    "\n",
    "        # Cost derivative for bias\n",
    "        dBo = np.sum(Eo, axis=0, keepdims=True)\n",
    "        dBh = np.sum(Eh, axis=0, keepdims=True)\n",
    "\n",
    "        # Update weights\n",
    "        self.Wo -= lr * dWo\n",
    "        self.Wh -= lr * dWh\n",
    "\n",
    "        # Update biases\n",
    "        self.Bo -= lr * dBo\n",
    "        self.Bh -= lr * dBh\n",
    "\n",
    "    def extract_normalized_Xy_from_batch(self, batch):\n",
    "        X = batch[:,0]\n",
    "        y = batch[:,1]\n",
    "        \n",
    "        X = self.normalize(X, new_min=0, new_max=1)\n",
    "        y = self.normalize(y, new_min=0, new_max=1)\n",
    "        \n",
    "        X.shape = (len(X),1)\n",
    "        y.shape = (len(y),1)\n",
    "        return X,y\n",
    "        \n",
    "    def SGD(self, data, batch_size, lr):\n",
    "        N = len(data)\n",
    "        np.random.shuffle(data)\n",
    "        mini_batches = np.array(\n",
    "            [data[i:i+batch_size] for i in range(0, N, batch_size)])\n",
    "        for batch in mini_batches:\n",
    "            X,y = self.extract_normalized_Xy_from_batch(batch)\n",
    "            self.backprop(X, y, lr)\n",
    "\n",
    "    def train(self, data, epochs, batch_size, lr):\n",
    "        cost_history = []\n",
    "        for epoch in range(epochs):\n",
    "            self.SGD(data, batch_size, lr)\n",
    "            \n",
    "            # Store cost for auditing purposes\n",
    "            X,y = self.extract_normalized_Xy_from_batch(data)\n",
    "            output = self.feed_forward(X)\n",
    "            cost = self.cost(output, y)\n",
    "            cost_history.append(cost)\n",
    "            \n",
    "            # Log cost\n",
    "            if epoch % 5000 == 0:\n",
    "                print(\"Epoch \" + str(epoch) + \" Cost:\" + str(round(cost,5)))\n",
    "        print(\"Final cost \" + str(round(cost,5)))\n",
    "        return cost_history\n",
    "    \n",
    "    def predict(self, X, y_min, y_max):\n",
    "        X = self.normalize(X, new_min=0, new_max=1)\n",
    "        X.shape = (len(X),1)\n",
    "        output = self.feed_forward(X)\n",
    "        denormalized_output = self.denormalize(output, y_min, y_max)\n",
    "        return denormalized_output"
   ]
  },
  {
   "cell_type": "markdown",
   "metadata": {},
   "source": [
    "### Visualize"
   ]
  },
  {
   "cell_type": "code",
   "execution_count": 701,
   "metadata": {
    "collapsed": true
   },
   "outputs": [],
   "source": [
    "import matplotlib.pyplot as plt\n",
    "\n",
    "def graph(x, y, xlabel=\"X\", ylabel=\"Y\", title=\"X vs Y\"):\n",
    "    plt.plot(x, y)\n",
    "    plt.title(title)\n",
    "    plt.xlabel(xlabel)\n",
    "    plt.ylabel(ylabel)\n",
    "    plt.show()\n",
    "    \n",
    "def graph_error(error_history):\n",
    "    iterations = [i for i in range(1,len(error_history)+1)]\n",
    "    plt.plot(iterations, error_history)\n",
    "    plt.title('Error Rate')\n",
    "    plt.xlabel('Training Iterations')\n",
    "    plt.ylabel('Mean Squared Error')\n",
    "    plt.show()"
   ]
  },
  {
   "cell_type": "markdown",
   "metadata": {},
   "source": [
    "### Load Data"
   ]
  },
  {
   "cell_type": "code",
   "execution_count": 702,
   "metadata": {
    "collapsed": false
   },
   "outputs": [
    {
     "data": {
      "image/png": "[encoded data removed]",
      "text/plain": [
       "<matplotlib.figure.Figure at 0x107a20588>"
      ]
     },
     "metadata": {},
     "output_type": "display_data"
    },
    {
     "name": "stdout",
     "output_type": "stream",
     "text": [
      "[[  -6.    -175.   ]\n",
      " [  -5.9   -165.669]\n",
      " [  -5.8   -156.672]]\n"
     ]
    }
   ],
   "source": [
    "def cubic(x):\n",
    "    return x**3 + x**2 - x - 1\n",
    "\n",
    "def get_cubic_data(start,end,step_size=1):\n",
    "    data = np.array([ [i,cubic(i)] for i in np.arange(start,end,step_size)], dtype=\"float64\")    \n",
    "    return data\n",
    "\n",
    "data = get_cubic_data(-6,6,.1)\n",
    "X = data[:,0]\n",
    "y = data[:,1]\n",
    "graph(X,y)\n",
    "print (data[:3])"
   ]
  },
  {
   "cell_type": "markdown",
   "metadata": {},
   "source": [
    "### Train"
   ]
  },
  {
   "cell_type": "code",
   "execution_count": 703,
   "metadata": {
    "collapsed": false
   },
   "outputs": [
    {
     "name": "stdout",
     "output_type": "stream",
     "text": [
      "40\n",
      "[[-0.09839296  0.64534941 -0.8570218   0.55462981 -0.1056885   0.3366165\n",
      "   2.4885778   0.56716701  0.75459265 -0.25900206 -0.51433369 -0.54086663\n",
      "   0.18949197  1.8899767  -2.1706261  -1.40179121 -0.15135098  0.55893739\n",
      "   1.29024007  0.71530896]]\n"
     ]
    }
   ],
   "source": [
    "data = get_cubic_data(-20,20)\n",
    "print (len(data))\n",
    "nn = NeuralNetwork(1,20,1)\n",
    "print(nn.Wh)"
   ]
  },
  {
   "cell_type": "code",
   "execution_count": 704,
   "metadata": {
    "collapsed": false
   },
   "outputs": [
    {
     "name": "stdout",
     "output_type": "stream",
     "text": [
      "Epoch 0 Cost:5.34141\n",
      "Epoch 5000 Cost:0.09184\n",
      "Epoch 10000 Cost:0.08828\n",
      "Epoch 15000 Cost:0.08583\n",
      "Epoch 20000 Cost:0.08395\n",
      "Epoch 25000 Cost:0.08253\n",
      "Epoch 30000 Cost:0.08138\n",
      "Epoch 35000 Cost:0.08033\n",
      "Epoch 40000 Cost:0.07939\n",
      "Epoch 45000 Cost:0.07848\n",
      "Epoch 50000 Cost:0.07758\n",
      "Epoch 55000 Cost:0.07668\n",
      "Epoch 60000 Cost:0.07578\n",
      "Epoch 65000 Cost:0.07486\n",
      "Epoch 70000 Cost:0.07391\n",
      "Epoch 75000 Cost:0.07292\n",
      "Epoch 80000 Cost:0.0719\n",
      "Epoch 85000 Cost:0.07083\n",
      "Epoch 90000 Cost:0.06971\n",
      "Epoch 95000 Cost:0.06854\n",
      "Epoch 100000 Cost:0.06732\n",
      "Epoch 105000 Cost:0.06605\n",
      "Epoch 110000 Cost:0.06472\n",
      "Epoch 115000 Cost:0.06334\n",
      "Epoch 120000 Cost:0.06191\n",
      "Epoch 125000 Cost:0.06043\n",
      "Epoch 130000 Cost:0.05891\n",
      "Epoch 135000 Cost:0.05735\n",
      "Epoch 140000 Cost:0.05576\n",
      "Epoch 145000 Cost:0.05415\n",
      "Epoch 150000 Cost:0.05252\n",
      "Epoch 155000 Cost:0.05088\n",
      "Epoch 160000 Cost:0.04923\n",
      "Epoch 165000 Cost:0.04758\n",
      "Epoch 170000 Cost:0.04594\n",
      "Epoch 175000 Cost:0.04431\n",
      "Epoch 180000 Cost:0.0427\n",
      "Epoch 185000 Cost:0.04111\n",
      "Epoch 190000 Cost:0.03954\n",
      "Epoch 195000 Cost:0.038\n",
      "Final cost 0.03648\n"
     ]
    },
    {
     "data": {
      "image/png": "[encoded data removed]",
      "text/plain": [
       "<matplotlib.figure.Figure at 0x11161cf98>"
      ]
     },
     "metadata": {},
     "output_type": "display_data"
    }
   ],
   "source": [
    "cost_hist = nn.train(data, epochs=200000, batch_size=40, lr=.0001)\n",
    "graph_error(cost_hist)"
   ]
  },
  {
   "cell_type": "markdown",
   "metadata": {},
   "source": [
    "### Predict"
   ]
  },
  {
   "cell_type": "code",
   "execution_count": 705,
   "metadata": {
    "collapsed": false
   },
   "outputs": [
    {
     "data": {
      "image/png": "[encoded data removed]",
      "text/plain": [
       "<matplotlib.figure.Figure at 0x110b0bc88>"
      ]
     },
     "metadata": {},
     "output_type": "display_data"
    }
   ],
   "source": [
    "start,end = (-40,40)\n",
    "data = get_cubic_data(start, end)\n",
    "X,y = data[:,0],data[:,1]\n",
    "predictions = nn.predict(X, y_min=cubic(start), y_max=cubic(end))\n",
    "plt.plot(X, y)\n",
    "plt.plot(X, predictions)\n",
    "\n",
    "plt.show()"
   ]
  },
  {
   "cell_type": "code",
   "execution_count": null,
   "metadata": {
    "collapsed": true
   },
   "outputs": [],
   "source": []
  }
 ],
 "metadata": {
  "kernelspec": {
   "display_name": "Python 3",
   "language": "python",
   "name": "python3"
  },
  "language_info": {
   "codemirror_mode": {
    "name": "ipython",
    "version": 3
   },
   "file_extension": ".py",
   "mimetype": "text/x-python",
   "name": "python",
   "nbconvert_exporter": "python",
   "pygments_lexer": "ipython3",
   "version": "3.6.0"
  }
 },
 "nbformat": 4,
 "nbformat_minor": 2
}
