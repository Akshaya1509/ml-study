{
 "cells": [
  {
   "cell_type": "markdown",
   "metadata": {},
   "source": [
    "### Neural Network with Sigmoid for Regression\n",
    "\n",
    "Three-layer neural network for regression tasks using Sigmoid activation function"
   ]
  },
  {
   "cell_type": "code",
   "execution_count": 1404,
   "metadata": {
    "collapsed": false
   },
   "outputs": [],
   "source": [
    "import numpy as np\n",
    "import matplotlib.pyplot as plt\n",
    "\n",
    "class NeuralNetwork():\n",
    "    def __init__(self, inputLayerSize, hiddenLayerSize, outputLayerSize):\n",
    "        self.inputLayerSize = inputLayerSize \n",
    "        self.hiddenLayerSize = hiddenLayerSize \n",
    "        self.outputLayerSize = outputLayerSize \n",
    "        \n",
    "        # Initialize Weights\n",
    "        self.Wh = np.random.randn(inputLayerSize, hiddenLayerSize)/np.sqrt(inputLayerSize)\n",
    "        self.Wo = np.random.randn(hiddenLayerSize, outputLayerSize)/np.sqrt(hiddenLayerSize)\n",
    "        #print  (\"Weights: \",self.Wh,self.Wo)\n",
    "        \n",
    "        # Initialize Biases\n",
    "        # Small positive value to avoid Relu units dying too quickly\n",
    "        # http://cs231n.github.io/neural-networks-2/\n",
    "        self.Bh = np.full((1, hiddenLayerSize), 0.2)\n",
    "        self.Bo = np.full((1, outputLayerSize), 0.2)\n",
    "        #print (\"Biases: \",self.Bh,self.Bo)\n",
    "        \n",
    "        # Normalized Data Range\n",
    "        self.minNorm = 0\n",
    "        self.maxNorm = 1\n",
    "        \n",
    "        # Weighted Inputs\n",
    "        self.Zh = None\n",
    "        self.Zo = None\n",
    "        \n",
    "        # Activations\n",
    "        self.Ah = None\n",
    "        self.Ao = None\n",
    "        \n",
    "        # Logging\n",
    "        self.log_interval = 1000\n",
    "        \n",
    "    def normalize(self, X, newMin, newMax):\n",
    "        curMin = np.amin(X, axis=0)\n",
    "        curMax = np.amax(X, axis=0)\n",
    "        curRange = (curMax - curMin)  \n",
    "        newRange = (newMax - newMin)\n",
    "        return (((X - curMin) * newRange) / curRange) + newMin\n",
    "\n",
    "    def denormalize(self, normalized, oldMin, oldMax):\n",
    "        return self.normalize(normalized, oldMin, oldMax)\n",
    "\n",
    "    def relu(self, z):\n",
    "        return np.maximum(0, z)\n",
    "    \n",
    "    def relu_grad(self,z):\n",
    "        #dr/dz = 1(z>0)\n",
    "        grad = np.copy(z)\n",
    "        grad[z <= 0] = 0\n",
    "        grad[z > 0] = 1\n",
    "        return grad\n",
    "    \n",
    "    def cost(self, X, output, y):\n",
    "        cost = np.sum((output-y)**2) / 2.0\n",
    "        return cost\n",
    "    \n",
    "    def cost_grad(self, output, y):\n",
    "        return output - y\n",
    "    \n",
    "    def dCdW(self, layer_input, layer_error):\n",
    "        #Derivative of Cost with respect to any weight in the network\n",
    "        return np.dot(layer_input.T, layer_error)\n",
    "            \n",
    "    def dCdB(self, curLayerError):\n",
    "        #Derivative of Cost with respect to the Bias of any neuron in the network\n",
    "        '''\n",
    "        CurLayerError has one row for each observation in our training set.\n",
    "        This is fine for dCdW because the matrix multiplication takes\n",
    "        care of transforming the output into dimensions that\n",
    "        equal our weight dimensions (so we can subtract).\n",
    "        However bias isn't multiplied by anything so we're stuck with \n",
    "        the dimensions of the output error. To fix this take the sum of\n",
    "        all the output errors across observations (we could also take the average\n",
    "        but our learning rate will handle scaling this value appropriately).\n",
    "        The operation below sums all the values in a matrix on the row axis (0).\n",
    "        It's essentially like summing all the rows into a single row. The column\n",
    "        dimensions remain unchanged.\n",
    "        '''\n",
    "        return np.sum(curLayerError, axis=0, keepdims=True)\n",
    "    \n",
    "    def feed_forward(self, X):\n",
    "        self.Zh = np.dot(X, self.Wh) + self.Bh\n",
    "        self.Ah = self.relu(self.Zh)\n",
    "        self.Zo = np.dot(self.Ah, self.Wo) + self.Bo\n",
    "        self.Ao = self.Zo #Last layer is linear -no activation\n",
    "        return self.Ao\n",
    "    \n",
    "    def backprop(self, X, output, y):\n",
    "        err_output = self.cost_grad(output, y) #last layer is linear, no gradient needed\n",
    "        err_hidden = np.dot(err_output, self.Wo.T) * self.relu_grad(self.Zh)\n",
    "\n",
    "        # Weight Gradients\n",
    "        dCdWh = self.dCdW(X, err_hidden)\n",
    "        dCdWo = self.dCdW(self.Ah, err_output)\n",
    "        \n",
    "        # Bias Gradients\n",
    "        dCdBh = self.dCdB(err_hidden)\n",
    "        dCdBo = self.dCdB(err_output)\n",
    "\n",
    "        return dCdWh, dCdWo, dCdBh, dCdBo\n",
    "    \n",
    "    def update_weights(self, X, y, lr):\n",
    "        output = self.feed_forward(X)\n",
    "        dCdWh, dCdWo, dCdBh, dCdBo = self.backprop(X, output, y)\n",
    "        \n",
    "        # Update Weights\n",
    "        self.Wh -= lr * dCdWh\n",
    "        self.Wo -= lr * dCdWo\n",
    "        \n",
    "        # Update Biases\n",
    "        self.Bh -= lr * dCdBh\n",
    "        self.Bo -= lr * dCdBo\n",
    "    \n",
    "        cost = self.cost(X, output, y)\n",
    "        return cost\n",
    "\n",
    "    def train(self, X, y, epochs, lr, log_interval):\n",
    "        self.log_interval=log_interval\n",
    "        X = self.normalize(X, self.minNorm, self.maxNorm)\n",
    "        y = self.normalize(y, self.minNorm, self.maxNorm)\n",
    "        cost_history = []\n",
    "        for epoch in range(1,epochs+1):\n",
    "            self.log(\"Epoch %d ---------------\" % epoch, epoch)\n",
    "            cost = self.update_weights(X, y, lr)\n",
    "            cost_history.append(cost)\n",
    "            msg = \"Cost:\" + str(round(cost,5)) + \"\\n\"\n",
    "            self.log(msg, epoch)\n",
    "#             self.log(\"Weights:\" + str(self.Wh) + str(self.Wo), epoch)\n",
    "            #self.log(\"Ao\" + str(self.Ao), epoch)\n",
    "        return cost_history\n",
    "    \n",
    "    def predict(self, X, y_min, y_max):\n",
    "        normalized_input = self.normalize(X, self.minNorm, self.maxNorm)\n",
    "        output = self.feed_forward(normalized_input)\n",
    "        denormalized_output = self.denormalize(output, y_min, y_max)\n",
    "        return denormalized_output\n",
    "    \n",
    "    def log(self, msg, epoch):\n",
    "        if epoch == 1 or epoch % self.log_interval == 0:\n",
    "            print(msg)        "
   ]
  },
  {
   "cell_type": "markdown",
   "metadata": {},
   "source": [
    "### Visualize"
   ]
  },
  {
   "cell_type": "code",
   "execution_count": 1405,
   "metadata": {
    "collapsed": true
   },
   "outputs": [],
   "source": [
    "def graph(x, y, xlabel=\"X\", ylabel=\"Y\", title=\"X vs Y\"):\n",
    "    plt.plot(x, y)\n",
    "    plt.title(title)\n",
    "    plt.xlabel(xlabel)\n",
    "    plt.ylabel(ylabel)\n",
    "    plt.show()\n",
    "    \n",
    "def graph_error(error_history):\n",
    "    iterations = [i for i in range(1,len(error_history)+1)]\n",
    "    plt.plot(iterations, error_history)\n",
    "    plt.title('Error Rate')\n",
    "    plt.xlabel('Training Iterations')\n",
    "    plt.ylabel('Mean Squared Error')\n",
    "    plt.show()"
   ]
  },
  {
   "cell_type": "markdown",
   "metadata": {},
   "source": [
    "### Load Data"
   ]
  },
  {
   "cell_type": "code",
   "execution_count": 1406,
   "metadata": {
    "collapsed": false
   },
   "outputs": [
    {
     "data": {
      "image/png": "[encoded data removed]",
      "text/plain": [
       "<matplotlib.figure.Figure at 0x116e6f898>"
      ]
     },
     "metadata": {},
     "output_type": "display_data"
    },
    {
     "data": {
      "image/png": "[encoded data removed]",
      "text/plain": [
       "<matplotlib.figure.Figure at 0x1193d4710>"
      ]
     },
     "metadata": {},
     "output_type": "display_data"
    }
   ],
   "source": [
    "def quadratic(x):\n",
    "    return x**2 + x + 3\n",
    "\n",
    "def get_quadratic_data(start,end,step_size=1):\n",
    "    X = np.array([i for i in np.arange(start,end,step_size)], dtype=\"float64\")    \n",
    "    X.shape = (len(X),1)\n",
    "    \n",
    "    y = np.array([quadratic(X[i]) for i in range(len(X))], dtype=\"float64\")\n",
    "    y.shape = (len(y),1)\n",
    "    \n",
    "    return X, y\n",
    "\n",
    "def cubic(x):\n",
    "    return x**3 + x**2 - x - 1\n",
    "\n",
    "def get_cubic_data(start,end,step_size=1):\n",
    "    X = np.array([i for i in np.arange(start,end,step_size)], dtype=\"float64\")    \n",
    "    X.shape = (len(X),1)\n",
    "    \n",
    "    y = np.array([cubic(X[i]) for i in range(len(X))], dtype=\"float64\")\n",
    "    y.shape = (len(y),1)\n",
    "    \n",
    "    return X, y\n",
    "\n",
    "\n",
    "qX, qy = get_quadratic_data(-6,6)\n",
    "graph(qX,qy)\n",
    "\n",
    "cX, cy = get_cubic_data(-6,6,.1)\n",
    "graph(cX,cy)"
   ]
  },
  {
   "cell_type": "markdown",
   "metadata": {},
   "source": [
    "### Training"
   ]
  },
  {
   "cell_type": "code",
   "execution_count": 1414,
   "metadata": {
    "collapsed": false
   },
   "outputs": [],
   "source": [
    "np.random.seed(2)\n",
    "X,y = get_quadratic_data(-20,21)\n",
    "X,y = get_cubic_data(-20,21)\n",
    "\n",
    "#ReLU needs more starting neurons b/c some will \"die\" \n",
    "nn = NeuralNetwork(1,6,1)"
   ]
  },
  {
   "cell_type": "code",
   "execution_count": 1415,
   "metadata": {
    "collapsed": false
   },
   "outputs": [
    {
     "name": "stdout",
     "output_type": "stream",
     "text": [
      "Epoch 1 ---------------\n",
      "Cost:14.05471\n",
      "\n",
      "Epoch 10000 ---------------\n",
      "Cost:0.10074\n",
      "\n",
      "Epoch 20000 ---------------\n",
      "Cost:0.09512\n",
      "\n",
      "Epoch 30000 ---------------\n",
      "Cost:0.09174\n",
      "\n",
      "Epoch 40000 ---------------\n",
      "Cost:0.08827\n",
      "\n",
      "Epoch 50000 ---------------\n",
      "Cost:0.0846\n",
      "\n",
      "Epoch 60000 ---------------\n",
      "Cost:0.08071\n",
      "\n",
      "Epoch 70000 ---------------\n",
      "Cost:0.0766\n",
      "\n",
      "Epoch 80000 ---------------\n",
      "Cost:0.07232\n",
      "\n",
      "Epoch 90000 ---------------\n",
      "Cost:0.06793\n",
      "\n",
      "Epoch 100000 ---------------\n",
      "Cost:0.06348\n",
      "\n",
      "Epoch 110000 ---------------\n",
      "Cost:0.05901\n",
      "\n",
      "Epoch 120000 ---------------\n",
      "Cost:0.05452\n",
      "\n",
      "Epoch 130000 ---------------\n",
      "Cost:0.05013\n",
      "\n",
      "Epoch 140000 ---------------\n",
      "Cost:0.04589\n",
      "\n",
      "Epoch 150000 ---------------\n",
      "Cost:0.04192\n",
      "\n",
      "Epoch 160000 ---------------\n",
      "Cost:0.03829\n",
      "\n",
      "Epoch 170000 ---------------\n",
      "Cost:0.03503\n",
      "\n",
      "Epoch 180000 ---------------\n",
      "Cost:0.03206\n",
      "\n",
      "Epoch 190000 ---------------\n",
      "Cost:0.02934\n",
      "\n",
      "Epoch 200000 ---------------\n",
      "Cost:0.02687\n",
      "\n",
      "Epoch 210000 ---------------\n",
      "Cost:0.02463\n",
      "\n",
      "Epoch 220000 ---------------\n",
      "Cost:0.02267\n",
      "\n",
      "Epoch 230000 ---------------\n",
      "Cost:0.02099\n",
      "\n",
      "Epoch 240000 ---------------\n",
      "Cost:0.01952\n",
      "\n",
      "Epoch 250000 ---------------\n",
      "Cost:0.0182\n",
      "\n",
      "Epoch 260000 ---------------\n",
      "Cost:0.01701\n",
      "\n",
      "Epoch 270000 ---------------\n",
      "Cost:0.01594\n",
      "\n",
      "Epoch 280000 ---------------\n",
      "Cost:0.01498\n",
      "\n",
      "Epoch 290000 ---------------\n",
      "Cost:0.01413\n",
      "\n",
      "Epoch 300000 ---------------\n",
      "Cost:0.01337\n",
      "\n"
     ]
    },
    {
     "data": {
      "image/png": "[encoded data removed]",
      "text/plain": [
       "<matplotlib.figure.Figure at 0x11c687dd8>"
      ]
     },
     "metadata": {},
     "output_type": "display_data"
    }
   ],
   "source": [
    "cost_hist = nn.train(X, y, epochs=300000, lr=.0001, log_interval=10000)\n",
    "graph_error(cost_hist)"
   ]
  },
  {
   "cell_type": "code",
   "execution_count": 1416,
   "metadata": {
    "collapsed": false
   },
   "outputs": [],
   "source": [
    "start,end = (-20,20)\n",
    "\n",
    "#Quadratic\n",
    "X,y = get_quadratic_data(start,end)\n",
    "output = nn.predict(X,y_min=0,y_max=quadratic(max(abs(start), abs(end))))\n",
    "\n",
    "#Cubic\n",
    "X,y = get_cubic_data(start, end)\n",
    "output = nn.predict(X,y_min=cubic(start), y_max=cubic(end))"
   ]
  },
  {
   "cell_type": "code",
   "execution_count": 1417,
   "metadata": {
    "collapsed": false
   },
   "outputs": [
    {
     "data": {
      "image/png": "[encoded data removed]",
      "text/plain": [
       "<matplotlib.figure.Figure at 0x11cc140b8>"
      ]
     },
     "metadata": {},
     "output_type": "display_data"
    }
   ],
   "source": [
    "plt.plot(X,y)\n",
    "plt.plot(X,output)\n",
    "plt.show()"
   ]
  },
  {
   "cell_type": "markdown",
   "metadata": {},
   "source": [
    "### How Does Number of Neurons Impact Learning?"
   ]
  },
  {
   "cell_type": "code",
   "execution_count": 1315,
   "metadata": {
    "collapsed": false
   },
   "outputs": [
    {
     "name": "stdout",
     "output_type": "stream",
     "text": [
      "Epoch 1 ---------------\n",
      "Cost:4.68752\n",
      "\n",
      "Epoch 50000 ---------------\n",
      "Cost:0.10273\n",
      "\n",
      "Epoch 100000 ---------------\n",
      "Cost:0.10235\n",
      "\n",
      "Epoch 150000 ---------------\n",
      "Cost:0.10214\n",
      "\n",
      "Epoch 200000 ---------------\n",
      "Cost:0.10201\n",
      "\n",
      "Epoch 1 ---------------\n",
      "Cost:3.21028\n",
      "\n",
      "Epoch 50000 ---------------\n",
      "Cost:0.10587\n",
      "\n",
      "Epoch 100000 ---------------\n",
      "Cost:0.10378\n",
      "\n",
      "Epoch 150000 ---------------\n",
      "Cost:0.10263\n",
      "\n",
      "Epoch 200000 ---------------\n",
      "Cost:0.09994\n",
      "\n",
      "Epoch 1 ---------------\n",
      "Cost:2.2018\n",
      "\n",
      "Epoch 50000 ---------------\n",
      "Cost:0.0644\n",
      "\n",
      "Epoch 100000 ---------------\n",
      "Cost:0.03713\n",
      "\n",
      "Epoch 150000 ---------------\n",
      "Cost:0.02208\n",
      "\n",
      "Epoch 200000 ---------------\n",
      "Cost:0.01395\n",
      "\n",
      "Epoch 1 ---------------\n",
      "Cost:2.73806\n",
      "\n",
      "Epoch 50000 ---------------\n",
      "Cost:0.03478\n",
      "\n",
      "Epoch 100000 ---------------\n",
      "Cost:0.01597\n",
      "\n",
      "Epoch 150000 ---------------\n",
      "Cost:0.00897\n",
      "\n",
      "Epoch 200000 ---------------\n",
      "Cost:0.00588\n",
      "\n"
     ]
    }
   ],
   "source": [
    "np.random.seed(2)\n",
    "\n",
    "epochs = 200000\n",
    "learning_rate = .0001\n",
    "costs = {}\n",
    "cost_histories = {}\n",
    "predictions = {}\n",
    "networks = {}\n",
    "neurons = [3,6,20,100]\n",
    "for n in neurons:\n",
    "    start,end = (-20,21)\n",
    "    X,y = get_cubic_data(start,end)\n",
    "    nn = NeuralNetwork(1,n,1)\n",
    "    networks[n] = nn\n",
    "    cost_histories[n] = nn.train(X, y, epochs=epochs, lr=learning_rate, log_interval=50000)\n",
    "    \n",
    "    X,y = get_cubic_data(-10,10)\n",
    "    predictions[n] = nn.predict(X,y_min=cubic(start), y_max=cubic(end))\n",
    "    costs[n] = math.log(nn.cost(X, predictions[n], y))"
   ]
  },
  {
   "cell_type": "code",
   "execution_count": 1316,
   "metadata": {
    "collapsed": false
   },
   "outputs": [
    {
     "data": {
      "image/png": "[encoded data removed]",
      "text/plain": [
       "<matplotlib.figure.Figure at 0x11c6599b0>"
      ]
     },
     "metadata": {},
     "output_type": "display_data"
    }
   ],
   "source": [
    "plt.plot(np.log(cost_histories[3][300:20000]))\n",
    "plt.plot(np.log(cost_histories[6][300:20000]))\n",
    "plt.plot(np.log(cost_histories[20][300:20000]))\n",
    "plt.plot(np.log(cost_histories[100][300:20000]))\n",
    "plt.show()"
   ]
  },
  {
   "cell_type": "code",
   "execution_count": 1317,
   "metadata": {
    "collapsed": false
   },
   "outputs": [
    {
     "data": {
      "image/png": "[encoded data removed]",
      "text/plain": [
       "<matplotlib.figure.Figure at 0x11c5cb748>"
      ]
     },
     "metadata": {},
     "output_type": "display_data"
    }
   ],
   "source": [
    "plt.plot(X,predictions[3])\n",
    "plt.plot(X,predictions[6])\n",
    "plt.plot(X,predictions[20])\n",
    "plt.plot(X,predictions[100])\n",
    "plt.plot(X,y)\n",
    "plt.show()"
   ]
  },
  {
   "cell_type": "markdown",
   "metadata": {},
   "source": [
    "### Scikit-Learn Example"
   ]
  },
  {
   "cell_type": "code",
   "execution_count": 1369,
   "metadata": {
    "collapsed": false
   },
   "outputs": [],
   "source": [
    "#https://scikit-neuralnetwork.readthedocs.io/en/latest/module_mlp.html#regressor\n",
    "from sknn.mlp import Regressor\n",
    "from sknn.mlp import Layer\n",
    "hiddenLayer = Layer(\"Rectifier\", units=6)\n",
    "outputLayer = Layer(\"Linear\", units=1)\n",
    "nn = Regressor([hiddenLayer, outputLayer], learning_rule='sgd',\n",
    "               learning_rate=.000001,batch_size=1,loss_type=\"mse\")"
   ]
  },
  {
   "cell_type": "code",
   "execution_count": 1370,
   "metadata": {
    "collapsed": false
   },
   "outputs": [
    {
     "data": {
      "image/png": "[encoded data removed]",
      "text/plain": [
       "<matplotlib.figure.Figure at 0x11c151ef0>"
      ]
     },
     "metadata": {},
     "output_type": "display_data"
    }
   ],
   "source": [
    "# Train \n",
    "X,y = get_cubic_data(-20,20,.1)\n",
    "nn.fit(X,y)\n",
    "\n",
    "# Predict\n",
    "predictions = nn.predict(X)\n",
    "\n",
    "# Visualize\n",
    "plt.plot(predictions)\n",
    "plt.plot(y)\n",
    "plt.show()"
   ]
  },
  {
   "cell_type": "code",
   "execution_count": 1371,
   "metadata": {
    "collapsed": false
   },
   "outputs": [
    {
     "data": {
      "text/plain": [
       "[Parameters(weights=array([[-11.45287141,  12.45722937,   8.04637928,  -0.38064903,\n",
       "         -6.37489982,  -1.67033201]]), biases=array([ -86.08496946, -102.68743849,  -66.32998347,   -4.95327882,\n",
       "        -82.96458604,  -21.73816307]), layer='hidden0'),\n",
       " Parameters(weights=array([[-31.97441895],\n",
       "       [ 34.41969432],\n",
       "       [ 22.23291642],\n",
       "       [ -1.94084529],\n",
       "       [-32.50437462],\n",
       "       [ -8.51670986]]), biases=array([ 0.89709494]), layer='output')]"
      ]
     },
     "execution_count": 1371,
     "metadata": {},
     "output_type": "execute_result"
    }
   ],
   "source": [
    "nn.get_parameters()"
   ]
  },
  {
   "cell_type": "markdown",
   "metadata": {
    "collapsed": true
   },
   "source": [
    "### Universal Function Approximation Code"
   ]
  },
  {
   "cell_type": "code",
   "execution_count": 1393,
   "metadata": {
    "collapsed": false
   },
   "outputs": [
    {
     "name": "stdout",
     "output_type": "stream",
     "text": [
      "Weights\n",
      "(1, 6)\n",
      "(6, 1)\n",
      "[[-5.  -1.2  1.2  1.2  2.   5. ]]\n",
      "[[-1.]\n",
      " [-1.]\n",
      " [-1.]\n",
      " [ 1.]\n",
      " [ 1.]\n",
      " [ 1.]]\n",
      "Biases\n",
      "(1, 6)\n",
      "(1, 1)\n",
      "[[-7.7 -1.3  1.  -0.2 -1.1 -5. ]]\n",
      "[[-0.]]\n",
      "(40, 1)\n",
      "(40, 1)\n"
     ]
    }
   ],
   "source": [
    "'''\n",
    "Update the predict function in the NN class above to be:\n",
    "\n",
    "def predict(self, X, y_min, y_max):\n",
    "    return self.feed_forward(X)\n",
    "'''\n",
    "\n",
    "np.random.seed(3)\n",
    "\n",
    "nn = NeuralNetwork(1,6,1)\n",
    "\n",
    "print (\"Weights\")\n",
    "print (nn.Wh.shape)\n",
    "print (nn.Wo.shape)\n",
    "\n",
    "hiddenWeights = np.array([\n",
    "    [-5.0, -1.2, 1.2, 1.2, 2.0, 5.0],\n",
    "])\n",
    "\n",
    "outputWeights = np.array([\n",
    "    [-1.0],\n",
    "    [-1.0],\n",
    "    [-1.0],\n",
    "    [1.0],\n",
    "    [1.0],\n",
    "    [1.0]\n",
    "])\n",
    "\n",
    "\n",
    "nn.Wh = hiddenWeights\n",
    "nn.Wo = outputWeights\n",
    "\n",
    "print (nn.Wh)\n",
    "print (nn.Wo)\n",
    "\n",
    "print (\"Biases\")\n",
    "print (nn.Bh.shape)\n",
    "print (nn.Bo.shape)\n",
    "\n",
    "hiddenBias = np.array([\n",
    "    [-7.7, -1.3, 1.0, -0.2, -1.1, -5.0]\n",
    "])\n",
    "\n",
    "outputBias = np.array([\n",
    "    [-0.0]\n",
    "])\n",
    "\n",
    "nn.Bh = hiddenBias\n",
    "nn.Bo = outputBias\n",
    "\n",
    "print (nn.Bh)\n",
    "print (nn.Bo)\n",
    "\n",
    "#x**3 + x**2 - x - 1\n",
    "\n",
    "X,y = get_cubic_data(-2,2,.1)\n",
    "print (X.shape)\n",
    "print (y.shape)\n",
    "predictions = nn.predict(X,y_min=cubic(-2), y_max=cubic(2))"
   ]
  },
  {
   "cell_type": "markdown",
   "metadata": {},
   "source": [
    "### Predictions w My Weights"
   ]
  },
  {
   "cell_type": "code",
   "execution_count": 1394,
   "metadata": {
    "collapsed": false
   },
   "outputs": [
    {
     "data": {
      "image/png": "[encoded data removed]",
      "text/plain": [
       "<matplotlib.figure.Figure at 0x11bccd9b0>"
      ]
     },
     "metadata": {},
     "output_type": "display_data"
    }
   ],
   "source": [
    "fig, ax = plt.subplots()\n",
    "ax.plot(X, y)\n",
    "ax.plot(X, predictions)\n",
    "ax.grid(True)\n",
    "plt.show()"
   ]
  },
  {
   "cell_type": "code",
   "execution_count": null,
   "metadata": {
    "collapsed": true
   },
   "outputs": [],
   "source": []
  }
 ],
 "metadata": {
  "kernelspec": {
   "display_name": "Python 3",
   "language": "python",
   "name": "python3"
  },
  "language_info": {
   "codemirror_mode": {
    "name": "ipython",
    "version": 3
   },
   "file_extension": ".py",
   "mimetype": "text/x-python",
   "name": "python",
   "nbconvert_exporter": "python",
   "pygments_lexer": "ipython3",
   "version": "3.6.0"
  }
 },
 "nbformat": 4,
 "nbformat_minor": 2
}
