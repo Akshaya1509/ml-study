{
 "cells": [
  {
   "cell_type": "markdown",
   "metadata": {},
   "source": [
    "### Neural Network with ReLU for Regression\n",
   ]
  },
  {
   "cell_type": "code",
   "execution_count": 1404,
   "metadata": {
    "collapsed": false
   },
   "outputs": [],
   "source": [
    "import numpy as np\n",
    "import matplotlib.pyplot as plt\n",
    "\n",
    "class NeuralNetwork():\n",
    "    def __init__(self, inputLayerSize, hiddenLayerSize, outputLayerSize):\n",
    "        self.inputLayerSize = inputLayerSize \n",
    "        self.hiddenLayerSize = hiddenLayerSize \n",
    "        self.outputLayerSize = outputLayerSize \n",
    "        \n",
    "        # Initialize Weights\n",
    "        self.Wh = np.random.randn(inputLayerSize, hiddenLayerSize)/np.sqrt(inputLayerSize)\n",
    "        self.Wo = np.random.randn(hiddenLayerSize, outputLayerSize)/np.sqrt(hiddenLayerSize)\n",
    "        #print  (\"Weights: \",self.Wh,self.Wo)\n",
    "        \n",
    "        # Initialize Biases\n",
    "        # Small positive value to avoid Relu units dying too quickly\n",
    "        # http://cs231n.github.io/neural-networks-2/\n",
    "        self.Bh = np.full((1, hiddenLayerSize), 0.2)\n",
    "        self.Bo = np.full((1, outputLayerSize), 0.2)\n",
    "        #print (\"Biases: \",self.Bh,self.Bo)\n",
    "        \n",
    "        # Normalized Data Range\n",
    "        self.minNorm = 0\n",
    "        self.maxNorm = 1\n",
    "        \n",
    "        # Weighted Inputs\n",
    "        self.Zh = None\n",
    "        self.Zo = None\n",
    "        \n",
    "        # Activations\n",
    "        self.Ah = None\n",
    "        self.Ao = None\n",
    "        \n",
    "        # Logging\n",
    "        self.log_interval = 1000\n",
    "        \n",
    "    def normalize(self, X, newMin, newMax):\n",
    "        curMin = np.amin(X, axis=0)\n",
    "        curMax = np.amax(X, axis=0)\n",
    "        curRange = (curMax - curMin)  \n",
    "        newRange = (newMax - newMin)\n",
    "        return (((X - curMin) * newRange) / curRange) + newMin\n",
    "\n",
    "    def denormalize(self, normalized, oldMin, oldMax):\n",
    "        return self.normalize(normalized, oldMin, oldMax)\n",
    "\n",
    "    def relu(self, z):\n",
    "        return np.maximum(0, z)\n",
    "    \n",
    "    def relu_grad(self,z):\n",
    "        #dr/dz = 1(z>0)\n",
    "        grad = np.copy(z)\n",
    "        grad[z <= 0] = 0\n",
    "        grad[z > 0] = 1\n",
    "        return grad\n",
    "    \n",
    "    def cost(self, X, output, y):\n",
    "        cost = np.sum((output-y)**2) / 2.0\n",
    "        return cost\n",
    "    \n",
    "    def cost_grad(self, output, y):\n",
    "        return output - y\n",
    "    \n",
    "    def dCdW(self, layer_input, layer_error):\n",
    "        #Derivative of Cost with respect to any weight in the network\n",
    "        return np.dot(layer_input.T, layer_error)\n",
    "            \n",
    "    def dCdB(self, curLayerError):\n",
    "        #Derivative of Cost with respect to the Bias of any neuron in the network\n",
    "        '''\n",
    "        CurLayerError has one row for each observation in our training set.\n",
    "        This is fine for dCdW because the matrix multiplication takes\n",
    "        care of transforming the output into dimensions that\n",
    "        equal our weight dimensions (so we can subtract).\n",
    "        However bias isn't multiplied by anything so we're stuck with \n",
    "        the dimensions of the output error. To fix this take the sum of\n",
    "        all the output errors across observations (we could also take the average\n",
    "        but our learning rate will handle scaling this value appropriately).\n",
    "        The operation below sums all the values in a matrix on the row axis (0).\n",
    "        It's essentially like summing all the rows into a single row. The column\n",
    "        dimensions remain unchanged.\n",
    "        '''\n",
    "        return np.sum(curLayerError, axis=0, keepdims=True)\n",
    "    \n",
    "    def feed_forward(self, X):\n",
    "        self.Zh = np.dot(X, self.Wh) + self.Bh\n",
    "        self.Ah = self.relu(self.Zh)\n",
    "        self.Zo = np.dot(self.Ah, self.Wo) + self.Bo\n",
    "        self.Ao = self.Zo #Last layer is linear -no activation\n",
    "        return self.Ao\n",
    "    \n",
    "    def backprop(self, X, output, y):\n",
    "        err_output = self.cost_grad(output, y) #last layer is linear, no gradient needed\n",
    "        err_hidden = np.dot(err_output, self.Wo.T) * self.relu_grad(self.Zh)\n",
    "\n",
    "        # Weight Gradients\n",
    "        dCdWh = self.dCdW(X, err_hidden)\n",
    "        dCdWo = self.dCdW(self.Ah, err_output)\n",
    "        \n",
    "        # Bias Gradients\n",
    "        dCdBh = self.dCdB(err_hidden)\n",
    "        dCdBo = self.dCdB(err_output)\n",
    "\n",
    "        return dCdWh, dCdWo, dCdBh, dCdBo\n",
    "    \n",
    "    def update_weights(self, X, y, lr):\n",
    "        output = self.feed_forward(X)\n",
    "        dCdWh, dCdWo, dCdBh, dCdBo = self.backprop(X, output, y)\n",
    "        \n",
    "        # Update Weights\n",
    "        self.Wh -= lr * dCdWh\n",
    "        self.Wo -= lr * dCdWo\n",
    "        \n",
    "        # Update Biases\n",
    "        self.Bh -= lr * dCdBh\n",
    "        self.Bo -= lr * dCdBo\n",
    "    \n",
    "        cost = self.cost(X, output, y)\n",
    "        return cost\n",
    "\n",
    "    def train(self, X, y, epochs, lr, log_interval):\n",
    "        self.log_interval=log_interval\n",
    "        X = self.normalize(X, self.minNorm, self.maxNorm)\n",
    "        y = self.normalize(y, self.minNorm, self.maxNorm)\n",
    "        cost_history = []\n",
    "        for epoch in range(1,epochs+1):\n",
    "            self.log(\"Epoch %d ---------------\" % epoch, epoch)\n",
    "            cost = self.update_weights(X, y, lr)\n",
    "            cost_history.append(cost)\n",
    "            msg = \"Cost:\" + str(round(cost,5)) + \"\\n\"\n",
    "            self.log(msg, epoch)\n",
    "#             self.log(\"Weights:\" + str(self.Wh) + str(self.Wo), epoch)\n",
    "            #self.log(\"Ao\" + str(self.Ao), epoch)\n",
    "        return cost_history\n",
    "    \n",
    "    def predict(self, X, y_min, y_max):\n",
    "        normalized_input = self.normalize(X, self.minNorm, self.maxNorm)\n",
    "        output = self.feed_forward(normalized_input)\n",
    "        denormalized_output = self.denormalize(output, y_min, y_max)\n",
    "        return denormalized_output\n",
    "    \n",
    "    def log(self, msg, epoch):\n",
    "        if epoch == 1 or epoch % self.log_interval == 0:\n",
    "            print(msg)        "
   ]
  },
  {
   "cell_type": "markdown",
   "metadata": {},
   "source": [
    "### Visualize"
   ]
  },
  {
   "cell_type": "code",
   "execution_count": 1405,
   "metadata": {
    "collapsed": true
   },
   "outputs": [],
   "source": [
    "def graph(x, y, xlabel=\"X\", ylabel=\"Y\", title=\"X vs Y\"):\n",
    "    plt.plot(x, y)\n",
    "    plt.title(title)\n",
    "    plt.xlabel(xlabel)\n",
    "    plt.ylabel(ylabel)\n",
    "    plt.show()\n",
    "    \n",
    "def graph_error(error_history):\n",
    "    iterations = [i for i in range(1,len(error_history)+1)]\n",
    "    plt.plot(iterations, error_history)\n",
    "    plt.title('Error Rate')\n",
    "    plt.xlabel('Training Iterations')\n",
    "    plt.ylabel('Mean Squared Error')\n",
    "    plt.show()"
   ]
  },
  {
   "cell_type": "markdown",
   "metadata": {},
   "source": [
    "### Load Data"
   ]
  },
  {
   "cell_type": "code",
   "execution_count": 1406,
   "metadata": {
    "collapsed": false
   },
   "outputs": [
    {
     "data": {
      "image/png": "iVBORw0KGgoAAAANSUhEUgAAAYIAAAEWCAYAAABrDZDcAAAABHNCSVQICAgIfAhkiAAAAAlwSFlz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\n4XSKbbjPmAAAAABJRU5ErkJggg==\n",
      "text/plain": [
       "<matplotlib.figure.Figure at 0x116e6f898>"
      ]
     },
     "metadata": {},
     "output_type": "display_data"
    },
    {
     "data": {
      "image/png": "iVBORw0KGgoAAAANSUhEUgAAAZEAAAEWCAYAAACnlKo3AAAABHNCSVQICAgIfAhkiAAAAAlwSFlz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\nIiIiEjOFiIiIxOz/A4/oyUtDO2GuAAAAAElFTkSuQmCC\n",
      "text/plain": [
       "<matplotlib.figure.Figure at 0x1193d4710>"
      ]
     },
     "metadata": {},
     "output_type": "display_data"
    }
   ],
   "source": [
    "def quadratic(x):\n",
    "    return x**2 + x + 3\n",
    "\n",
    "def get_quadratic_data(start,end,step_size=1):\n",
    "    X = np.array([i for i in np.arange(start,end,step_size)], dtype=\"float64\")    \n",
    "    X.shape = (len(X),1)\n",
    "    \n",
    "    y = np.array([quadratic(X[i]) for i in range(len(X))], dtype=\"float64\")\n",
    "    y.shape = (len(y),1)\n",
    "    \n",
    "    return X, y\n",
    "\n",
    "def cubic(x):\n",
    "    return x**3 + x**2 - x - 1\n",
    "\n",
    "def get_cubic_data(start,end,step_size=1):\n",
    "    X = np.array([i for i in np.arange(start,end,step_size)], dtype=\"float64\")    \n",
    "    X.shape = (len(X),1)\n",
    "    \n",
    "    y = np.array([cubic(X[i]) for i in range(len(X))], dtype=\"float64\")\n",
    "    y.shape = (len(y),1)\n",
    "    \n",
    "    return X, y\n",
    "\n",
    "\n",
    "qX, qy = get_quadratic_data(-6,6)\n",
    "graph(qX,qy)\n",
    "\n",
    "cX, cy = get_cubic_data(-6,6,.1)\n",
    "graph(cX,cy)"
   ]
  },
  {
   "cell_type": "markdown",
   "metadata": {},
   "source": [
    "### Training"
   ]
  },
  {
   "cell_type": "code",
   "execution_count": 1414,
   "metadata": {
    "collapsed": false
   },
   "outputs": [],
   "source": [
    "np.random.seed(2)\n",
    "X,y = get_quadratic_data(-20,21)\n",
    "X,y = get_cubic_data(-20,21)\n",
    "\n",
    "#ReLU needs more starting neurons b/c some will \"die\" \n",
    "nn = NeuralNetwork(1,6,1)"
   ]
  },
  {
   "cell_type": "code",
   "execution_count": 1418,
   "metadata": {
    "collapsed": false
   },
   "outputs": [
    {
     "name": "stdout",
     "output_type": "stream",
     "text": [
      "Epoch 1 ---------------\n",
      "Cost:0.02518\n",
      "\n",
      "Epoch 10000 ---------------\n",
      "Cost:0.01012\n",
      "\n",
      "Epoch 20000 ---------------\n",
      "Cost:0.00953\n",
      "\n",
      "Epoch 30000 ---------------\n",
      "Cost:0.00918\n",
      "\n",
      "Epoch 40000 ---------------\n",
      "Cost:0.0089\n",
      "\n",
      "Epoch 50000 ---------------\n",
      "Cost:0.00866\n",
      "\n",
      "Epoch 60000 ---------------\n",
      "Cost:0.00844\n",
      "\n",
      "Epoch 70000 ---------------\n",
      "Cost:0.00821\n",
      "\n",
      "Epoch 80000 ---------------\n",
      "Cost:0.00797\n",
      "\n",
      "Epoch 90000 ---------------\n",
      "Cost:0.00776\n",
      "\n",
      "Epoch 100000 ---------------\n",
      "Cost:0.00757\n",
      "\n",
      "Epoch 110000 ---------------\n",
      "Cost:0.0074\n",
      "\n",
      "Epoch 120000 ---------------\n",
      "Cost:0.00724\n",
      "\n",
      "Epoch 130000 ---------------\n",
      "Cost:0.00709\n",
      "\n",
      "Epoch 140000 ---------------\n",
      "Cost:0.00695\n",
      "\n",
      "Epoch 150000 ---------------\n",
      "Cost:0.00683\n",
      "\n",
      "Epoch 160000 ---------------\n",
      "Cost:0.00671\n",
      "\n",
      "Epoch 170000 ---------------\n",
      "Cost:0.00661\n",
      "\n",
      "Epoch 180000 ---------------\n",
      "Cost:0.00652\n",
      "\n",
      "Epoch 190000 ---------------\n",
      "Cost:0.00643\n",
      "\n",
      "Epoch 200000 ---------------\n",
      "Cost:0.00635\n",
      "\n"
     ]
    },
    {
     "data": {
      "image/png": "iVBORw0KGgoAAAANSUhEUgAAAZkAAAEWCAYAAAC0Q+rDAAAABHNCSVQICAgIfAhkiAAAAAlwSFlz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\nRU5ErkJggg==\n",
      "text/plain": [
       "<matplotlib.figure.Figure at 0x11baad5f8>"
      ]
     },
     "metadata": {},
     "output_type": "display_data"
    }
   ],
   "source": [
    "cost_hist = nn.train(X, y, epochs=200000, lr=.0001, log_interval=10000)\n",
    "graph_error(cost_hist)"
   ]
  },
  {
   "cell_type": "code",
   "execution_count": 1416,
   "metadata": {
    "collapsed": false
   },
   "outputs": [],
   "source": [
    "start,end = (-20,20)\n",
    "\n",
    "#Quadratic\n",
    "X,y = get_quadratic_data(start,end)\n",
    "output = nn.predict(X,y_min=0,y_max=quadratic(max(abs(start), abs(end))))\n",
    "\n",
    "#Cubic\n",
    "X,y = get_cubic_data(start, end)\n",
    "output = nn.predict(X,y_min=cubic(start), y_max=cubic(end))"
   ]
  },
  {
   "cell_type": "code",
   "execution_count": 1417,
   "metadata": {
    "collapsed": false
   },
   "outputs": [
    {
     "data": {
      "image/png": "iVBORw0KGgoAAAANSUhEUgAAAYkAAAD8CAYAAACCRVh7AAAABHNCSVQICAgIfAhkiAAAAAlwSFlz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\nf9aG4vt8PYptAAAAAElFTkSuQmCC\n",
      "text/plain": [
       "<matplotlib.figure.Figure at 0x11cc140b8>"
      ]
     },
     "metadata": {},
     "output_type": "display_data"
    }
   ],
   "source": [
    "plt.plot(X,y)\n",
    "plt.plot(X,output)\n",
    "plt.show()"
   ]
  },
  {
   "cell_type": "markdown",
   "metadata": {},
   "source": [
    "### How Does Number of Neurons Impact Learning?"
   ]
  },
  {
   "cell_type": "code",
   "execution_count": 1315,
   "metadata": {
    "collapsed": false
   },
   "outputs": [
    {
     "name": "stdout",
     "output_type": "stream",
     "text": [
      "Epoch 1 ---------------\n",
      "Cost:4.68752\n",
      "\n",
      "Epoch 50000 ---------------\n",
      "Cost:0.10273\n",
      "\n",
      "Epoch 100000 ---------------\n",
      "Cost:0.10235\n",
      "\n",
      "Epoch 150000 ---------------\n",
      "Cost:0.10214\n",
      "\n",
      "Epoch 200000 ---------------\n",
      "Cost:0.10201\n",
      "\n",
      "Epoch 1 ---------------\n",
      "Cost:3.21028\n",
      "\n",
      "Epoch 50000 ---------------\n",
      "Cost:0.10587\n",
      "\n",
      "Epoch 100000 ---------------\n",
      "Cost:0.10378\n",
      "\n",
      "Epoch 150000 ---------------\n",
      "Cost:0.10263\n",
      "\n",
      "Epoch 200000 ---------------\n",
      "Cost:0.09994\n",
      "\n",
      "Epoch 1 ---------------\n",
      "Cost:2.2018\n",
      "\n",
      "Epoch 50000 ---------------\n",
      "Cost:0.0644\n",
      "\n",
      "Epoch 100000 ---------------\n",
      "Cost:0.03713\n",
      "\n",
      "Epoch 150000 ---------------\n",
      "Cost:0.02208\n",
      "\n",
      "Epoch 200000 ---------------\n",
      "Cost:0.01395\n",
      "\n",
      "Epoch 1 ---------------\n",
      "Cost:2.73806\n",
      "\n",
      "Epoch 50000 ---------------\n",
      "Cost:0.03478\n",
      "\n",
      "Epoch 100000 ---------------\n",
      "Cost:0.01597\n",
      "\n",
      "Epoch 150000 ---------------\n",
      "Cost:0.00897\n",
      "\n",
      "Epoch 200000 ---------------\n",
      "Cost:0.00588\n",
      "\n"
     ]
    }
   ],
   "source": [
    "np.random.seed(2)\n",
    "\n",
    "epochs = 200000\n",
    "learning_rate = .0001\n",
    "costs = {}\n",
    "cost_histories = {}\n",
    "predictions = {}\n",
    "networks = {}\n",
    "neurons = [3,6,20,100]\n",
    "for n in neurons:\n",
    "    start,end = (-20,21)\n",
    "    X,y = get_cubic_data(start,end)\n",
    "    nn = NeuralNetwork(1,n,1)\n",
    "    networks[n] = nn\n",
    "    cost_histories[n] = nn.train(X, y, epochs=epochs, lr=learning_rate, log_interval=50000)\n",
    "    \n",
    "    X,y = get_cubic_data(-10,10)\n",
    "    predictions[n] = nn.predict(X,y_min=cubic(start), y_max=cubic(end))\n",
    "    costs[n] = math.log(nn.cost(X, predictions[n], y))"
   ]
  },
  {
   "cell_type": "code",
   "execution_count": 1316,
   "metadata": {
    "collapsed": false
   },
   "outputs": [
    {
     "data": {
      "image/png": "iVBORw0KGgoAAAANSUhEUgAAAYEAAAD8CAYAAACRkhiPAAAABHNCSVQICAgIfAhkiAAAAAlwSFlz\nAAALEgAACxIB0t1+/AAAIABJREFUeJzt3XmcXHWd7//X59TW+76ku9N70gkhEAIxbBHwggh4AZnR\ncbleF8ZBlFHnMS5Xh5k7/viN4+71MaN3Rka9IyqCV0VQQQFZokKADlkheye9prf0vtX6vX/U6e7q\nTi9JV3VVd9Xn+Xicxzl1zrfO99PVSb377GKMQSmlVGqyEl2AUkqpxNEQUEqpFKYhoJRSKUxDQCml\nUpiGgFJKpTANAaWUSmEaAkoplcI0BJRSKoVpCCilVApzJrqAhRQVFZmamppEl6GUUqvG7t27e40x\nxefafkWHQE1NDY2NjYkuQymlVg0RaT6f9ro7SCmlUpiGgFJKpTANAaWUSmEaAkoplcI0BJRSKoVp\nCCilVArTEFBKqRSWdCHgD4b4388dZ+fRnkSXopRSK17ShYDTEu7f2cQTB08nuhSllFrxYhICInKT\niBwRkeMi8tk5louI/Iu9fL+IXBqLfuephU1lObzeMbRcXSilVNKIOgRExAF8G7gZ2AS8W0Q2zWp2\nM7DeHu4C/i3afheyqSyHw53DBIKh5exGKaVWvVhsCWwHjhtjmowxPuAh4PZZbW4HHjBhu4A8ESmL\nQd9z2lSegzcQ4mTv6HJ1oZRSSSEWIVABtEa8brPnnW+bmNlUngPA66d1l5BSSi1kxR0YFpG7RKRR\nRBp7epZ2hk99cRZuh6XHBZRSahGxCIF2oDLi9Vp73vm2AcAYc78xZpsxZltx8TnfEnsGl8OiYU2W\nbgkopdQiYhECrwDrRaRWRNzAu4DHZrV5DHiffZbQFcCgMWZZz+GcPEPIGLOc3Sil1KoWdQgYYwLA\nXwO/Aw4BPzXGvCYid4vI3Xazx4Em4DjwH8BHo+13MZvKcjgz6qN72LvcXSml1KoVkyeLGWMeJ/xF\nHznv3yOmDXBPLPo6V5vKcwE42D5IaU5aPLtWSqlVY8UdGI6VC8tzsAT2tw0muhSllFqxkjYEMj1O\n1pVkcaBdQ0AppeaTtCEAcFFFHvvbBvTgsFJKzSOpQ2BLZS69Iz5OD04kuhSllFqRkjoELqoIHxze\n3zaQ4EqUUmplSuoQuKAsB6clenBYKaXmkdQhkOZysLEsW0NAKaXmkdQhAHpwWCmlFpL0IbBlbS5D\nEwGaz4wluhSllFpxkj4ELlprHxzW6wWUUuosSR8CDaXZeJwW+1v1DCGllJot6UPA5bC4sDxHDw4r\npdQckj4EALZU5nGgfVCfOayUUrOkRAhsrcpn3B/kSNdwoktRSqkVJTVCoDIPgFdb9LiAUkpFSokQ\nWJufTlGWhz0t/YkuRSmlVpSUCAERYWtVHnt1S0AppWZIiRAA2FqVR1PvKP2jvkSXopRSK0bKhMCl\nVfkA7NXrBZRSakrKhMDFa3OxBD0uoJRSEVImBDLcTjauyWGPbgkopdSUlAkBYOrgcCikdxRVSilI\nuRDIZ9gb4HjPSKJLUUqpFSHFQiB80ZgeF1BKqbCUCoG6okxy013s0esFlFIKSLEQmLxo7FXdElBK\nKSDFQgBga2U+x7pHGJrwJ7oUpZRKuKhCQEQKROQpETlmj/PnaXdKRA6IyF4RaYymz2htrcrDGNjf\nqs8XUEqpaLcEPgv83hizHvi9/Xo+bzLGXGKM2RZln1HZUpmHCDQ29yWyDKWUWhGiDYHbgR/Y0z8A\n3hbl+pZdbrqLDaXZ7G7W4wJKKRVtCJQaY07b051A6TztDPC0iOwWkbsWWqGI3CUijSLS2NPTE2V5\nc9tWk8+rzf36pDGlVMpbNARE5GkROTjHcHtkO2OMIfxlP5cdxphLgJuBe0Tkmvn6M8bcb4zZZozZ\nVlxcfD4/yzl7Q00Bo74ghzv1SWNKqdTmXKyBMeaG+ZaJSJeIlBljTotIGdA9zzra7XG3iDwCbAd2\nLrHmqG2rKQCg8VQfmytyE1WGUkolXLS7gx4D3m9Pvx94dHYDEckUkezJaeBG4GCU/UalIi+d8tw0\nXtHjAkqpFBdtCHwJeLOIHANusF8jIuUi8rjdphT4o4jsA14GfmOM+W2U/UZtW00Bjaf6CO/FUkqp\n1LTo7qCFGGPOANfPMb8DuMWebgK2RNPPcnhDTT6P7eugrX+cyoKMRJejlFIJkXJXDE+aPC7wyim9\nXkAplbpSNgQaSrPJTnPyyik9LqCUSl0pGwIOS7isOp9G3RJQSqWwlA0BCF8vcKx7hP5RX6JLUUqp\nhEjpENhWHb7fnR4XUEqlqpQOgS2VebidFruaNASUUqkppUMgzeXgsqp8Xmw6k+hSlFIqIVI6BACu\nrC/k0OkhPS6glEpJGgL1hQC8dFK3BpRSqSflQ2DL2jzSXQ5ePKEhoJRKPSkfAm6nxbYaPS6glEpN\nKR8CEN4ldLRrhN4Rb6JLUUqpuNIQAK6sCx8X2KVbA0qpFKMhAFxUkUuWx8kLelxAKZViNAQAp8Pi\nirpCdh7t0ecLKKVSioaA7doNxbT1j3OydzTRpSilVNxoCNiuawg/1P75oz0JrkQppeJHQ8BWWZBB\nXXEmzx3REFBKpQ4NgQjXNhSzq+kME/5goktRSqm40BCIcG1DMd5AiJdO6l1FlVKpQUMgwhV1hXic\nFs8d6U50KUopFRcaAhHSXA52rCviyde69FRRpVRK0BCY5abNa2gfGOdA+2CiS1FKqWWnITDLDReU\n4rCEJw52JroUpZRadhoCs+RnurmyrpDfHuzUXUJKqaSnITCHmzav4WTvKIdODye6FKWUWlZRhYCI\nvENEXhORkIhsW6DdTSJyRESOi8hno+kzHm7evAanJTy6tz3RpSil1LKKdkvgIPBnwM75GoiIA/g2\ncDOwCXi3iGyKst9lVZjl4dqGYn65t51gSHcJKaWSV1QhYIw5ZIw5skiz7cBxY0yTMcYHPATcHk2/\n8XDHpRV0DXn1sZNKqaQWj2MCFUBrxOs2e96KdsMFpWR7nPz81bZEl6KUUstm0RAQkadF5OAcw7L8\nNS8id4lIo4g09vQk7mZuaS4Ht28t5zcHTjMw5ktYHUoptZwWDQFjzA3GmM1zDI+eYx/tQGXE67X2\nvPn6u98Ys80Ys624uPgcu1ge79lejS8Q4me7dWtAKZWc4rE76BVgvYjUiogbeBfwWBz6jdqm8hy2\nVuXx4Estes2AUiopRXuK6B0i0gZcCfxGRH5nzy8XkccBjDEB4K+B3wGHgJ8aY16LruyFjfnHGPIN\nxWRd7728mqbeUX3YjFIqKUV7dtAjxpi1xhiPMabUGPMWe36HMeaWiHaPG2MajDH1xpgvRFv0QoKh\nIDse2sH3D3w/Juu7dUs5pTke7t/ZFJP1KaXUSpJ0Vww7LAcVWRW0DLfEZH1up8WdV9fywokzHGjT\nm8oppZJL0oUAQFVOFc1DzTFb37svryLb4+Q7O0/EbJ1KKbUSJGcIZFfROtwas4O5OWku3nN5FY8f\nOM2p3tGYrFMppVaCpAyB6pxqxgPjdI/F7glhf/nGWtxOi28+fTRm61RKqURLyhCoyqkCiNlxAYCS\n7DQ+cFUtj+7r4HBnbM48UkqpREvKEKjOqQaI6XEBgLuvrSPL7eTrT+rWgFIqOSRlCKzJWIPLctEy\nFLstAYC8DDd3XVPHU693sbd1IKbrVkqpREjKEHBYDiqzK2O+JQDwwR21FGS6+drvFrt5qlJKrXxJ\nGQIQPi4Qy2MCk7I8Tj56XT1/PN7Ls0did+BZKaUSIWlDoDq7mtbhVkImFPN1v+/KGuqKMrnvV6/j\nC8R+/UopFS9JGwJVOVV4g166Rrtivm630+Ifbt3Eyd5Rvv+nkzFfv1JKxUvShsDkGUKnhk4ty/rf\ntKGEGy4o4V9/f4yuoYll6UMppZZb0oZATU4NsHwhAPD3b92EP2j40hOHl60PpZRaTkkbAiUZJWS7\nsjkxsHz3+6kpyuSvrqnlkT3tNJ7qW7Z+lFJquSRtCIgIdXl1HB84vqz93POmdazJSeMfH3uNYEgf\nPKOUWl2SNgQA1uWto2lgeZ8DkOF28ndvvYDXOoZ48OXYn5KqlFLLKalDoC63jn5vP2fGzyxrP7de\nXMbV6wr50uOHaOsfW9a+lFIqlpI6BNblrQOgaXB5twZEhC/92cUY4HO/OKDPI1ZKrRpJHQL1efUA\ny35cAKCyIIPP3byRPxzr5aeNrcven1JKxUJSh0BJRglZrqxlPUMo0n+7vJor6gr4p18fomNgPC59\nKqVUNJI6BESE+rz6uIWAZQlf+fMtBEJGdwsppVaFpA4BCB8XiFcIAFQVZvA/btrA80d7+L+72+LW\nr1JKLUXSh0B9Xj393n56x3vj1uf7rqxhe00B//+vX9ezhZRSK1rSh8DGgo0AHO6L360dLEv42ju2\nEAoZ/van+/QiMqXUipX0IbChYAMQ3xCA8G6hz992IS+f7OM7O+O3O0oppc5H0odAjjuHiqwKDp05\nFPe+337ZWt56URnfePIoB9oG496/UkotJulDAGBT4aa4bwlA+OykL9yxmaIsD594eA/jvmDca1BK\nqYVEFQIi8g4ReU1EQiKybYF2p0TkgIjsFZHGaPpcio0FG2kZbmHYNxzvrsnLcPONv9jCyd5R7vv1\n63HvXymlFhLtlsBB4M+AnefQ9k3GmEuMMfOGxXKZPDh8pC8xD4e/al0RH76mnp+83MIv97QnpAal\nlJpLVCFgjDlkjEnMN+t5uKDgAiD+B4cjferGBrbXFvC5XxzgSGf8t0iUUmou8TomYICnRWS3iNwV\npz6nFGcUU5RexKG++B8cnuR0WHzr3VvJSnPykR/tZnjCn7BalFJq0qIhICJPi8jBOYbbz6OfHcaY\nS4CbgXtE5JoF+rtLRBpFpLGnp+c8uljYhYUXcqD3QMzWtxQlOWl8691bae4b429/uo+QXj+glEqw\nRUPAGHODMWbzHMOj59qJMabdHncDjwDbF2h7vzFmmzFmW3Fx8bl2sahLSi7h5OBJBr2JPVXz8rpC\n/uGtF/DU6138r6ePJrQWpZRa9t1BIpIpItmT08CNhA8ox9WW4i0A7OvZF++uz/L+q2p457ZK/vWZ\n4/xqX0eiy1FKpbBoTxG9Q0TagCuB34jI7+z55SLyuN2sFPijiOwDXgZ+Y4z5bTT9LsWFhRfiEMeK\nCAER4b63Xci26nw+/bN9HGzXC8mUUokR7dlBjxhj1hpjPMaYUmPMW+z5HcaYW+zpJmPMFnu40Bjz\nhVgUfr4yXBk05DewrzvxIQDgcTr4t/deRkGGm7seaKRn2JvokpRSKSglrhietKV4Cwd6DxAMrYwr\nd4uzPdz/vm30jfn40AONekWxUiruUisESrYwFhjj2MCxRJcyZXNFLt9851b2tw3w8Yf26B1HlVJx\nlVIhcFnJZQA0dsb9zhULumnzGv7xv27iqde7+P9+9Zo+kUwpFTcpFQJlWWVUZVex6/SuRJdylg9c\nXctfvbGWB15s5v6dTYkuRymVIlIqBAAuL7ucxq5GAqFAoks5y+duvoC3XlzGF584zGN66qhSKg5S\nLgSuKLuCUf8oB3vjfqnCoixL+Po7trC9poBP/nQvzx3pTnRJSqkkl3IhsH3NdgThpdMvJbqUOaW5\nHPzH+7exviSbu3+0m8ZTfYkuSSmVxFIuBPLS8thYsJEXT7+Y6FLmlZvu4oG/3E55bjof/M9XeK1D\nLyZTSi2PlAsBgB0VO9jbvTfh9xFaSFGWhx9+6HKyPU7e972XaeoZSXRJSqkklJIh8KbKNxE0QXa2\nncuzcBKnIi+dH37ocgDe+92XaB8YT3BFSqlkk5IhcGHRhRSnF/Ns67OJLmVR9cVZ/ODO7Qx7A/z3\n775E74jeXkIpFTspGQKWWFxXeR1/bP8j3uDK/1LdXJHL//nAG+gYHOc9/7FL7zOklIqZlAwBCO8S\nGg+M82LHyj1AHGlbTQHff/8baO0b5533v0jn4ESiS1JKJYGUDYEryq4gz5PHr5t+nehSztlV64r4\nwZ3b6Rqc4J33v6jHCJRSUUvZEHA5XNxUcxPPtjzLsG/1PPh9e20BP/zQ5fSN+rjj239iX+tAoktS\nSq1iKRsCALfW34ov5OOp5qcSXcp5ubQqn5/dfRVup8VffOdFvcWEUmrJki4ETCDA4G9+w/j+/Yu2\nvajoImpyavjl8V/GobLY2rAmm0fvuZota/P4+E/28PUnj+iD65VS5y3pQgCHg87/+Y8M/vLRRZuK\nCG9veDt7uvdw6MyhOBQXW4VZHn70oct5x2Vr+ddnjnPPg68y5lt5N8ZTSq1cSRcCIoJn/Xq8R4+e\nU/s71t9BujOdBw8/uMyVLQ+30+Irb7+Ye2+5gN++1sk7/v1FOvSAsVLqHCVdCAB4GhqYOHbsnB7O\nkuPO4bb623i86XHOjJ+JQ3WxJyL81TV1fP/9b6D5zBi3f/tP7GnpT3RZSqlVIGlDIDQ4SKD73G7F\n/J4L3oM/5OcHr/9gmStbXm/aWMIvPnoVaS6Ld96/iwdfatGnlCmlFpSkIbAe4Jx3CdXl1nFL3S08\ndPghesd7l7O0ZddQms2j9+xge00Bf/fIAT7yo1fpG/Uluiyl1AqVlCGQ1tAAgPfIkXN+z90X3403\n6OV7B763XGXFTUGmmwfu3M7nbt7I7w93ceP/2snTr3cluiyl1AqUlCHgyMvDtXYt4/sPnPN7anJr\nuGPdHTx0+CFODJxYxuriw7KED19bz6P37KAoy82HHmjkngdfpXtYbzehlJqWlCEAkL51K2N7Xj2v\nfeIfv/TjZLgy+Kdd/5Q0+9I3lefw2F/v4JNvbuCp17q44evP85OXWwjqNQVKKZI6BC4h2NOLv/3c\nr6YtSCvgE5d+gsauRn5+7OfLWF18uZ0WH7t+PU/8zRvZWJbD535xgFv/9Y/salqdZ0MppWInqhAQ\nka+KyGER2S8ij4hI3jztbhKRIyJyXEQ+G02f5ypj61YAxve8el7ve3vD27m87HK+8spXaBpoWo7S\nEqa+OIuH77qCf3n3VgbGfLzr/l3c/cPdnOodTXRpSqkEiXZL4ClgszHmYuAo8LnZDUTEAXwbuBnY\nBLxbRDZF2e+iPA0NWLm5jL6467zeZ4nFP+/4ZzwOD5/a+SnG/GPLVGFiiAi3bSnnmU9dxyff3MDz\nR3u4/hvP85mf7aO1L7l+VqXU4qIKAWPMk8aYyfsU7ALWztFsO3DcGNNkjPEBDwG3R9PvuRCHg6yr\nr2bk+ecxodB5vbcko4QvvfFLnBg4wad3fppAKPluxZDmcvCx69fz/Geu431XVvPLvR286WvP8Zmf\n7eNw51Ciy1NKxUksjwncCTwxx/wKoDXidZs9b9llvek6gmfOMHHw4Hm/9+qKq/m77X/Hzrad3Pfi\nfYTM+QXJalGSncY/3nohz3/6Ot5zeRWP7evgpm/+gfd+9yWePdytN6VTKsk5F2sgIk8Da+ZYdK8x\n5lG7zb1AAPhxtAWJyF3AXQBVVVVRrStzxw5wOhl64rekX3zxeb//nRvfSc94D9/Z/x2CJsh9V92H\nw3JEVdNKVZabzn23b+Zv39zAgy+38MALzXzwP1+hrjiTO6+u5W1bK8jyLPrPRSm1yki0p0KKyAeA\nDwPXG2PO2qksIlcCnzfGvMV+/TkAY8wXF1v3tm3bTGNj4/kX1fh/oPYaKKyn7WMfY+zVPax/7lnE\n5Tr/dQHf2fcdvrX3W+yo2MGXr/kyOe6cJa1nNfEHQzx+4DTf++NJ9rcNkuayuHlzGX9+6VqurC/E\nYUmiS1RKzUFEdhtjtp1z+2hCQERuAr4BXGuM6ZmnjZPwQePrgXbgFeA9xpjXFlv/kkJgrA++tQ1c\nGfD+xxje10zbRz5KxTe/Sc5Nbzm/dUX46ZGf8sWXvsja7LV87dqvsaFgw5LXtZoYY9jbOsDPdrfx\nq30dDE0EKMtN47ZLyrl5cxlb1uYiooGg1EoR7xA4DniAyRPOdxlj7haRcuC7xphb7Ha3AN8EHMD3\njTFfOJf1L3lL4PQ++MFtAJi33c+JT3wDKyOT2l/8PKovrN1du/nkc59k0DfIR7Z8hDs334nTSp1d\nJBP+IE8f6uLnu9v4w7FeAiFDeW4aN20u4+aL1nBZVT6WbiEolVBxDYHltuQQAOhrgofeC92vMWBu\n5PTDByn/+tfIfetbo6ppYGKAL7z0BX576resy1vHZ97wGa4svzKqda5GA2M+nj7UzRMHTvOHY734\ngiEKM91c01DMdRuKeeP6Ygoy3YkuU6mUoyEQyT8Oz34B86dvc+r3pfi9GdT95gmcJaVR1/b75t/z\n1cav0j7SzrVrr+WeS+7hgsILol7vajQ84eeZw908c7ibnUd76B/zIwJb1uZxbUMx1zQUcVFFHm5n\n0l6grtSKoSEwl7bdTPzok5x6oJO0EgdV//xxrG3/HdwZUa3WG/Ty40M/5rv7v8uwf5hr1l7Dhy/+\nMBcXn/+ZSMkiGDIcaB/kuSPdPHekh31tAxgD6S4H22ryuaKukCvqCjQUlFomGgLzMYah73+R9q/+\nkIwSL2uvD+J4w1/A5rfD2jeAtfQvpCHfED859BN+eOiHDHoH2VK8hXdtfBc3Vt+I25Hau0T6R328\ndPIMu5r62NV0hsOdw8B0KLyhpoCtVXlsqcwjJ21pZ28ppaZpCCxi8LHHOH3vvTgyLNZs6SWrbATJ\nXQvrroe666D2WsgsXNK6R/2j/OLYL3j4yMM0DzVTkFbAHevu4Lb626jLq4vpz7Fa9Y36eNkOhRdP\nnOFIVzgURGBdcRaXVOaxtSqfLZW5rC/J1q0Fpc6ThsA5GN+3j9N//w94jx0jra6cwkvdZHkOYgXt\n2yXk10D5Vii7BEo3Q2Ed5FaB49zOBAqZELs6dvGTIz/hD21/IGiCbCrcxK11t3Jz7c0Upi8tZJLR\n0ISf/a2D7GnpZ0/rAHta+ukf8wPgtIT64iw2rMlmfUkW60uzWFeSRVVBpoaDUvPQEDhHxudj4Je/\n5Mx3v4e/pQUrM5PMbZvJqvGQWTSIa/Q1GGiZfoPlhLxqKKiF7DJ7KA2Ps9ZARj6k54Mnd8aupd7x\nXp44+QS/OvErDvUdwiEOLi+7nOurrue/VP0XitKLluXnW62MMbT0jbG3dYAjncMcOj3Ese4R2vrH\np9pYApUFGVQXZlKZn05Ffjpr8zNYm5/O2vx0irM8eu2CSlkaAufJBIOMvfQSg48/zujzOwn0hK95\nc9fWkn7hBtKqCkkrdeLJHMEx2gwDzTDcBaPdMOf9hATSciAtD9LzwmNPNrgzOWGF+HWgjye9p2kJ\njCDA1sy1vLngIq4v2UZZVjk408DpAYcnPJ58PTkvimMXq9moN8CJnhFO9IxwsmeUE72jtJwZo31g\n/KxnKHucFhX56VTkTYfDmpw01uSmUZrjoSQnjWyPU4NCJSUNgSgYY/AeO8bon15g7OWXGT94gGDP\n9IPnXVVVpG3YgGfjBtIa1uOpLMaVbZCRbhjvDw8TAzA+MD0e7wffKPhHw2PfGMY/yjGXi99npvNU\nZgbH3OGDxxd4fVw1Ps7V4xNcMuFlzsOkDvfcATH52uG2A8MNDhdYrulpR+S0214213J3eMtncnr2\ne61Z64lcbjnDQxy/YEe9AdoHxmnrH6O9f5y2qWGMtv5xzswKCYA0l0VJdhrF2R6KstwUZXkozApP\nF2Z6KMh0k5/poiDDTV6GW3c/qVVDQyCGjDEEurqYOHQI75EjTBw6jPfwYXwtLWB/blZ2Np4NDaRt\n2IhnXT3uuno89XU4Cgvn/0szFILAOPjGwD9Kc/9xnmr/I3/o3cv+4ZMETIh0y8X2zCquzFzL1Wnl\nVIsHCfog6IWAFwIT9jhiOugF/wQEfRAKhMdBHwT99mBPh+zp5SSO6UCwnGDNeu1YYNnUPNciy512\nKEW8Fsvu2xEOInHgDwlDvhDDE0GGfSGGvCEGJ0IMe4MMesOvhyZCDPtCBI0QwiKEEMTC2GOPy0V6\nmotMj4d0j4uMNDeZHjcZHhcZaS4y0zxkeMLjTI+HzHQXGR436R4XbpcLEcuuKbI+a3qIXDbjtW6t\nqPOjIRAHodFRvMeOMXH4MBOHD+M9fATv0aOExqbvn2fl5uKpq8NdX4fHDgZ3fT2u8nJkgV06I74R\nXu58mRc6XuCFjhdoHQ7fhbskvYTLSi+bGury6rAkir9OjYkIioiQCEUGhg+CEWGyWLAEvBAKhtvN\nGCLn+edoM+t1cKH3T772n7086Ld30a3cf9PnyyBnB4PlCP+BMWP+5LQ1T5hYgNjBaM0aZs+TWe+Z\nq/1c82e3X2C9kfPm7GORvs56jyzQR6x//nOpK3IdzJw312c043327zZtaTeq1BBIEGMMgc5OvCea\n8DWdCI9PnMDb1ESwr2+qnaSl4a6tPTsgqqsR99nXFLQOtfLi6Rdp7Gpkd+duuse7Acjz5HFJySVc\nXHQxFxdfzOaizWS6MuP2865oxoTDIBQMj01w1utFls1eHgra65zdNogJhZjw+Rn1ehmf8DPm9THh\n8zPu9eP1+/H5/fj8ganB7/fjDwRmDIFAgEAgiAmFtz0sQjgIYUl4m8TC4CCE2GOnGNwOg9sSPJbB\nZRlcFrgtg9MyuMTgtMAl4bYOCxxCeFrAIQaHmPB6xeDAYAl2f2ZqEAxCCJn8PE1o+rOdDNvIz2xG\nm3mWTb1n9nJzdrtUllkCnz62pLdqCKxAgf5+fE1NeE+cwHeiCW9TOCD8HR3TjRwO3JWVuOvrIwKi\nDndNDY6c8F8ExhjaRtrY3bWbxs5G9vXs49TQKQAEYV3+uqlQuKjoImpza1PqBnernS8QYswXYMQb\nYNQbZNQXYNQbHka8wfD01Lwg474gY/4g474AY74g4/4gE/4Q477A1PSEP4g3sPQHIlkCHqcDj8vC\n7bBwOy08TguXIzx2Tw72MldEm8l5kfPds97ncoTnuexlLoeFyyG4LMHtFJxicFmCywKXFQ43tz3t\nsLADao4AmTOY5gqfxcJpgcBaMATtz3zB90TOm/VzuNJh2weX9DvTEFhFQmNjeE+enA6IppN4m07g\na24Bv3+1zHu4AAATKklEQVSqnaOwEHdNDe6aatw1NXhqa3HX1OCqqmLYjHOg9wAHeg6wr3cf+3v2\nM+wLX4DlcXhYn7eeDQUb2FiwkY0FG2nIbyDDFd3tMtTqEgoZvIFwIEwEpsMhHBRBvP4Q3oj5vmBo\nar4vGJp6ry8QwhcIv/YGQviD4de+yXHk9Kx5wWV6Qp3LITgtC6dDcDvCY6cVDhKnw8JpCS6HhcOS\nGW2dluCwwssdDsEhk/MEp8MeW5Y9loixFbF81vyz3i9YMvnamtHessJ9Ouw24TFT811Oi4q89CV9\nJhoCScD4/fha2/CdbMJ36lR4OHkKb/OpGWcrYVm4ysvtgAgPrpoqeopcHHR0cmTgGEf6jnC4/zCD\n3kEgvMVQlVPFhvxwMNTl1VGbU0tldiUuh962QS2PYMjgtwNldkj4g+HXfnt+IGim5k1O+6fG4enA\n5HRocjq8PBA0+EPhcSA03TZg9x+uwxAyhkDQEAyF24XH4deTQyA0c7k/GL/vyqIsD41/f8OS3nu+\nIaD7ClYgcbnw1NXiqas9a1lwZATfyVPT4WAPg6++OuPAdIPbzebqajsY7mCivIC23ABHM4Y5YFo5\n1HeIJ5ufnGrvEAcVWRXU5NZQk1MzPc6poSi9SM+pV1FxWILDcpDmWt2PZw3NEQ6ByNAIzjM/FCIY\ngoAdUEFjCNnLQ8YQDEHITE6buJ6SrFsCScIYQ6CnJyIYmqenW1tn7F6S9HTcVVVYa8sZLc2ht9BJ\na46fo5nDvG510jzSykRwYqp9liuL6pxqanJrqM6upiK7gvLMciqyKijOKNbjDkqtILo7SJ3FBAL4\n29vxtbTia2nG39JiT7fgb2nBRAaE242rci2h8lJGSrPoKXDSkuPjSMYgBxyddEx0YSLO3HCKk9LM\nUsqzylmTsYY1meGhNKN0ajrHnaNbEkrFie4OUmcRpxN3dTXu6mpgx4xlJhgk0NWFr6UFX3PLdEg0\nt5D+yh4qJyaoBK4GcDpxVZQTrChlrDSH/iIPnXlwMjjBMe8Arwy/Qs9YD0ETnNFHujN9RihETk8G\nR5Y7K14fh1Iqgm4JqHkZYwh09+BvaZ4OidYW/M0t+JqbCY2OTjcWwblmTXgroqyY0ZJsBoo8dOUJ\nLTk+2mSArtEuOkc76RnvmbE1AZDhzKA4o5ii9CKK0+1xRvH0tD3O9eiD7ZVaiO4OUnFhjCHY34+v\neXr3kr+tNbybqbWVYG/vjPZWTg7uykpclZU41lbgXZPLYGE6XflCe/oE3d5eesZ76BnroXc8PD0e\nGD+rX5flmhEKhemF5KflU5BWQGFaIQVpBeEhvYBcdy4Oa3UfiFTqfGkIqBUhNDaGr7UNf2vL9Lil\nNbwl0d4BgcB0Y5cLd3k5rqqqqaBwV64lUJLPQL6bXuc4vRNnpgJiMiR6x3vpm+hjwDtAaI47ulpi\nkefJmw6GyCG9YEZw5Kflk+XK0q0MterpMQG1IlgZGaRtaCBtQ8NZy0wwiP90px0Qrfhbw1sQ/tZW\nBvfuJTQ8PKN9TlYWhRUVbC4vx1VRgauiAVf5dbjqK3BVlENONkP+IfrG++ibCA9nJs5MTfdP9NM3\n0cehvkP0jfcx7B8+qyYIH+TO8eSQ68kl151LnifvrNe5nlxyPDlT07nuXDJdmRoeatXSLQG1ohhj\nCA4M4G/vwN/ejr/DHkcMM45FAJKRgbuiHFd5hR0Sk2FRgau8HEdBwYwvaV/Qd1ZAnBk/w6BvkEFv\nxGC/HvAOzLlratL5hEeuJ5ccdw457hyyXFm6u0rFnG4JqFVNRHDm5+PMzyd984VnLTfGEBoamhEQ\nvqnpDsb27CE0NDRznWlpuMrKpkLBVV5OekUFNRXlrC+vx1lzBeJY+MvYF/Qx5BuaCoXJoBjyDc14\nPegdpHOskyP9Rxj0DjIWGFtwvVmuLLLd2eS4c8h2Z8+YznHnkOOx57uyp6YnQyTdma5bICpqGgJq\nVRERHLm5OHJzSdu0ac42weHhiC2IiC2Kjg4mXnuNYH//zDe4XLjWrJkKiMiwcK2twFVaitvlpii9\n6LwfBxoZHpMBMuwbZtg3zJBvaGo8Od0+0s4h3yGGfcOM+kcXXLdDHGcFSGRITE5nucNBk+nKJMuV\nRZY7iyxXFpmuTL3QT2kIqOTjyM7GsWEDaRs2zLk8NDaG//TpmUFhT4/+6U/hR4xG7ia1LJwlJTPD\nYUZYlGGlpc3Zl9uxtPAACIQCjPpHGfIOMeS3A8M7NCNEIoNk2DdM91j31LQ36F20j3Rn+nQ4zAqI\nyeCYChB72ey2Ga6M6J5toRJKjwkoNUvI5yMwGRL2bqbIrQl/ZycEZ14Q5ygqmhUQk9PhYxSOrPhf\nDOcNeqcCY9Q/OjUe8Y8w4huZMR71jzLsH2bUZy+3l436R8+6pmMu6c50MpwZZLgyYjJOd6br8ZIl\niusxARH5KnAr4ANOAB80xgzM0e4UMAwEgcD5FKhUvFlud8QV1mczgQCB7u7pLYmIsPAeOsTIM89g\nfDMf32nl5s4RENNbE468vJjv3/c4PHjSPUvaCpkUMiHGA+MLBsmof5Qx/xhjAXuwp4d9w3SOds6Y\n7w/5F+/Ulu5MnzNcMl2ZC4bO5Psih8n5aY40PY4yS1RbAiJyI/CMMSYgIl8GMMb8jznanQK2GWN6\nZy9biG4JqNXIhEIEz5yZERCTB68DHR342jswYzMPGE+e4eSM2Jpw2wHhLC/HWVS04GNJVwt/0M9Y\nYIzxwPjM8JgdIrPnL7DcFzr352ULQpozbc6AiAyd+Zad1c41/XqlBExctwSMMU9GvNwFvD2a9SmV\nDMSycBYX4ywuJv2SS85aPnUabEfHnFsT43v3ERocnLlOt9s+w8neeqiswl1lX1hXVYUjOzteP15U\nXA4XuY5ccj25MVunP+RnPDA+FQyT0+OB8bOGheYPTAzMnBcYm/MixPlEBszsgJgdMJFBNCOUHOmk\nu8LHaRryz77GZjnE8sDwncDD8ywzwNMiEgS+Y4y5P4b9KrWqzDgN9sKzT4MFCI6M4u9oPysg/B0d\nTDzzLMEzZ2a0d+Tn46qqxF1VHb7qenK6qhJHYeGK+At1ubgsFy63ixz30h7MPh9jDL6Qj3H/+Fnh\nMDX2nz1/avBPz++f6Gc8MM5EYGJq+ewbLUYqSCvg+Xc+H9OfZz6LhoCIPA2smWPRvcaYR+029wIB\n4MfzrGaHMaZdREqAp0TksDFm5zz93QXcBVBVVXUOP4JSyceRlYmjoYG0hrn/GgyOjE7disPfOnlz\nv1bGd+9m6Ne/nnF2k5WREb4lR00Nnrpa3HX1eOrrcNfWzntWkwqHtcfhwePwkEdezNc/uWtsMhgm\ngtMBcQ7H4mMm6rODROQDwIeB640xC18ZE27/eWDEGPO1xdrqMQGlzl/I58Pf1j59v6aW8C3CfadO\n4W9tg5C9i0MEV0UF7vo6PHX1uOtq8dTX46mrw5EX+y89FR/xPjvoJuAzwLXzBYCIZAKWMWbYnr4R\nuC+afpVS87Pc7nkfTxryesNPnWs6gfdE09R47MVdM85ochQW4qmrmw6I+jo8dXU416xJ6l1LqSja\nYwLfAjyEd/EA7DLG3C0i5cB3jTG3AKXAI/ZyJ/CgMea3UfarlFoCy+OZ88Z+JhjE39GB98QJfCea\n8DaFx0OPPzHjNhxWRgbuurrwFsP6dbjXrSNt/Xqc5eUaDquUXiymlJqXMYZgby/eppMztx6OnyDQ\n3T3VzsrIwL1+HZ516/CsW49n/Xo869fhLCnRcIgzvYGcUipmRGTqdNfMy7fPWBYcHMR7/DjeY8fx\nHjuG9/hxRp57nsGf/2KqjZWTYweDPTSsx7NuXdKfsbSa6JaAUiqmAn194WA4fmwqHLzHjs+49sGR\nnx8OhfXrwlsN68K7lpz5+QmsPDnoloBSKqGcBQU4L98+Y8vBGEOgpwff8eMzgmHw0cdmPB/CUVyE\np34d7prq8HUONdW4q6pwVVZieTyJ+HGSnoaAUmrZiQiukhJcJSVkXnXV1HxjDIHOznAoHLXD4cQJ\nhp747cyrpkVwlq2ZvhiuIuIBQuXlOIuLF30mhJqbhoBSKmFEJHw7jLIyst74xhnLggMD4Wscmlvw\nNTfja2nG39zC8NNPL/5MiLIynKWlOEvDweMsKQk/YS4J7r8UaxoCSqkVyZGXR3peHukXX3zWsnmf\nCdHRwegLL4TPXJp9vNPpxFlcPBUKzpKScFCU2PNKS3GWlGBlZaXUQWsNAaXUqmNlZISvVaivn3O5\n8fsJnDlDoKsLf3c3ge5uAl32uLsL78kmRl966axHkQJIeno4FIqLcRQXhc+OKirGWWRPFxfhLCpK\nmi0LDQGlVNKRyd1Da9aQvkC70NgYgZ6e8PMhpkIiHBSB7h68hw4zuvMPMw5eT3E4wgfBJ8OiaFZg\nlNjjoiKsjIxl+1mjpSGglEpZVkbGgg8QmhQaGwtvWfT0EOjpJdDbE57u7SXY00ugJxwYgTNnznrq\nHICVmRneelhgy8JZXIwjPz/uB7g1BJRSahFWRgbujAzclZULtjOhEMH+fgK9veGw6Okh0NtDsLd3\nKkC8h48w2vNHQiMjc3Rk4SgswF1dTc2PfrRMP81MGgJKKRUjYlk4CwtxFhbChg0Ltg2Nj0+HReSW\nRW8vEL8D0xoCSimVAFZ6Ou7KykW3Lpa9joT2rpRSKqE0BJRSKoVpCCilVArTEFBKqRSmIaCUUilM\nQ0AppVKYhoBSSqUwDQGllEphK/rxkiLSAzQv8e1FQG8My4mVlVoXaG1LsVLrAq1tKVZqXXDutVUb\nY4rPdaUrOgSiISKN5/OczXhZqXWB1rYUK7Uu0NqWYqXWBctXm+4OUkqpFKYhoJRSKSyZQ+D+RBcw\nj5VaF2htS7FS6wKtbSlWal2wTLUl7TEBpZRSi0vmLQGllFKLSLoQEJGbROSIiBwXkc/Gob9KEXlW\nRF4XkddE5BP2/M+LSLuI7LWHWyLe8zm7viMi8paI+ZeJyAF72b+ISNRPlhCRU/Y694pIoz2vQESe\nEpFj9jg/3rWJyIaIz2aviAyJyN8k4nMTke+LSLeIHIyYF7PPSEQ8IvKwPf8lEamJsravishhEdkv\nIo+ISJ49v0ZExiM+u39PQG0x+/0ttbZ56no4oqZTIrI3QZ/ZfN8Xifv3ZoxJmgFwACeAOsAN7AM2\nLXOfZcCl9nQ2cBTYBHwe+NQc7TfZdXmAWrteh73sZeAKwo8VegK4OQb1nQKKZs37CvBZe/qzwJcT\nUdus31snUJ2Izw24BrgUOLgcnxHwUeDf7el3AQ9HWduNgNOe/nJEbTWR7WatJ161xez3t9Ta5qpr\n1vKvA/8zQZ/ZfN8XCfv3lmxbAtuB48aYJmOMD3gIuH05OzTGnDbGvGpPDwOHgIoF3nI78JAxxmuM\nOQkcB7aLSBmQY4zZZcK/vQeAty1T2bcDP7CnfxDRT6Jqux44YYxZ6MLAZavNGLMT6Jujv1h9RpHr\n+hlw/blurcxVmzHmSWNMwH65C1i70DriWdsC4va5LVSX/f6/AH6y0DqW8TOb7/siYf/eki0EKoDW\niNdtLPyFHFP2ZtdW4CV71sfsTfbvR2zezVdjhT09e360DPC0iOwWkbvseaXGmNP2dCdQmqDaJr2L\nmf8pV8LnFsvPaOo99pf3IFAYgxoB7iT8V+CkWnu3xvMi8saI/uNZW6x+f8tR2xuBLmPMsYh5CfnM\nZn1fJOzfW7KFQMKISBbwc+BvjDFDwL8R3i11CXCa8CZoIuwwxlwC3AzcIyLXRC60/4pI2CliIuIG\nbgP+rz1rpXxuUxL9Gc1HRO4FAsCP7VmngSr79/23wIMikhPnslbc72+WdzPzD46EfGZzfF9Mife/\nt2QLgXYg8qnNa+15y0pEXIR/oT82xvwCwBjTZYwJGmNCwH8Q3lW1UI3tzNysj0ntxph2e9wNPGLX\n0WVvTk5u9nYnojbbzcCrxpguu84V8bkR289o6j0i4gRygTPRFCciHwD+K/Df7C8N7F0GZ+zp3YT3\nHzfEs7YY//5iWpu9jj8DHo6oN+6f2VzfFyTw31uyhcArwHoRqbX/wnwX8Nhydmjva/secMgY842I\n+WURze4AJs9UeAx4l30EvxZYD7xsbwoOicgV9jrfBzwaZW2ZIpI9OU34gOJBu4b3283eH9FP3GqL\nMOMvs5XwuUX0F6vPKHJdbweemfziXgoRuQn4DHCbMWYsYn6xiDjs6Tq7tqY41xbL319MawNuAA4b\nY6Z2o8T7M5vv+4JE/ntb6KjxahyAWwgfcT8B3BuH/nYQ3nTbD+y1h1uAHwIH7PmPAWUR77nXru8I\nEWeyANsI/6c5AXwL+2K+KGqrI3xmwT7gtcnPg/D+wd8Dx4CngYJ412avM5PwXyi5EfPi/rkRDqHT\ngJ/wvtW/jOVnBKQR3t11nPAZHXVR1nac8D7fyX9vk2eC/Ln9e94LvArcmoDaYvb7W2ptc9Vlz/9P\n4O5ZbeP9mc33fZGwf296xbBSSqWwZNsdpJRS6jxoCCilVArTEFBKqRSmIaCUUilMQ0AppVKYhoBS\nSqUwDQGllEphGgJKKZXC/h+eoh1HxJvtFAAAAABJRU5ErkJggg==\n",
      "text/plain": [
       "<matplotlib.figure.Figure at 0x11c6599b0>"
      ]
     },
     "metadata": {},
     "output_type": "display_data"
    }
   ],
   "source": [
    "plt.plot(np.log(cost_histories[3][300:20000]))\n",
    "plt.plot(np.log(cost_histories[6][300:20000]))\n",
    "plt.plot(np.log(cost_histories[20][300:20000]))\n",
    "plt.plot(np.log(cost_histories[100][300:20000]))\n",
    "plt.show()"
   ]
  },
  {
   "cell_type": "code",
   "execution_count": 1317,
   "metadata": {
    "collapsed": false
   },
   "outputs": [
    {
     "data": {
      "image/png": "iVBORw0KGgoAAAANSUhEUgAAAZYAAAD8CAYAAABU4IIeAAAABHNCSVQICAgIfAhkiAAAAAlwSFlz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\nRK5CYII=\n",
      "text/plain": [
       "<matplotlib.figure.Figure at 0x11c5cb748>"
      ]
     },
     "metadata": {},
     "output_type": "display_data"
    }
   ],
   "source": [
    "plt.plot(X,predictions[3])\n",
    "plt.plot(X,predictions[6])\n",
    "plt.plot(X,predictions[20])\n",
    "plt.plot(X,predictions[100])\n",
    "plt.plot(X,y)\n",
    "plt.show()"
   ]
  },
  {
   "cell_type": "markdown",
   "metadata": {},
   "source": [
    "### Scikit-Learn Example"
   ]
  },
  {
   "cell_type": "code",
   "execution_count": 1422,
   "metadata": {
    "collapsed": false
   },
   "outputs": [
    {
     "data": {
      "image/png": "iVBORw0KGgoAAAANSUhEUgAAAXYAAAD8CAYAAABjAo9vAAAABHNCSVQICAgIfAhkiAAAAAlwSFlz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\nJMIo2EVEIoyCXUQkwvx/rFbgsx70bl4AAAAASUVORK5CYII=\n",
      "text/plain": [
       "<matplotlib.figure.Figure at 0x11a806780>"
      ]
     },
     "metadata": {},
     "output_type": "display_data"
    }
   ],
   "source": [
    "from sknn.mlp import Regressor\n",
    "from sknn.mlp import Layer\n",
    "\n",
    "# Design Network\n",
    "hiddenLayer = Layer(\"Rectifier\", units=6)\n",
    "outputLayer = Layer(\"Linear\", units=1)\n",
    "nn = Regressor([hiddenLayer, outputLayer], learning_rule='sgd',\n",
    "               learning_rate=.001,batch_size=5,loss_type=\"mse\")\n",
    "\n",
    "# Train Model\n",
    "X,y = get_cubic_data(-2,2,.1)\n",
    "nn.fit(X,y)\n",
    "\n",
    "# Predict\n",
    "predictions = nn.predict(X)\n",
    "\n",
    "# Visualize\n",
    "plt.plot(predictions)\n",
    "plt.plot(y)\n",
    "plt.show()"
   ]
  },
  {
   "cell_type": "code",
   "execution_count": 1423,
   "metadata": {
    "collapsed": false
   },
   "outputs": [
    {
     "data": {
      "text/plain": [
       "[Parameters(weights=array([[ 0.53861075,  0.07695764, -1.19058596,  2.45308343,  0.59022941,\n",
       "         0.5929086 ]]), biases=array([-0.17245001, -0.14660981, -1.33888264, -2.35898558, -0.20223226,\n",
       "        0.56735499]), layer='hidden0'),\n",
       " Parameters(weights=array([[ 0.48303523],\n",
       "       [-0.24537579],\n",
       "       [-1.82607692],\n",
       "       [ 3.41004184],\n",
       "       [ 0.4742989 ],\n",
       "       [-0.94205058]]), biases=array([-0.19954963]), layer='output')]"
      ]
     },
     "execution_count": 1423,
     "metadata": {},
     "output_type": "execute_result"
    }
   ],
   "source": [
    "nn.get_parameters()"
   ]
  },
  {
   "cell_type": "markdown",
   "metadata": {
    "collapsed": true
   },
   "source": [
    "### Universal Function Approximation Code"
   ]
  },
  {
   "cell_type": "code",
   "execution_count": 1393,
   "metadata": {
    "collapsed": false
   },
   "outputs": [
    {
     "name": "stdout",
     "output_type": "stream",
     "text": [
      "Weights\n",
      "(1, 6)\n",
      "(6, 1)\n",
      "[[-5.  -1.2  1.2  1.2  2.   5. ]]\n",
      "[[-1.]\n",
      " [-1.]\n",
      " [-1.]\n",
      " [ 1.]\n",
      " [ 1.]\n",
      " [ 1.]]\n",
      "Biases\n",
      "(1, 6)\n",
      "(1, 1)\n",
      "[[-7.7 -1.3  1.  -0.2 -1.1 -5. ]]\n",
      "[[-0.]]\n",
      "(40, 1)\n",
      "(40, 1)\n"
     ]
    }
   ],
   "source": [
    "'''\n",
    "Update the predict function in the NN class above to be:\n",
    "\n",
    "def predict(self, X, y_min, y_max):\n",
    "    return self.feed_forward(X)\n",
    "'''\n",
    "\n",
    "np.random.seed(3)\n",
    "\n",
    "nn = NeuralNetwork(1,6,1)\n",
    "\n",
    "print (\"Weights\")\n",
    "print (nn.Wh.shape)\n",
    "print (nn.Wo.shape)\n",
    "\n",
    "hiddenWeights = np.array([\n",
    "    [-5.0, -1.2, 1.2, 1.2, 2.0, 5.0],\n",
    "])\n",
    "\n",
    "outputWeights = np.array([\n",
    "    [-1.0],\n",
    "    [-1.0],\n",
    "    [-1.0],\n",
    "    [1.0],\n",
    "    [1.0],\n",
    "    [1.0]\n",
    "])\n",
    "\n",
    "\n",
    "nn.Wh = hiddenWeights\n",
    "nn.Wo = outputWeights\n",
    "\n",
    "print (nn.Wh)\n",
    "print (nn.Wo)\n",
    "\n",
    "print (\"Biases\")\n",
    "print (nn.Bh.shape)\n",
    "print (nn.Bo.shape)\n",
    "\n",
    "hiddenBias = np.array([\n",
    "    [-7.7, -1.3, 1.0, -0.2, -1.1, -5.0]\n",
    "])\n",
    "\n",
    "outputBias = np.array([\n",
    "    [-0.0]\n",
    "])\n",
    "\n",
    "nn.Bh = hiddenBias\n",
    "nn.Bo = outputBias\n",
    "\n",
    "print (nn.Bh)\n",
    "print (nn.Bo)\n",
    "\n",
    "#x**3 + x**2 - x - 1\n",
    "\n",
    "X,y = get_cubic_data(-2,2,.1)\n",
    "print (X.shape)\n",
    "print (y.shape)\n",
    "predictions = nn.predict(X,y_min=cubic(-2), y_max=cubic(2))"
   ]
  },
  {
   "cell_type": "markdown",
   "metadata": {},
   "source": [
    "### Predictions w My Weights"
   ]
  },
  {
   "cell_type": "code",
   "execution_count": 1394,
   "metadata": {
    "collapsed": false
   },
   "outputs": [
    {
     "data": {
      "image/png": "iVBORw0KGgoAAAANSUhEUgAAAXYAAAD8CAYAAABjAo9vAAAABHNCSVQICAgIfAhkiAAAAAlwSFlz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\n",
      "text/plain": [
       "<matplotlib.figure.Figure at 0x11bccd9b0>"
      ]
     },
     "metadata": {},
     "output_type": "display_data"
    }
   ],
   "source": [
    "fig, ax = plt.subplots()\n",
    "ax.plot(X, y)\n",
    "ax.plot(X, predictions)\n",
    "ax.grid(True)\n",
    "plt.show()"
   ]
  }
 ],
 "metadata": {
  "kernelspec": {
   "display_name": "Python 3",
   "language": "python",
   "name": "python3"
  },
  "language_info": {
   "codemirror_mode": {
    "name": "ipython",
    "version": 3
   },
   "file_extension": ".py",
   "mimetype": "text/x-python",
   "name": "python",
   "nbconvert_exporter": "python",
   "pygments_lexer": "ipython3",
   "version": "3.6.0"
  }
 },
 "nbformat": 4,
 "nbformat_minor": 2
}
