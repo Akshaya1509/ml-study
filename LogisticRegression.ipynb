{
 "cells": [
  {
   "cell_type": "markdown",
   "metadata": {},
   "source": [
    "# Logistic Regression\n",
    "\n",
    "Logistic regression is a classification algorithm, used to estimate probabilities (Binary values like 0/1, yes/no, true/false) based on given set of independent variable(s). Its output values lies between 0 and 1. Prior to building a model, the features values are transformed using the logistic function (Sigmoid) to produce probability values that can be mapped to two or more classes."
   ]
  },
  {
   "cell_type": "markdown",
   "metadata": {},
   "source": [
    "### Imports"
   ]
  },
  {
   "cell_type": "code",
   "execution_count": 2,
   "metadata": {
    "collapsed": true
   },
   "outputs": [],
   "source": [
    "import numpy as np\n",
    "import pandas as pd\n",
    "import matplotlib.pyplot as plt\n",
    "import pylab\n",
    "\n",
    "DATA_DIR='data/'"
   ]
  },
  {
   "cell_type": "markdown",
   "metadata": {},
   "source": [
    "### Load Data"
   ]
  },
  {
   "cell_type": "code",
   "execution_count": 264,
   "metadata": {
    "collapsed": false
   },
   "outputs": [
    {
     "name": "stdout",
     "output_type": "stream",
     "text": [
      "Dataset\n",
      "[[ 2.03070798  3.93726653  0.        ]\n",
      " [ 3.44310934  7.06634686  0.        ]\n",
      " [ 4.90308762  6.02547778  0.        ]\n",
      " [ 0.92562818  3.42126711  0.        ]\n",
      " [ 1.09147202  7.08437697  0.        ]]\n",
      "(100, 3)\n",
      "Trues\n",
      "[[ 6.46089606  7.07629269  1.        ]\n",
      " [ 7.63063693  7.4053514   1.        ]\n",
      " [ 4.77857249  8.28287133  1.        ]\n",
      " [ 9.08162719  1.4373504   1.        ]\n",
      " [ 9.68310414  9.50704973  1.        ]]\n",
      "(55, 3)\n",
      "Falses\n",
      "[[ 2.03070798  3.93726653  0.        ]\n",
      " [ 3.44310934  7.06634686  0.        ]\n",
      " [ 4.90308762  6.02547778  0.        ]\n",
      " [ 0.92562818  3.42126711  0.        ]\n",
      " [ 1.09147202  7.08437697  0.        ]]\n",
      "(45, 3)\n",
      "Features\n",
      "[[ 2.03070798  3.93726653]\n",
      " [ 3.44310934  7.06634686]\n",
      " [ 4.90308762  6.02547778]\n",
      " [ 0.92562818  3.42126711]\n",
      " [ 1.09147202  7.08437697]]\n",
      "(100, 2)\n",
      "Labels\n",
      "[[ 0.]\n",
      " [ 0.]\n",
      " [ 0.]\n",
      " [ 0.]\n",
      " [ 0.]]\n",
      "(100, 1)\n"
     ]
    }
   ],
   "source": [
    "def load_data():\n",
    "    return np.loadtxt(DATA_DIR+'logistic.csv',skiprows=1, delimiter=\",\")\n",
    "\n",
    "def extract():\n",
    "    data = load_data()\n",
    "\n",
    "    # Sort Data (Not necessary)\n",
    "    data = data[np.argsort(data[:,2])]\n",
    "    #print data[43:47]\n",
    "\n",
    "    #Extract Trues/Falses (1s and 0s)\n",
    "    trues = data[data[:,2] == 1] # select rows where 3rd column is 1\n",
    "    falses = data[data[:,2] == 0]\n",
    "\n",
    "    #Extract Features + Labels\n",
    "    features = data[:,[0,1]]\n",
    "    labels = data[:,2]\n",
    "    labels.shape = (len(features),1) #reshape to keep consistent w features\n",
    "\n",
    "    return data, features, labels, trues, falses\n",
    "\n",
    "data, features, labels, trues, falses = extract()\n",
    "\n",
    "#Show Sample Data\n",
    "print \"Dataset\"\n",
    "print data[:5]\n",
    "print data.shape\n",
    "print \"Trues\"\n",
    "print trues[:5]\n",
    "print trues.shape\n",
    "print \"Falses\"\n",
    "print falses[:5]\n",
    "print falses.shape\n",
    "print \"Features\"\n",
    "print features[:5]\n",
    "print features.shape\n",
    "print \"Labels\"\n",
    "print labels[:5]\n",
    "print labels.shape"
   ]
  },
  {
   "cell_type": "markdown",
   "metadata": {},
   "source": [
    "### Visualize"
   ]
  },
  {
   "cell_type": "code",
   "execution_count": 4,
   "metadata": {
    "collapsed": false
   },
   "outputs": [
    {
     "data": {
      "image/png": "[encoded data removed]",
      "text/plain": [
       "<matplotlib.figure.Figure at 0x114b8ad50>"
      ]
     },
     "metadata": {},
     "output_type": "display_data"
    }
   ],
   "source": [
    "def plot_scatter(trues,falses):\n",
    "    fig = plt.figure()\n",
    "    ax1 = fig.add_subplot(111)\n",
    "\n",
    "    ax1.scatter(trues[:,0],trues[:,1], s=25, c='b', marker=\"o\", label='Trues')\n",
    "    ax1.scatter(falses[:,0],falses[:,1], s=25, c='r', marker=\"s\", label='Falses')\n",
    "    plt.legend(loc='upper right');\n",
    "\n",
    "    #plot_decision_boundary()\n",
    "    plt.show()\n",
    "    \n",
    "\n",
    "# WIP\n",
    "def plot_decision_boundary(x_vec, mu_vec1, mu_vec2):\n",
    "    g1 = (x_vec-mu_vec1).T.dot((x_vec-mu_vec1))\n",
    "    g2 = 2*( (x_vec-mu_vec2).T.dot((x_vec-mu_vec2)) )\n",
    "    return g1 - g2\n",
    "\n",
    "plot_scatter(trues,falses)\n"
   ]
  },
  {
   "cell_type": "markdown",
   "metadata": {},
   "source": [
    "### Sigmoid\n",
    "\n",
    "In order to map predicted values to probabilities, we use the Sigmoid function. The function maps any real value into another value between 0 and 1. In machine learning, we use Sigmoid to map predictions to probabilities.<br><br>\n",
    " prob(label=0) = 1 / (1 + e^-val)\n",
    "* e = base of natural logs (https://en.wikipedia.org/wiki/E_(mathematical_constant))\n",
    "* val = input value (or your models equation that produces a prediction value)"
   ]
  },
  {
   "cell_type": "code",
   "execution_count": 5,
   "metadata": {
    "collapsed": false
   },
   "outputs": [
    {
     "name": "stdout",
     "output_type": "stream",
     "text": [
      "[ 0.11920292  0.00669285  0.73105858  0.88079708  0.95257413  0.9999546 ]\n"
     ]
    }
   ],
   "source": [
    "def sigmoid(array):\n",
    "    #prob(label=0) = 1 / (1 + e^-array)\n",
    "    return  1 / (1 + np.exp(-array))\n",
    "\n",
    "example = np.array([-2,-5,1,2,3,10])\n",
    "transformed = sigmoid(example)\n",
    "print transformed"
   ]
  },
  {
   "cell_type": "markdown",
   "metadata": {},
   "source": [
    "#### Visualize\n",
    "\n",
    "The sigmoid function crosses 0.5 at its origin and flattens out as probabilities approach 0 and 1."
   ]
  },
  {
   "cell_type": "code",
   "execution_count": 6,
   "metadata": {
    "collapsed": false
   },
   "outputs": [
    {
     "name": "stdout",
     "output_type": "stream",
     "text": [
      "Input Array ------\n",
      "[-5.  -4.7 -4.4 -4.1 -3.8 -3.5 -3.2 -2.9 -2.6 -2.3 -2.  -1.7 -1.4 -1.1 -0.8\n",
      " -0.5 -0.2  0.1  0.4  0.7  1.   1.3  1.6  1.9  2.2  2.5  2.8  3.1  3.4  3.7\n",
      "  4.   4.3  4.6  4.9]\n"
     ]
    },
    {
     "data": {
      "image/png": "[encoded data removed]",
      "text/plain": [
       "<matplotlib.figure.Figure at 0x114c9cc50>"
      ]
     },
     "metadata": {},
     "output_type": "display_data"
    },
    {
     "name": "stdout",
     "output_type": "stream",
     "text": [
      "Sigmoid Tranformed -------\n",
      "[ 0.00669285  0.0090133   0.01212843  0.0163025   0.02188127  0.02931223\n",
      "  0.03916572  0.05215356  0.06913842  0.09112296  0.11920292  0.15446527\n",
      "  0.19781611  0.24973989  0.31002552  0.37754067  0.450166    0.52497919\n",
      "  0.59868766  0.66818777  0.73105858  0.78583498  0.83201839  0.86989153\n",
      "  0.90024951  0.92414182  0.94267582  0.95689275  0.96770454  0.97587298\n",
      "  0.98201379  0.98661308  0.9900482   0.99260846]\n"
     ]
    },
    {
     "data": {
      "image/png": "[encoded data removed]",
      "text/plain": [
       "<matplotlib.figure.Figure at 0x114f27f50>"
      ]
     },
     "metadata": {},
     "output_type": "display_data"
    }
   ],
   "source": [
    "values = np.arange(-5, 5, .3)\n",
    "print \"Input Array ------\"\n",
    "print np.round(values,1)\n",
    "plt.plot(values)\n",
    "plt.show()\n",
    "\n",
    "sig = sigmoid(values)\n",
    "print \"Sigmoid Tranformed -------\"\n",
    "print sig\n",
    "plt.plot(values, [.5 for i in range(len(values))])\n",
    "plt.plot(values, sig)\n",
    "plt.show()"
   ]
  },
  {
   "cell_type": "markdown",
   "metadata": {},
   "source": [
    "### Add Bias\n",
    "\n",
    "Adding bias is an important step to build a good model. A detailed explanation can be found [here] in our wiki.  "
   ]
  },
  {
   "cell_type": "code",
   "execution_count": 299,
   "metadata": {
    "collapsed": false
   },
   "outputs": [
    {
     "name": "stdout",
     "output_type": "stream",
     "text": [
      "[[ 1.          2.03070798  3.93726653]\n",
      " [ 1.          3.44310934  7.06634686]\n",
      " [ 1.          4.90308762  6.02547778]\n",
      " [ 1.          0.92562818  3.42126711]\n",
      " [ 1.          1.09147202  7.08437697]]\n",
      "(100, 3)\n"
     ]
    }
   ],
   "source": [
    "# Add Bias Column for W0\n",
    "def add_bias(features):\n",
    "    bias = np.ones(shape=(len(features),1))\n",
    "    features = np.append(bias, features, axis=1)\n",
    "    return features\n",
    "\n",
    "features = add_bias(features)\n",
    "print features[:5]\n",
    "print features.shape"
   ]
  },
  {
   "cell_type": "markdown",
   "metadata": {},
   "source": [
    "### Prepare Weights"
   ]
  },
  {
   "cell_type": "code",
   "execution_count": 8,
   "metadata": {
    "collapsed": false
   },
   "outputs": [
    {
     "name": "stdout",
     "output_type": "stream",
     "text": [
      "(3, 1)\n"
     ]
    }
   ],
   "source": [
    "W0 = 0.0\n",
    "W1 = 0.0\n",
    "W2 = 0.0\n",
    "weights = np.array([\n",
    "        [W0],\n",
    "        [W1],\n",
    "        [W2]\n",
    "    ])\n",
    "print weights.shape"
   ]
  },
  {
   "cell_type": "markdown",
   "metadata": {},
   "source": [
    "### Predict Function\n",
    "\n",
    "* prediction = W0 + W1x1 + W2x2\n",
    "\n",
    "Link to Linear Regression Wiki\n",
    "\n",
    "We transform the output using the Sigmoid function to return a probability value between 0 and 1.\n",
    "\n",
    "* P(label=1) = 1 / (1 + e^(-prediction))"
   ]
  },
  {
   "cell_type": "code",
   "execution_count": 9,
   "metadata": {
    "collapsed": false
   },
   "outputs": [
    {
     "data": {
      "text/plain": [
       "array([[ 0.5],\n",
       "       [ 0.5],\n",
       "       [ 0.5],\n",
       "       [ 0.5],\n",
       "       [ 0.5]])"
      ]
     },
     "execution_count": 9,
     "metadata": {},
     "output_type": "execute_result"
    }
   ],
   "source": [
    "def predict(features, weights):\n",
    "    # Returns 1D array of probabilities\n",
    "    # That the true label == 1\n",
    "    return 1 / (1 + np.exp(-np.dot(features,weights)))\n",
    "predict(features,weights)[:5]"
   ]
  },
  {
   "cell_type": "markdown",
   "metadata": {},
   "source": [
    "Our prediction function returns the probability of our observation being postitive, True, or \"Yes\". We call this class 1 and its notation is P(class=1). As the probability gets closer to 1, our model is more confident that the observation is in class 1 (True).\n",
    "\n",
    "For example, imagine we are trying to predict whether a student will pass or fail a test based on features like hours slept, past test scores, and time spent studying. We pass those features and weights into our predict function and our model outputs a probablity score between 0 (Fail) and 1 (Pass). If the model returns .4 it believes there is only a 40% change of passing. If our decision boundary was .5, we would categorize this observation as \"Fail.\""
   ]
  },
  {
   "cell_type": "markdown",
   "metadata": {},
   "source": [
    "### Decision Boundary\n",
    "\n",
    "A decision bounary is a pretty simple concept. Logistic regression is a classification algorithm, the output should be a category: Yes/No, True/False, Red/Yellow/Orange. Our prediction function however returns a probabability score between 0 and 1. A decision boundary is a threshold or tipping point that helps us decide which category to choose based on probability. \n",
    "\n",
    "    hθ(x)≥0.5→y=1\n",
    "    hθ(x)<0.5→y=0\n",
    "\n",
    "For example, if our threshold was .5 and our predict function returned .7, we would classify this observation as positive. Similarly if our prediction was .2 we would classify the observation as negative.\n",
    "\n",
    "For logistic regression with multiple classes we could select the class with the highest predicted probability.\n",
    "\n",
    "[Insert Picture of Decision Boundary]"
   ]
  },
  {
   "cell_type": "markdown",
   "metadata": {},
   "source": [
    "### Cost Function\n",
    "\n",
    "Remember for linear regression we used MSE? \n",
    "1/2N * SUM[ (y - (mx + b))^2 ]\n",
    "\n",
    "Unfortunately we can't use MSE for Logistic Regression. Why? There is a great math explanation https://www.coursera.org/learn/machine-learning/supplement/0hpMl/simplified-cost-function-and-gradient-descent and http://www.win-vector.com/blog/2011/09/the-simpler-derivation-of-logistic-regression/.\n",
    "\n",
    "But for now I'll simply say that the ouput of our prediction function is non-linear (due to sigmoid transform). Plugging our predictions into MSE will result in a non-convex output with many local minimums. If our cost function has many local minimums, gradient descent may get stuck and not find the optimal global minimum."
   ]
  },
  {
   "cell_type": "markdown",
   "metadata": {},
   "source": [
    "#### Mean Absolute Error"
   ]
  },
  {
   "cell_type": "markdown",
   "metadata": {},
   "source": [
    "Our new cost function will look like this:\n",
    "    \n",
    "    [IMAGE OF Cost y=1 and y=0]\n",
    "    \n",
    "Graphically it looks like this\n",
    "    [Graphs of change in cost for y=1 and y=0]\n",
    "    \n",
    "The key thing to note is MLE penalizes confident and wrong predictions a lot! On the other end, increaseing the accuracy of your prediction (closer to 0 or 1) has diminishing returns on reducing cost due to the nature of our logistic sigmoid prediction output.\n",
    "\n",
    "Compress our two costs functinos (y=1 and y=0) into one equation.\n",
    "\n",
    "    [compressed version]\n",
    "    \n",
    "<br>Vectorized Version</br>\n",
    "    [Vectorized formula]\n",
    "    \n",
    "https://en.wikipedia.org/wiki/Maximum_likelihood_estimation\n",
    "\n",
    "Example real world solutions to MLE:\n",
    "https://en.wikipedia.org/wiki/Quasi-Newton_method\n",
    "\n",
    "http://www.holehouse.org/mlclass/06_Logistic_Regression.html"
   ]
  },
  {
   "cell_type": "markdown",
   "metadata": {},
   "source": [
    "#### Why Does our cost function use Negatives?\n",
    "\n",
    "This confused me initially but it's actually simple: our prediction function (transformed by sigmoid) returns values between 0 and 1. In order to ensure a convex cost output (so we can find local minimums with gradient descent), our cost function takes the log of our predictions. However taking the log of numbers between 0 and 1 results in negative values which are confusing to work with. So we simply convert them to positive values using the negative sign!\n",
    "\n",
    "Just as a reminder, we can't take the natural log of negative numbers, but the resulting output CAN be negative if input values are between 0 and 1."
   ]
  },
  {
   "cell_type": "code",
   "execution_count": 38,
   "metadata": {
    "collapsed": false
   },
   "outputs": [
    {
     "data": {
      "image/png": "[encoded data removed]",
      "text/plain": [
       "<matplotlib.figure.Figure at 0x115ae70d0>"
      ]
     },
     "metadata": {},
     "output_type": "display_data"
    }
   ],
   "source": [
    "### Natural Log\n",
    "\n",
    "values = np.arange(0, 3, .01)\n",
    "fig = plt.figure()\n",
    "ax = fig.add_subplot(111)\n",
    "ax.plot(values, [np.log(i) for i in values])\n",
    "ax.set_title('Natural Log')\n",
    "ax.set_xlabel('x')\n",
    "ax.set_ylabel('log(x)')\n",
    "plt.axhline(0, color='black')\n",
    "plt.show()"
   ]
  },
  {
   "cell_type": "code",
   "execution_count": 71,
   "metadata": {
    "collapsed": false
   },
   "outputs": [
    {
     "data": {
      "text/plain": [
       "array([ 0.68236603])"
      ]
     },
     "execution_count": 71,
     "metadata": {},
     "output_type": "execute_result"
    }
   ],
   "source": [
    "# Using Mean Absolute Error\n",
    "def cost_function(features, labels, weights):\n",
    "    '''\n",
    "    Features:(100,3)\n",
    "    Labels: (100,1)\n",
    "    Weights:(3,1)\n",
    "    Returns 1D matrix of predictions\n",
    "    Cost = ( log(predictions) + (1-labels)*log(1-predictions) ) / len(labels)\n",
    "    '''\n",
    "    observations = len(labels)\n",
    "    \n",
    "    predictions = predict(features, weights)\n",
    "    \n",
    "    #Take the error when label=1\n",
    "    class1_cost = -labels*np.log(predictions)\n",
    "\n",
    "    #Take the error when label=0\n",
    "    class2_cost = (1-labels)*np.log(1-predictions)\n",
    "    \n",
    "    #Take the sum of both costs\n",
    "    cost = class1_cost - class2_cost\n",
    "    \n",
    "    #Take the average cost\n",
    "    cost = sum(cost)/observations\n",
    "    \n",
    "    return cost\n",
    "    \n",
    "cost_function(features,labels,weights)[:5]"
   ]
  },
  {
   "cell_type": "markdown",
   "metadata": {},
   "source": [
    "### Gradient Descent\n",
    "\n",
    "To minimize our cost, we use gradient descent just like before in Linear Regression (link to wiki). Even better for us, the formula is exactly the same! \n",
    "\n",
    "Steps:\n",
    "1. Calculate gradient average\n",
    "2. Multiply by learning rate\n",
    "3. Subtract from weights\n",
    "\n",
    "Formula Pseudocode:\n",
    "\n",
    "    [\"Repeat\" pseudocode from Andrew Ng]\n",
    "    \n",
    "http://www.holehouse.org/mlclass/06_Logistic_Regression.html\n",
    "\n",
    "Vectorized Gradient Descent\n",
    "\n",
    "    [Insert both formulas]\n",
    "    \n",
    "<b>Alternatives to Gradient Descent?</b><br>\n",
    "More sophisticated, faster ways to optimize θ that can be used instead of gradient descent.\n",
    "* Conjugate gradient\n",
    "* BFGS\n",
    "* L-BFGS\n",
    "\n",
    "Libraries use these! Don’t worry about it."
   ]
  },
  {
   "cell_type": "code",
   "execution_count": 118,
   "metadata": {
    "collapsed": false
   },
   "outputs": [
    {
     "data": {
      "text/plain": [
       "array([[-0.00250116],\n",
       "       [ 0.07881087],\n",
       "       [ 0.04696091]])"
      ]
     },
     "execution_count": 118,
     "metadata": {},
     "output_type": "execute_result"
    }
   ],
   "source": [
    "# Vectorized Gradient Descent\n",
    "# gradient = X.T * (X*W - y) / N\n",
    "# gradient = features.T * (predictions - labels) / N\n",
    "\n",
    "def update_weights(features, labels, weights, lr):\n",
    "    '''\n",
    "    Features:(200, 3)\n",
    "    Labels: (200, 1)\n",
    "    Weights:(3, 1)\n",
    "    '''    \n",
    "    N = len(features)\n",
    "\n",
    "    #1 - Get Predictions\n",
    "    predictions = predict(features, weights)\n",
    "    \n",
    "    #2 Transpose features from (200, 3) to (3, 200)\n",
    "    # So we can multiply w the (200,1)  cost matrix.\n",
    "    # Returns a (3,1) matrix holding 3 partial derivatives -- \n",
    "    # one for each feature -- representing the aggregate \n",
    "    # slope of the cost function across all observations\n",
    "    gradient = np.dot(features.T,  predictions - labels)\n",
    "\n",
    "    #3 Take the average cost derivative for each feature\n",
    "    gradient /= N\n",
    "\n",
    "    #4 - Multiply the gradient by our learning rate\n",
    "    gradient *= lr\n",
    "    \n",
    "    #5 - Subtract from our weights to minimize cost\n",
    "    weights -= gradient\n",
    "\n",
    "    return weights\n",
    "\n",
    "update_weights(features, labels, weights, .05)"
   ]
  },
  {
   "cell_type": "markdown",
   "metadata": {},
   "source": [
    "### Train"
   ]
  },
  {
   "cell_type": "code",
   "execution_count": 119,
   "metadata": {
    "collapsed": true
   },
   "outputs": [],
   "source": [
    "def train(features, labels, weights, lr, iters):\n",
    "    cost_history = []\n",
    "    \n",
    "    for i in range(iters):\n",
    "        weights = update_weights(features, labels, weights, lr)\n",
    "        \n",
    "        #Calculate error for auditing purposes\n",
    "        cost = cost_function(features, labels, weights)\n",
    "        cost_history.append(cost)\n",
    "        \n",
    "        # Log Progress\n",
    "        if i % 1000 == 0:\n",
    "            print \"iter: \"+str(i) + \" cost: \"+str(cost)\n",
    "\n",
    "\n",
    "    print \"Final cost: \"+str(cost) + \" weights:\"+str(weights)\n",
    "    return weights, cost_history"
   ]
  },
  {
   "cell_type": "markdown",
   "metadata": {},
   "source": [
    "### Visualize"
   ]
  },
  {
   "cell_type": "code",
   "execution_count": 120,
   "metadata": {
    "collapsed": true
   },
   "outputs": [],
   "source": [
    "def graph_cost(cost_history):\n",
    "    iterations = [i for i in range(1,len(cost_history)+1)]\n",
    "    plt.plot(iterations, cost_history)\n",
    "    plt.title('Cost')\n",
    "    plt.xlabel('Epochs')\n",
    "    plt.ylabel('Cost')\n",
    "    plt.show()"
   ]
  },
  {
   "cell_type": "markdown",
   "metadata": {},
   "source": [
    "### Run"
   ]
  },
  {
   "cell_type": "code",
   "execution_count": 196,
   "metadata": {
    "collapsed": false
   },
   "outputs": [],
   "source": [
    "def run():\n",
    "    # Set Hyperparameters\n",
    "    lr = .05\n",
    "    iters = 10000\n",
    "    \n",
    "    data = load_data()\n",
    "\n",
    "    features = data[:,[0,1]]\n",
    "    labels = data[:,2]\n",
    "    labels.shape = (100,1)\n",
    "\n",
    "    # Add Bias Column for W0\n",
    "    bias = np.ones(shape=(len(features),1))\n",
    "    features = np.append(bias, features, axis=1)\n",
    "\n",
    "    # Initialize Weights\n",
    "    W0 = 0.0\n",
    "    W1 = 0.0\n",
    "    W2 = 0.0\n",
    "    weights = np.array([\n",
    "            [W0],\n",
    "            [W1],\n",
    "            [W2],\n",
    "        ])\n",
    "    \n",
    "    # Train\n",
    "    print \"\\nTRAINING ----------\"\n",
    "    weights, cost_hist = train(features, labels, weights, lr, iters)\n",
    "    print \"\\nTRAINING COMPLETE ----------\"\n",
    "    print \"Weights\"\n",
    "    print weights\n",
    "\n",
    "    graph_error(cost_hist)\n",
    "\n",
    "    return data, features, labels, weights"
   ]
  },
  {
   "cell_type": "code",
   "execution_count": 206,
   "metadata": {
    "collapsed": false
   },
   "outputs": [
    {
     "name": "stdout",
     "output_type": "stream",
     "text": [
      "\n",
      "TRAINING ----------\n",
      "iter: 0 cost: [ 0.62909616]\n",
      "iter: 1000 cost: [ 0.35651754]\n",
      "iter: 2000 cost: [ 0.30245498]\n",
      "iter: 3000 cost: [ 0.2783982]\n",
      "iter: 4000 cost: [ 0.26444213]\n",
      "iter: 5000 cost: [ 0.25522521]\n",
      "iter: 6000 cost: [ 0.24865285]\n",
      "iter: 7000 cost: [ 0.24372276]\n",
      "iter: 8000 cost: [ 0.23988932]\n",
      "iter: 9000 cost: [ 0.23682766]\n",
      "Final cost: [ 0.23433342] weights:[[-9.85915014]\n",
      " [ 1.09178276]\n",
      " [ 0.89351049]]\n",
      "\n",
      "TRAINING COMPLETE ----------\n",
      "Weights\n",
      "[[-9.85915014]\n",
      " [ 1.09178276]\n",
      " [ 0.89351049]]\n"
     ]
    },
    {
     "data": {
      "image/png": "[encoded data removed]",
      "text/plain": [
       "<matplotlib.figure.Figure at 0x115977290>"
      ]
     },
     "metadata": {},
     "output_type": "display_data"
    }
   ],
   "source": [
    "observations, features, labels, weights = run()"
   ]
  },
  {
   "cell_type": "markdown",
   "metadata": {},
   "source": [
    "### Classify\n",
    "\n",
    "The final step is to convert assign predicted probabilities into class labels (0 or 1)"
   ]
  },
  {
   "cell_type": "code",
   "execution_count": 243,
   "metadata": {
    "collapsed": false
   },
   "outputs": [
    {
     "name": "stdout",
     "output_type": "stream",
     "text": [
      "14\n",
      "Predictions\n",
      "[ 0.98295878  0.40386361  0.00647436  0.80726131  0.98942331  0.00139871\n",
      "  0.69651518  0.99342948  0.96633361  0.06172406]\n",
      "Classifications\n",
      "[1 0 0 1 1 0 1 1 1 0]\n",
      "Labels\n",
      "[ 1.  0.  0.  1.  1.  0.  1.  1.  1.  0.]\n"
     ]
    }
   ],
   "source": [
    "# Helpers for classifying single observation\n",
    "def predict_observation(observation, weights):\n",
    "    '''\n",
    "    observation = (1,2)\n",
    "    weights = (1,3)\n",
    "    output = probability between 0 and 1\n",
    "    '''\n",
    "    return weights[0] + observation[1]*weights[1] + observation[2]*weights[2]\n",
    "\n",
    "#1 + 2*2 + 3*3 == 14\n",
    "assert predict_observation(np.array([1,2,3]),np.array([1,2,3])) == 14\n",
    "print predict_observation(np.array([1,2,3]),np.array([1,2,3]))\n",
    "\n",
    "#weights\n",
    "#-9.85915014  1.09178276  0.89351049\n",
    "\n",
    "def classify_observation(probability):\n",
    "    return 1 if probability >= .5 else 0\n",
    "\n",
    "assert classify_observation(.25) == 0\n",
    "assert classify_observation(.5) == 1\n",
    "assert classify_observation(.99) == 1\n",
    "    \n",
    "# Classify all predictions\n",
    "def classifier(predictions):\n",
    "    '''\n",
    "    predictions = N element array of numbers between 0 and 1\n",
    "    output = N element array of 0s (False) and 1s (True)\n",
    "    '''\n",
    "    vectorized_func = np.vectorize(classify_observation)\n",
    "    return vectorized_func(predictions).flatten()\n",
    "\n",
    "\n",
    "probabilities = predict(features, weights).flatten()\n",
    "classifications = classifier(predictions)\n",
    "print \"Predictions\"\n",
    "print predictions[:10]\n",
    "print \"Classifications\"\n",
    "print classifications[:10]\n",
    "print \"Labels\"\n",
    "print labels[:10].flatten()\n",
    "assert classifications[1] == labels.flatten()[1]"
   ]
  },
  {
   "cell_type": "markdown",
   "metadata": {},
   "source": [
    "### Model Evaluation\n",
    "\n",
    "- Visualize final line (binary) / lines (multi)\n",
    "- Confusion Matrix\n",
    "- TP/TN/FP/FN\n",
    "- Error/Likelihood Trend over time\n",
    "-Cross-validation?"
   ]
  },
  {
   "cell_type": "markdown",
   "metadata": {},
   "source": [
    "#### Accuracy"
   ]
  },
  {
   "cell_type": "code",
   "execution_count": 208,
   "metadata": {
    "collapsed": false
   },
   "outputs": [
    {
     "name": "stdout",
     "output_type": "stream",
     "text": [
      "0.89\n"
     ]
    }
   ],
   "source": [
    "def accuracy(predicted_labels, actual_labels):\n",
    "    diff = predicted_labels - actual_labels\n",
    "    return 1.0 - (float(np.count_nonzero(diff)) / len(diff))\n",
    "\n",
    "acc_predicted = np.array([1,0,0,1])\n",
    "acc_actual = np.array([1,0,0,0])\n",
    "assert accuracy(acc_predicted, acc_actual) == .75\n",
    "\n",
    "print accuracy(classifications,labels.flatten())"
   ]
  },
  {
   "cell_type": "markdown",
   "metadata": {},
   "source": [
    "#### Decision Boundary"
   ]
  },
  {
   "cell_type": "code",
   "execution_count": 298,
   "metadata": {
    "collapsed": false
   },
   "outputs": [
    {
     "name": "stdout",
     "output_type": "stream",
     "text": [
      "Example Trues\n",
      "(55, 1)\n",
      "[[ 0.971]\n",
      " [ 0.994]\n",
      " [ 0.94 ]\n",
      " [ 0.793]\n",
      " [ 1.   ]]\n",
      "Example Falses\n",
      "(45, 1)\n",
      "[[ 0.016]\n",
      " [ 0.553]\n",
      " [ 0.706]\n",
      " [ 0.003]\n",
      " [ 0.088]]\n"
     ]
    },
    {
     "data": {
      "image/png": "[encoded data removed]",
      "text/plain": [
       "<matplotlib.figure.Figure at 0x115dc6210>"
      ]
     },
     "metadata": {},
     "output_type": "display_data"
    }
   ],
   "source": [
    "trues_predictions = predict(add_bias(trues[:,[0,1]]),weights)\n",
    "falses_predictions = predict(add_bias(falses[:,[0,1]]),weights)\n",
    "print \"Example Trues\"\n",
    "print trues_predictions.shape\n",
    "print np.round(trues_predictions[:5],3)\n",
    "print \"Example Falses\"\n",
    "print falses_predictions.shape\n",
    "print np.round(falses_predictions[:5],3)\n",
    "\n",
    "\n",
    "def plot_decision_boundary(trues_preds, falses_preds, db):\n",
    "    fig = plt.figure()\n",
    "    ax = fig.add_subplot(111)\n",
    "    \n",
    "    no_of_preds = len(trues_preds) + len(falses_preds)\n",
    "    \n",
    "    ax.scatter([i for i in range(len(trues_preds))],trues_preds, s=25, c='b', marker=\"o\", label='Trues')\n",
    "    ax.scatter([i for i in range(len(falses_preds))],falses_preds, s=25, c='r', marker=\"s\", label='Falses')\n",
    "    \n",
    "    plt.legend(loc='upper right');\n",
    "    ax.set_title(\"Decision Boundary\")\n",
    "    ax.set_xlabel('N/2')\n",
    "    ax.set_ylabel('Predicted Probability')\n",
    "    plt.axhline(.5, color='black')\n",
    "    plt.show()\n",
    "    \n",
    "plot_decision_boundary(trues_predictions, falses_predictions, .5)"
   ]
  },
  {
   "cell_type": "markdown",
   "metadata": {},
   "source": [
    "### Multiclass Logistic Regression (One-vs-all)\n",
    "\n",
    "Instead of y = {0,1} we will expand our definition so that y = {0,1...n}. Basically we re-run binary classification multiple times, once for each class.\n",
    "\n",
    "Steps\n",
    "1. Divide the problem into n+1 binary classification problems (+1 because the index starts at 0?). \n",
    "2. For each class...\n",
    "3. Predict the probability the observations are in that single class.\n",
    "4. prediction = max(probability of the classes)\n",
    "\n",
    "For each sub-problem, we select one class (YES) and lump all the others into a second class (NO). Then we take the class with the highest predicted value.\n",
    "\n",
    "Visualize Output Graph\n",
    "What does it looks like with multiple classes and lines?\n",
    "\n",
    "Adding Bias\n",
    "Adding a bias (constant) feature is crucial to building a good model. Normally that feature is just a set of ones for all your training examples. (if X is your feature matrix then X0X0 is a vector with ones). Why? I’ve already explained this.\n"
   ]
  },
  {
   "cell_type": "markdown",
   "metadata": {},
   "source": [
    "### Code Examples"
   ]
  },
  {
   "cell_type": "markdown",
   "metadata": {},
   "source": [
    "#### Scikit-learn\n",
    "\n",
    "* http://scikit-learn.org/stable/modules/linear_model.html#logistic-regression\n",
    "* https://github.com/perborgen/LogisticRegression/blob/master/logistic.py"
   ]
  },
  {
   "cell_type": "markdown",
   "metadata": {},
   "source": [
    "#### Keras\n",
    "\n",
    "* https://medium.com/@the1ju/simple-logistic-regression-using-keras-249e0cc9a970#.genfwiw5g\n",
    "* http://www.thoughtly.co/blog/deep-learning-lesson-3/"
   ]
  },
  {
   "cell_type": "markdown",
   "metadata": {},
   "source": [
    "#### Theano\n",
    "\n",
    "* http://deeplearning.net/tutorial/logreg.html#logreg"
   ]
  },
  {
   "cell_type": "markdown",
   "metadata": {
    "collapsed": true
   },
   "source": [
    "### Resources\n",
    "\n",
    "* https://www.coursera.org/learn/machine-learning/resources/Zi29t\n",
    "* http://machinelearningmastery.com/logistic-regression-tutorial-for-machine-learning/\n",
    "* https://scilab.io/machine-learning-logistic-regression-tutorial/\n",
    "* http://www.ritchieng.com/logistic-regression/\n",
    "* [Dataset](http://scilab.io/wp-content/uploads/2016/07/data_classification.csv)"
   ]
  },
  {
   "cell_type": "code",
   "execution_count": null,
   "metadata": {
    "collapsed": true
   },
   "outputs": [],
   "source": []
  }
 ],
 "metadata": {
  "anaconda-cloud": {},
  "kernelspec": {
   "display_name": "Python [conda root]",
   "language": "python",
   "name": "conda-root-py"
  },
  "language_info": {
   "codemirror_mode": {
    "name": "ipython",
    "version": 2
   },
   "file_extension": ".py",
   "mimetype": "text/x-python",
   "name": "python",
   "nbconvert_exporter": "python",
   "pygments_lexer": "ipython2",
   "version": "2.7.12"
  }
 },
 "nbformat": 4,
 "nbformat_minor": 1
}
