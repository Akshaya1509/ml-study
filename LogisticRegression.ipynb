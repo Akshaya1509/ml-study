{
 "cells": [
  {
   "cell_type": "markdown",
   "metadata": {},
   "source": [
    "# Logistic Regression"
   ]
  },
  {
   "cell_type": "markdown",
   "metadata": {},
   "source": [
    "### Tutorials + Resources\n",
    "\n",
    "* https://www.coursera.org/learn/machine-learning/resources/Zi29t\n",
    "* "
   ]
  },
  {
   "cell_type": "markdown",
   "metadata": {},
   "source": [
    "### Imports"
   ]
  },
  {
   "cell_type": "code",
   "execution_count": 2,
   "metadata": {
    "collapsed": true
   },
   "outputs": [],
   "source": [
    "import numpy as np\n",
    "import pandas as pd\n",
    "import matplotlib.pyplot as plt\n",
    "from mpl_toolkits.mplot3d import Axes3D\n",
    "from matplotlib import colors\n",
    "import pylab\n",
    "\n",
    "DATA_DIR='data/'"
   ]
  },
  {
   "cell_type": "markdown",
   "metadata": {},
   "source": [
    "### Load Data"
   ]
  },
  {
   "cell_type": "code",
   "execution_count": 3,
   "metadata": {
    "collapsed": false
   },
   "outputs": [
    {
     "name": "stdout",
     "output_type": "stream",
     "text": [
      "Data Shape: (200, 4)\n",
      "Features shape: (200, 3)\n",
      "[[ 230.1   37.8   69.2]\n",
      " [  44.5   39.3   45.1]\n",
      " [  17.2   45.9   69.3]]\n",
      "Targets shape: (200, 1)\n",
      "[[ 22.1]\n",
      " [ 10.4]\n",
      " [  9.3]]\n"
     ]
    }
   ],
   "source": [
    "def load_data(filepath):\n",
    "    return np.loadtxt(filepath, skiprows=1, delimiter=\",\", usecols=(1,2,3,4))\n",
    "\n",
    "data = load_data(DATA_DIR+'Advertising.csv')\n",
    "print \"Data Shape: \"+str(data.shape)\n",
    "\n",
    "#Features are TV, Radio, Newspaper\n",
    "#The last column is Sales (y)\n",
    "features = data[:,[0,1,2]]\n",
    "targets = data[:,3]\n",
    "targets.shape = (200,1) #reshape to keep consistent w features\n",
    "\n",
    "print \"Features shape: \"+str(features.shape)\n",
    "print features[:3]\n",
    "print \"Targets shape: \"+str(targets.shape)\n",
    "print targets[:3]"
   ]
  },
  {
   "cell_type": "code",
   "execution_count": null,
   "metadata": {
    "collapsed": true
   },
   "outputs": [],
   "source": []
  }
 ],
 "metadata": {
  "anaconda-cloud": {},
  "kernelspec": {
   "display_name": "Python [conda root]",
   "language": "python",
   "name": "conda-root-py"
  },
  "language_info": {
   "codemirror_mode": {
    "name": "ipython",
    "version": 2
   },
   "file_extension": ".py",
   "mimetype": "text/x-python",
   "name": "python",
   "nbconvert_exporter": "python",
   "pygments_lexer": "ipython2",
   "version": "2.7.12"
  }
 },
 "nbformat": 4,
 "nbformat_minor": 1
}
