{
 "cells": [
  {
   "cell_type": "markdown",
   "metadata": {},
   "source": [
    "### Neural Network with Sigmoid for Regression\n",
    "\n",
    "Three-layer neural network for regression tasks using Sigmoid activation function"
   ]
  },
  {
   "cell_type": "code",
   "execution_count": 607,
   "metadata": {
    "collapsed": false
   },
   "outputs": [],
   "source": [
    "import numpy as np\n",
    "import matplotlib.pyplot as plt\n",
    "\n",
    "class NeuralNetwork():\n",
    "    def __init__(self, inputLayerSize, hiddenLayerSize, outputLayerSize):\n",
    "        self.inputLayerSize = inputLayerSize \n",
    "        self.hiddenLayerSize = hiddenLayerSize \n",
    "        self.outputLayerSize = outputLayerSize \n",
    "        \n",
    "        # Initialize Weights\n",
    "        self.Wh = 0.01 * np.random.randn(inputLayerSize, hiddenLayerSize)/np.sqrt(inputLayerSize)\n",
    "        self.Wo = 0.01 * np.random.randn(hiddenLayerSize, outputLayerSize)/np.sqrt(hiddenLayerSize)\n",
    "        print (self.Wh, self.Wo)\n",
    "        \n",
    "        # Initialize Biases\n",
    "        self.Bh = np.zeros((1, hiddenLayerSize))\n",
    "        self.Bo = np.zeros((1, outputLayerSize))\n",
    "        \n",
    "        # Normalized Data Range\n",
    "        self.minNorm = 0\n",
    "        self.maxNorm = 1\n",
    "        \n",
    "        # Weighted Inputs\n",
    "        self.Zh = None\n",
    "        self.Zo = None\n",
    "        \n",
    "        # Activations\n",
    "        self.Ah = None\n",
    "        self.Ao = None\n",
    "        self.output = self.Ao\n",
    "        \n",
    "    def normalize(self, X, newMin, newMax):\n",
    "        curMin = np.amin(X, axis=0)\n",
    "        curMax = np.amax(X, axis=0)\n",
    "        curRange = (curMax - curMin)  \n",
    "        newRange = (newMax - newMin)\n",
    "        return (((X - curMin) * newRange) / curRange) + newMin\n",
    "\n",
    "    def denormalize(self, normalized, oldMin, oldMax):\n",
    "        return normalize(normalized, oldMin, oldMax)\n",
    "\n",
    "    def sigmoid(self, z):\n",
    "        return 1/(1+np.exp(-z))\n",
    "    \n",
    "    def sigmoidGradient(self,z):\n",
    "        #http://mathworld.wolfram.com/SigmoidFunction.html\n",
    "        #Z = WeightedInput to the CurrentLayer\n",
    "        #We could alternatively pass in the Activation value\n",
    "        #At which point the formula would become Activation*(1-Activation)\n",
    "        #np.exp(-z)/((1+np.exp(-z))**2)\n",
    "        return self.sigmoid(z)*(1-self.sigmoid(z))\n",
    "    \n",
    "    def cost(self, X, y):\n",
    "        output = self.feed_forward(X)\n",
    "        cost = np.sum((output-y)**2) / 2.0\n",
    "        return cost\n",
    "    \n",
    "    def costGradient(self, output, y):\n",
    "        return output - y\n",
    "    \n",
    "    def dCdW(self, layer_input, layer_error):\n",
    "        #Derivative of Cost with respect to any weight in the network\n",
    "        return np.dot(layer_input.T, layer_error)\n",
    "            \n",
    "    def dCdB(self, curLayerError):\n",
    "        #Derivative of Cost with respect to the Bias of any neuron in the network\n",
    "        '''\n",
    "        CurLayerError has one row for each observation in our training set.\n",
    "        This is fine for dCdW because the matrix multiplication takes\n",
    "        care of transforming the output into dimensions that\n",
    "        equal our weight dimensions (so we can subtract).\n",
    "        However bias isn't multiplied by anything so we're stuck with \n",
    "        the dimensions of the output error. To fix this take the sum of\n",
    "        all the output errors across observations (we could also take the average\n",
    "        but our learning rate will handle scaling this value appropriately).\n",
    "        The operation below sums all the values in a matrix on the row axis (0).\n",
    "        It's essentially like summing all the rows into a single row. The column\n",
    "        dimensions remain unchanged.\n",
    "        '''\n",
    "        return np.sum(curLayerError, axis=0, keepdims=True)\n",
    "    \n",
    "    def feed_forward(self, X):\n",
    "        self.Zh = np.dot(X, self.Wh) + self.Bh\n",
    "        self.Ah = self.sigmoid(self.Zh)\n",
    "        self.Zo = np.dot(self.Ah, self.Wo) + self.Bo\n",
    "        self.Ao = self.sigmoid(self.Zo) #network output\n",
    "        return self.Ao\n",
    "    \n",
    "    def backprop(self, X, output, y):\n",
    "        err_output = self.costGradient(output, y) * self.sigmoidGradient(self.Zo)\n",
    "        err_hidden = np.dot(err_output, self.Wo.T) * self.sigmoidGradient(self.Zh)\n",
    "        \n",
    "        # Weight Gradients\n",
    "        dCdWh = self.dCdW(X, err_hidden)\n",
    "        dCdWo = self.dCdW(self.Ah, err_output)\n",
    "        \n",
    "        # Bias Gradients\n",
    "        dCdBh = self.dCdB(err_hidden)\n",
    "        dCdBo = self.dCdB(err_output)\n",
    "\n",
    "        return dCdWh, dCdWo, dCdBh, dCdBo\n",
    "    \n",
    "    def update_weights(self, X, y, lr):\n",
    "        output = self.feed_forward(X)\n",
    "        dCdWh, dCdWo, dCdBh, dCdBo = self.backprop(X, output, y)\n",
    "        \n",
    "        # Update Weights\n",
    "        self.Wh -= lr * dCdWh\n",
    "        self.Wo -= lr * dCdWo\n",
    "        \n",
    "        # Update Biases\n",
    "        self.Bh -= lr * dCdBh\n",
    "        self.Bo -= lr * dCdBo\n",
    "    \n",
    "        cost = self.cost(X, y)\n",
    "        return cost\n",
    "\n",
    "    def train(self, X, y, epochs, lr, log_interval):\n",
    "        X = self.normalize(X, self.minNorm, self.maxNorm)\n",
    "        y = self.normalize(y, self.minNorm, self.maxNorm)\n",
    "        cost_history = []\n",
    "        for epoch in range(1,epochs+1):\n",
    "            self.log(\"Epoch %d ---------------\" % epoch, epoch, log_interval)\n",
    "            cost = self.update_weights(X, y, lr)\n",
    "            cost_history.append(cost)\n",
    "            msg = \"Cost:\" + str(round(cost,5)) + \"\\n\"\n",
    "            self.log(msg, epoch, log_interval)\n",
    "        return cost_history\n",
    "    \n",
    "    def predict(self, X, y_min, y_max):\n",
    "        normalized_input = self.normalize(X, self.minNorm, self.maxNorm)\n",
    "        output = self.feed_forward(normalized_input)\n",
    "        denormalized_output = self.denormalize(output, y_min, y_max)\n",
    "        return denormalized_output\n",
    "    \n",
    "    def log(self, msg, epoch, log_interval):\n",
    "        if epoch % log_interval == 0:\n",
    "            print(msg)"
   ]
  },
  {
   "cell_type": "markdown",
   "metadata": {},
   "source": [
    "### Visualize"
   ]
  },
  {
   "cell_type": "code",
   "execution_count": 608,
   "metadata": {
    "collapsed": true
   },
   "outputs": [],
   "source": [
    "def graph(x, y, xlabel=\"X\", ylabel=\"Y\", title=\"X vs Y\"):\n",
    "    plt.plot(x, y)\n",
    "    plt.title(title)\n",
    "    plt.xlabel(xlabel)\n",
    "    plt.ylabel(ylabel)\n",
    "    plt.show()\n",
    "    \n",
    "def graph_error(error_history):\n",
    "    iterations = [i for i in range(1,len(error_history)+1)]\n",
    "    plt.plot(iterations, error_history)\n",
    "    plt.title('Error Rate')\n",
    "    plt.xlabel('Training Iterations')\n",
    "    plt.ylabel('Mean Squared Error')\n",
    "    plt.show()"
   ]
  },
  {
   "cell_type": "markdown",
   "metadata": {},
   "source": [
    "### Load Data"
   ]
  },
  {
   "cell_type": "code",
   "execution_count": 609,
   "metadata": {
    "collapsed": false
   },
   "outputs": [
    {
     "data": {
      "image/png": "[encoded data removed]",
      "text/plain": [
       "<matplotlib.figure.Figure at 0x10f76c400>"
      ]
     },
     "metadata": {},
     "output_type": "display_data"
    },
    {
     "data": {
      "image/png": "[encoded data removed]",
      "text/plain": [
       "<matplotlib.figure.Figure at 0x10f759c50>"
      ]
     },
     "metadata": {},
     "output_type": "display_data"
    }
   ],
   "source": [
    "def quadratic(x):\n",
    "    return x**2 + x + 3\n",
    "\n",
    "def get_quadratic_data(start=-6,end=6):\n",
    "    X = np.array([i for i in range(start,end)], dtype=\"float64\")    \n",
    "    X.shape = (len(X),1)\n",
    "    \n",
    "    y = np.array([quadratic(X[i]) for i in range(len(X))], dtype=\"float64\")\n",
    "    y.shape = (len(y),1)\n",
    "    \n",
    "    return X, y\n",
    "\n",
    "def cubic(x):\n",
    "    return x**3 + x**2 - x - 1\n",
    "\n",
    "def get_cubic_data(start=-6,end=6):\n",
    "    X = np.array([i for i in range(start,end)], dtype=\"float64\")    \n",
    "    X.shape = (len(X),1)\n",
    "    \n",
    "    y = np.array([cubic(X[i]) for i in range(len(X))], dtype=\"float64\")\n",
    "    y.shape = (len(y),1)\n",
    "    \n",
    "    return X, y\n",
    "\n",
    "cX, cy = get_cubic_data()\n",
    "graph(cX,cy)\n",
    "\n",
    "qX, qy = get_quadratic_data()\n",
    "graph(qX,qy)"
   ]
  },
  {
   "cell_type": "markdown",
   "metadata": {},
   "source": [
    "### Training"
   ]
  },
  {
   "cell_type": "code",
   "execution_count": 616,
   "metadata": {
    "collapsed": false
   },
   "outputs": [
    {
     "name": "stdout",
     "output_type": "stream",
     "text": [
      "[[ 0.00115943 -0.01139711]] [[-0.00588394]\n",
      " [-0.00189702]]\n"
     ]
    }
   ],
   "source": [
    "X,y = get_quadratic_data(-20,21)\n",
    "X,y = get_cubic_data(-5,6)\n",
    "nn = NeuralNetwork(1,2,1)"
   ]
  },
  {
   "cell_type": "code",
   "execution_count": null,
   "metadata": {
    "collapsed": false
   },
   "outputs": [
    {
     "name": "stdout",
     "output_type": "stream",
     "text": [
      "Epoch 5000 ---------------\n",
      "Cost:0.07147\n",
      "\n",
      "Epoch 10000 ---------------\n",
      "Cost:0.06618\n",
      "\n",
      "Epoch 15000 ---------------\n",
      "Cost:0.06265\n",
      "\n",
      "Epoch 20000 ---------------\n",
      "Cost:0.05869\n",
      "\n"
     ]
    }
   ],
   "source": [
    "cost_hist = nn.train(X,y,60000,.1,5000)\n",
    "print (cost[:3])\n",
    "print (cost[-3:])\n",
    "\n",
    "graph_error(cost_hist)"
   ]
  },
  {
   "cell_type": "code",
   "execution_count": 614,
   "metadata": {
    "collapsed": false
   },
   "outputs": [],
   "source": [
    "start,end = (-20,21)\n",
    "\n",
    "#Quadratic\n",
    "X,y = get_quadratic_data(start,end)\n",
    "output = nn.predict(X,y_min=0,y_max=quadratic(max(abs(start), abs(end))))\n",
    "\n",
    "quadratic(20)\n",
    "\n",
    "#Cubic\n",
    "X,y = get_cubic_data(start, end)\n",
    "output = nn.predict(X,y_min=cubic(start), y_max=cubic(end))"
   ]
  },
  {
   "cell_type": "code",
   "execution_count": 615,
   "metadata": {
    "collapsed": false
   },
   "outputs": [
    {
     "data": {
      "image/png": "[encoded data removed]",
      "text/plain": [
       "<matplotlib.figure.Figure at 0x10f04ba58>"
      ]
     },
     "metadata": {},
     "output_type": "display_data"
    }
   ],
   "source": [
    "plt.plot(X,y)\n",
    "plt.plot(X,output)\n",
    "plt.show()"
   ]
  },
  {
   "cell_type": "markdown",
   "metadata": {},
   "source": [
    "### Scikit-Learn Example"
   ]
  },
  {
   "cell_type": "code",
   "execution_count": 566,
   "metadata": {
    "collapsed": false
   },
   "outputs": [],
   "source": [
    "#https://scikit-neuralnetwork.readthedocs.io/en/latest/module_mlp.html#regressor\n",
    "from sknn.mlp import Regressor\n",
    "from sknn.mlp import Layer\n",
    "hiddenLayer = Layer(\"Sigmoid\", units=3)\n",
    "outputLayer = Layer(\"Linear\", units=1)\n",
    "nn = Regressor([hiddenLayer, outputLayer],learning_rule='sgd',learning_rate=.01,\n",
    "               batch_size=5,loss_type=\"mse\",debug=False,verbose=False,regularize=None)"
   ]
  },
  {
   "cell_type": "code",
   "execution_count": 567,
   "metadata": {
    "collapsed": false
   },
   "outputs": [
    {
     "name": "stdout",
     "output_type": "stream",
     "text": [
      "Initializing neural network with 2 layers, 1 inputs and 1 outputs.\n",
      "  - Dense: Sigmoid    Units:  3   \n",
      "  - Dense: Linear     Units:  1   \n",
      "\n",
      "Training on dataset of 11 samples with 22 total size.\n",
      "  - Early termination after 10 stable iterations.\n",
      "    1          2.627e+02                 N/A            0.0s\n",
      "    2          1.888e+02                 N/A            0.0s\n",
      "    3          4.005e+02                 N/A            0.0s\n",
      "    4          1.629e+02                 N/A            0.0s\n",
      "    5          1.195e+02                 N/A            0.0s\n",
      "    6          1.068e+02                 N/A            0.0s\n",
      "    7          1.007e+02                 N/A            0.0s\n",
      "    8          9.278e+01                 N/A            0.0s\n",
      "    9          8.761e+01                 N/A            0.0s\n",
      "   10          8.427e+01                 N/A            0.0s\n",
      "   11          8.442e+01                 N/A            0.0s\n",
      "   12          8.229e+01                 N/A            0.0s\n",
      "   13          9.281e+01                 N/A            0.0s\n",
      "   14          8.711e+01                 N/A            0.0s\n",
      "   15          7.144e+01                 N/A            0.0s\n",
      "   16          7.299e+01                 N/A            0.0s\n",
      "   17          7.634e+01                 N/A            0.0s\n",
      "   18          7.074e+01                 N/A            0.0s\n",
      "   19          6.719e+01                 N/A            0.0s\n",
      "   20          7.516e+01                 N/A            0.0s\n",
      "   21          1.709e+02                 N/A            0.0s\n",
      "   22          1.550e+02                 N/A            0.0s\n",
      "   23          1.422e+02                 N/A            0.0s\n",
      "   24          6.296e+01                 N/A            0.0s\n",
      "   25          6.647e+01                 N/A            0.0s\n",
      "   26          6.442e+01                 N/A            0.0s\n",
      "   27          5.833e+01                 N/A            0.0s\n",
      "   28          5.061e+01                 N/A            0.0s\n",
      "   29          5.019e+01                 N/A            0.0s\n",
      "   30          5.747e+01                 N/A            0.0s\n",
      "   31          5.611e+01                 N/A            0.0s\n",
      "   32          4.843e+01                 N/A            0.0s\n",
      "   33          6.221e+01                 N/A            0.0s\n",
      "   34          5.781e+01                 N/A            0.0s\n",
      "   35          4.570e+01                 N/A            0.0s\n",
      "   36          5.173e+01                 N/A            0.0s\n",
      "   37          4.440e+01                 N/A            0.0s\n",
      "   38          5.600e+01                 N/A            0.0s\n",
      "   39          5.333e+01                 N/A            0.0s\n",
      "   40          4.295e+01                 N/A            0.0s\n",
      "   41          5.181e+01                 N/A            0.0s\n",
      "   42          5.059e+01                 N/A            0.0s\n",
      "   43          4.624e+01                 N/A            0.0s\n",
      "   44          4.030e+01                 N/A            0.0s\n",
      "   45          9.718e+01                 N/A            0.0s\n",
      "   46          4.924e+01                 N/A            0.0s\n",
      "   47          4.890e+01                 N/A            0.0s\n",
      "   48          4.784e+01                 N/A            0.0s\n",
      "   49          4.478e+01                 N/A            0.0s\n",
      "   50          4.700e+01                 N/A            0.0s\n",
      "   51          4.528e+01                 N/A            0.0s\n",
      "   52          8.711e+01                 N/A            0.0s\n",
      "   53          3.798e+01                 N/A            0.0s\n",
      "   54          4.023e+01                 N/A            0.0s\n",
      "   55          4.376e+01                 N/A            0.0s\n",
      "   56          3.838e+01                 N/A            0.0s\n",
      "   57          4.373e+01                 N/A            0.0s\n",
      "   58          7.347e+01                 N/A            0.0s\n",
      "   59          3.321e+01                 N/A            0.0s\n",
      "   60          4.240e+01                 N/A            0.0s\n",
      "   61          4.024e+01                 N/A            0.0s\n",
      "   62          3.528e+01                 N/A            0.0s\n",
      "   63          3.152e+01                 N/A            0.0s\n",
      "   64          3.995e+01                 N/A            0.0s\n",
      "   65          3.376e+01                 N/A            0.0s\n",
      "   66          3.619e+01                 N/A            0.0s\n",
      "   67          3.752e+01                 N/A            0.0s\n",
      "   68          3.303e+01                 N/A            0.0s\n",
      "   69          2.920e+01                 N/A            0.0s\n",
      "   70          3.396e+01                 N/A            0.0s\n",
      "   71          3.250e+01                 N/A            0.0s\n",
      "   72          2.825e+01                 N/A            0.0s\n",
      "   73          3.340e+01                 N/A            0.0s\n",
      "   74          2.900e+01                 N/A            0.0s\n",
      "   75          3.038e+01                 N/A            0.0s\n",
      "   76          3.128e+01                 N/A            0.0s\n",
      "   77          6.048e+01                 N/A            0.0s\n",
      "   78          3.458e+01                 N/A            0.0s\n",
      "   79          2.685e+01                 N/A            0.0s\n",
      "   80          2.603e+01                 N/A            0.0s\n",
      "   81          3.046e+01                 N/A            0.0s\n",
      "   82          2.664e+01                 N/A            0.0s\n",
      "   83          5.829e+01                 N/A            0.0s\n",
      "   84          2.607e+01                 N/A            0.0s\n",
      "   85          2.506e+01                 N/A            0.0s\n",
      "   86          5.443e+01                 N/A            0.0s\n",
      "   87          3.378e+01                 N/A            0.0s\n",
      "   88          3.192e+01                 N/A            0.0s\n",
      "   89          2.894e+01                 N/A            0.0s\n",
      "   90          3.032e+01                 N/A            0.0s\n",
      "   91          2.422e+01                 N/A            0.0s\n",
      "   92          5.453e+01                 N/A            0.0s\n",
      "   93          2.415e+01                 N/A            0.0s\n",
      "   94          2.237e+01                 N/A            0.0s\n",
      "   95          2.246e+01                 N/A            0.0s\n",
      "   96          2.256e+01                 N/A            0.0s\n",
      "   97          2.922e+01                 N/A            0.0s\n",
      "   98          2.818e+01                 N/A            0.0s\n",
      "   99          2.210e+01                 N/A            0.0s\n",
      "  100          4.746e+01                 N/A            0.0s\n",
      "  101          2.420e+01                 N/A            0.0s\n",
      "  102          2.427e+01                 N/A            0.0s\n",
      "  103          4.913e+01                 N/A            0.0s\n",
      "  104          2.860e+01                 N/A            0.0s\n",
      "  105          2.106e+01                 N/A            0.0s\n",
      "  106          2.649e+01                 N/A            0.0s\n",
      "  107          2.391e+01                 N/A            0.0s\n",
      "  108          4.811e+01                 N/A            0.0s\n",
      "  109          4.064e+01                 N/A            0.0s\n",
      "  110          4.534e+01                 N/A            0.0s\n",
      "  111          2.182e+01                 N/A            0.0s\n",
      "  112          2.605e+01                 N/A            0.0s\n",
      "  113          1.871e+01                 N/A            0.0s\n",
      "  114          2.601e+01                 N/A            0.0s\n",
      "  115          1.845e+01                 N/A            0.0s\n",
      "  116          2.397e+01                 N/A            0.0s\n",
      "  117          2.009e+01                 N/A            0.0s\n",
      "  118          4.231e+01                 N/A            0.0s\n",
      "  119          2.040e+01                 N/A            0.0s\n",
      "  120          2.390e+01                 N/A            0.0s\n",
      "  121          1.916e+01                 N/A            0.0s\n",
      "  122          2.240e+01                 N/A            0.0s\n",
      "  123          1.715e+01                 N/A            0.0s\n",
      "  124          1.813e+01                 N/A            0.0s\n",
      "  125          1.841e+01                 N/A            0.0s\n",
      "  126          2.177e+01                 N/A            0.0s\n",
      "  127          3.380e+01                 N/A            0.0s\n",
      "  128          1.827e+01                 N/A            0.0s\n",
      "  129          1.589e+01                 N/A            0.0s\n",
      "  130          1.525e+01                 N/A            0.0s\n",
      "  131          2.096e+01                 N/A            0.0s\n",
      "  132          3.114e+01                 N/A            0.0s\n",
      "  133          1.997e+01                 N/A            0.0s\n",
      "  134          1.726e+01                 N/A            0.0s\n",
      "  135          2.039e+01                 N/A            0.0s\n",
      "  136          3.725e+01                 N/A            0.0s\n",
      "  137          2.054e+01                 N/A            0.0s\n",
      "  138          1.466e+01                 N/A            0.0s\n",
      "  139          2.852e+01                 N/A            0.0s\n",
      "  140          1.969e+01                 N/A            0.0s\n",
      "  141          1.896e+01                 N/A            0.0s\n",
      "  142          1.551e+01                 N/A            0.0s\n",
      "  143          1.338e+01                 N/A            0.0s\n",
      "  144          2.661e+01                 N/A            0.0s\n",
      "  145          1.827e+01                 N/A            0.0s\n",
      "  146          3.478e+01                 N/A            0.0s\n",
      "  147          2.541e+01                 N/A            0.0s\n",
      "  148          1.898e+01                 N/A            0.0s\n",
      "  149          1.768e+01                 N/A            0.0s\n",
      "  150          2.395e+01                 N/A            0.0s\n",
      "  151          1.893e+01                 N/A            0.0s\n",
      "  152          1.266e+01                 N/A            0.0s\n",
      "  153          3.273e+01                 N/A            0.0s\n",
      "  154          1.802e+01                 N/A            0.0s\n",
      "  155          2.232e+01                 N/A            0.0s\n",
      "  156          1.401e+01                 N/A            0.0s\n",
      "  157          3.031e+01                 N/A            0.0s\n",
      "  158          1.767e+01                 N/A            0.0s\n",
      "  159          1.641e+01                 N/A            0.0s\n",
      "  160          1.585e+01                 N/A            0.0s\n",
      "  161          1.085e+01                 N/A            0.0s\n",
      "  162          1.096e+01                 N/A            0.0s\n",
      "  163          1.567e+01                 N/A            0.0s\n",
      "  164          1.112e+01                 N/A            0.0s\n",
      "  165          1.096e+01                 N/A            0.0s\n",
      "  166          1.590e+01                 N/A            0.0s\n",
      "  167          1.212e+01                 N/A            0.0s\n",
      "  168          1.080e+01                 N/A            0.0s\n",
      "  169          1.206e+01                 N/A            0.0s\n",
      "  170          1.106e+01                 N/A            0.0s\n",
      "  171          1.098e+01                 N/A            0.0s\n",
      "  172          1.425e+01                 N/A            0.0s\n",
      "  173          1.983e+01                 N/A            0.0s\n",
      "  174          1.415e+01                 N/A            0.0s\n",
      "  175          1.068e+01                 N/A            0.0s\n",
      "  176          1.273e+01                 N/A            0.0s\n",
      "  177          1.059e+01                 N/A            0.0s\n",
      "  178          1.053e+01                 N/A            0.0s\n",
      "  179          1.008e+01                 N/A            0.0s\n",
      "  180          1.347e+01                 N/A            0.0s\n",
      "  181          1.053e+01                 N/A            0.0s\n",
      "  182          1.800e+01                 N/A            0.0s\n",
      "  183          1.495e+01                 N/A            0.0s\n",
      "  184          1.106e+01                 N/A            0.0s\n",
      "  185          2.724e+01                 N/A            0.0s\n",
      "  186          1.214e+01                 N/A            0.0s\n",
      "  187          1.066e+01                 N/A            0.0s\n",
      "  188          9.072e+00                 N/A            0.0s\n",
      "  189          2.534e+01                 N/A            0.0s\n",
      "  190          1.167e+01                 N/A            0.0s\n",
      "  191          1.639e+01                 N/A            0.0s\n",
      "  192          1.365e+01                 N/A            0.0s\n",
      "  193          9.722e+00                 N/A            0.0s\n",
      "  194          8.709e+00                 N/A            0.0s\n",
      "  195          8.399e+00                 N/A            0.0s\n",
      "  196          8.335e+00                 N/A            0.0s\n",
      "  197          1.200e+01                 N/A            0.0s\n",
      "  198          8.542e+00                 N/A            0.0s\n",
      "  199          1.023e+01                 N/A            0.0s\n",
      "  200          9.403e+00                 N/A            0.0s\n",
      "  201          1.282e+01                 N/A            0.0s\n",
      "  202          1.173e+01                 N/A            0.0s\n",
      "  203          8.950e+00                 N/A            0.0s\n",
      "  204          8.754e+00                 N/A            0.0s\n",
      "  205          1.189e+01                 N/A            0.0s\n",
      "  206          8.359e+00                 N/A            0.0s\n",
      "\n",
      "Early termination condition fired at 206 iterations.\n"
     ]
    },
    {
     "data": {
      "image/png": "[encoded data removed]",
      "text/plain": [
       "<matplotlib.figure.Figure at 0x10f4b1e80>"
      ]
     },
     "metadata": {},
     "output_type": "display_data"
    }
   ],
   "source": [
    "X,y = get_quadratic_data(-5,6)\n",
    "nn.fit(X,y)\n",
    "predictions = nn.predict(X)\n",
    "plt.plot(predictions)\n",
    "plt.plot(y)\n",
    "plt.show()"
   ]
  },
  {
   "cell_type": "code",
   "execution_count": null,
   "metadata": {
    "collapsed": true
   },
   "outputs": [],
   "source": []
  },
  {
   "cell_type": "code",
   "execution_count": null,
   "metadata": {
    "collapsed": true
   },
   "outputs": [],
   "source": []
  }
 ],
 "metadata": {
  "kernelspec": {
   "display_name": "Python 3",
   "language": "python",
   "name": "python3"
  }
 },
 "nbformat": 4,
 "nbformat_minor": 2
}
